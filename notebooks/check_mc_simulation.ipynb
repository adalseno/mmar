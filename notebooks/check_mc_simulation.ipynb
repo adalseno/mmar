{
 "cells": [
  {
   "cell_type": "markdown",
   "metadata": {},
   "source": [
    "## Check Monte Carlo Simulation\n",
    "Check if we can afford to reduce the number of simulations to 100,00 and still get reliable results, to speed up the creation of the dataset for ML models"
   ]
  },
  {
   "cell_type": "code",
   "execution_count": 27,
   "metadata": {},
   "outputs": [],
   "source": [
    "from dotenv import dotenv_values\n",
    "import numpy as np\n",
    "import os\n",
    "import pandas as pd\n",
    "import matplotlib.pyplot as plt\n",
    "import yfinance as yf\n",
    "import warnings\n",
    "from scipy import stats as st\n",
    "from tqdm.notebook import tqdm\n",
    "import time\n",
    "from IPython.display import display\n",
    "\n",
    "warnings.filterwarnings(\"ignore\")\n",
    "import sys\n",
    "from pathlib import Path\n",
    "\n",
    "# in jupyter (lab / notebook), based on notebook path\n",
    "module_path = str(Path.cwd().parents[0] / \"src\")\n",
    "\n",
    "\n",
    "if module_path not in sys.path:\n",
    "    sys.path.append(module_path)\n",
    "    \n",
    "from MMAR.MMAR import MMAR"
   ]
  },
  {
   "cell_type": "markdown",
   "metadata": {},
   "source": [
    "### Load variables"
   ]
  },
  {
   "cell_type": "code",
   "execution_count": 2,
   "metadata": {},
   "outputs": [],
   "source": [
    "start_date = \"2005-01-01\"\n",
    "end_date = \"2022-12-31\"\n",
    "df_path = \"../data/raw/spy.csv\""
   ]
  },
  {
   "cell_type": "code",
   "execution_count": 3,
   "metadata": {},
   "outputs": [],
   "source": [
    "config = dotenv_values(\"../config/.env\")"
   ]
  },
  {
   "cell_type": "code",
   "execution_count": 4,
   "metadata": {},
   "outputs": [],
   "source": [
    "ALPHA_API = config[\"ALPHA_API\"]"
   ]
  },
  {
   "cell_type": "code",
   "execution_count": 5,
   "metadata": {},
   "outputs": [],
   "source": [
    "def get_df(path: str) -> pd.DataFrame:\n",
    "    if os.path.isfile(path):\n",
    "        df = pd.read_csv(path, parse_dates=True, index_col=0)\n",
    "    else:\n",
    "        df = yf.download(\"SPY\", start=start_date, end=end_date)\n",
    "        df.to_csv(path)\n",
    "    return df"
   ]
  },
  {
   "cell_type": "markdown",
   "metadata": {},
   "source": [
    "### Get files"
   ]
  },
  {
   "cell_type": "code",
   "execution_count": 6,
   "metadata": {},
   "outputs": [],
   "source": [
    "spy = get_df(df_path)"
   ]
  },
  {
   "cell_type": "code",
   "execution_count": 7,
   "metadata": {},
   "outputs": [],
   "source": [
    "spy = spy[spy.index < \"31-12-2017\"]"
   ]
  },
  {
   "cell_type": "markdown",
   "metadata": {},
   "source": [
    "### Simulation using various sizes and steps"
   ]
  },
  {
   "cell_type": "code",
   "execution_count": 9,
   "metadata": {},
   "outputs": [],
   "source": [
    "mmar = MMAR(spy[\"Close\"], volume=spy[\"Volume\"])"
   ]
  },
  {
   "cell_type": "code",
   "execution_count": 30,
   "metadata": {},
   "outputs": [],
   "source": [
    "S0 = spy.Close.iloc[-1]\n",
    "steps = [21, 252, 504]\n",
    "num_simulations = [100_000, 250_000, 500_000, 1_000_000]"
   ]
  },
  {
   "cell_type": "code",
   "execution_count": 31,
   "metadata": {},
   "outputs": [
    {
     "name": "stdout",
     "output_type": "stream",
     "text": [
      "Steps: 21\n",
      "Using 100,000 simlations and 21 steps, the final price is 267.10 with std: 11.61, in 0.27 seconds.\n",
      "Using 250,000 simlations and 21 steps, the final price is 267.08 with std: 11.60, in 0.08 seconds.\n",
      "Using 500,000 simlations and 21 steps, the final price is 267.13 with std: 11.60, in 0.29 seconds.\n",
      "Using 1,000,000 simlations and 21 steps, the final price is 267.10 with std: 11.60, in 0.30 seconds.\n",
      "\n",
      "Steps: 252\n",
      "Using 100,000 simlations and 252 steps, the final price is 269.26 with std: 36.32, in 0.29 seconds.\n",
      "Using 250,000 simlations and 252 steps, the final price is 269.28 with std: 36.54, in 0.89 seconds.\n",
      "Using 500,000 simlations and 252 steps, the final price is 269.33 with std: 36.47, in 1.71 seconds.\n",
      "Using 1,000,000 simlations and 252 steps, the final price is 269.31 with std: 36.45, in 3.39 seconds.\n",
      "\n",
      "Steps: 504\n",
      "Using 100,000 simlations and 504 steps, the final price is 272.70 with std: 58.71, in 0.65 seconds.\n",
      "Using 250,000 simlations and 504 steps, the final price is 272.92 with std: 58.72, in 1.81 seconds.\n",
      "Using 500,000 simlations and 504 steps, the final price is 273.02 with std: 58.66, in 3.71 seconds.\n",
      "Using 1,000,000 simlations and 504 steps, the final price is 273.05 with std: 58.63, in 8.14 seconds.\n",
      "\n"
     ]
    }
   ],
   "source": [
    "results = {}\n",
    "for n in steps:\n",
    "    print(f\"Steps: {n}\")\n",
    "    results[n] = {}\n",
    "    for num_sim in num_simulations:\n",
    "        start = time.time()\n",
    "        simulation = mmar.get_MMAR_MC(S0, n=n, num_sim=num_sim)\n",
    "        stop = time.time()\n",
    "        price = simulation[:, -1:].mean()\n",
    "        std = simulation[:, -1:].std()\n",
    "        exec_time = stop-start\n",
    "        print(f\"Using {num_sim:,.0f} simlations and {n} steps, the final price is {price:.2f} with std: {std:.2f}, in {exec_time:.2f} seconds.\")\n",
    "        results[n][num_sim]={\"Price\":price, \"Std\":std, \"Exec_Time\":exec_time}\n",
    "    print()"
   ]
  },
  {
   "cell_type": "code",
   "execution_count": 49,
   "metadata": {},
   "outputs": [
    {
     "name": "stdout",
     "output_type": "stream",
     "text": [
      "Number of steps: 21\n"
     ]
    },
    {
     "data": {
      "text/html": [
       "<div>\n",
       "<style scoped>\n",
       "    .dataframe tbody tr th:only-of-type {\n",
       "        vertical-align: middle;\n",
       "    }\n",
       "\n",
       "    .dataframe tbody tr th {\n",
       "        vertical-align: top;\n",
       "    }\n",
       "\n",
       "    .dataframe thead th {\n",
       "        text-align: right;\n",
       "    }\n",
       "</style>\n",
       "<table border=\"1\" class=\"dataframe\">\n",
       "  <thead>\n",
       "    <tr style=\"text-align: right;\">\n",
       "      <th></th>\n",
       "      <th>Price</th>\n",
       "      <th>Std</th>\n",
       "      <th>Exec_Time</th>\n",
       "      <th>ci_high</th>\n",
       "      <th>ci_low</th>\n",
       "    </tr>\n",
       "  </thead>\n",
       "  <tbody>\n",
       "    <tr>\n",
       "      <th>100000</th>\n",
       "      <td>267.10</td>\n",
       "      <td>11.61</td>\n",
       "      <td>0.27</td>\n",
       "      <td>267.13</td>\n",
       "      <td>267.06</td>\n",
       "    </tr>\n",
       "    <tr>\n",
       "      <th>250000</th>\n",
       "      <td>267.08</td>\n",
       "      <td>11.60</td>\n",
       "      <td>0.08</td>\n",
       "      <td>267.10</td>\n",
       "      <td>267.06</td>\n",
       "    </tr>\n",
       "    <tr>\n",
       "      <th>500000</th>\n",
       "      <td>267.13</td>\n",
       "      <td>11.60</td>\n",
       "      <td>0.29</td>\n",
       "      <td>267.14</td>\n",
       "      <td>267.11</td>\n",
       "    </tr>\n",
       "    <tr>\n",
       "      <th>1000000</th>\n",
       "      <td>267.10</td>\n",
       "      <td>11.60</td>\n",
       "      <td>0.30</td>\n",
       "      <td>267.11</td>\n",
       "      <td>267.09</td>\n",
       "    </tr>\n",
       "  </tbody>\n",
       "</table>\n",
       "</div>"
      ],
      "text/plain": [
       "          Price    Std  Exec_Time  ci_high  ci_low\n",
       "100000   267.10  11.61       0.27   267.13  267.06\n",
       "250000   267.08  11.60       0.08   267.10  267.06\n",
       "500000   267.13  11.60       0.29   267.14  267.11\n",
       "1000000  267.10  11.60       0.30   267.11  267.09"
      ]
     },
     "metadata": {},
     "output_type": "display_data"
    },
    {
     "name": "stdout",
     "output_type": "stream",
     "text": [
      "\n",
      "Number of steps: 252\n"
     ]
    },
    {
     "data": {
      "text/html": [
       "<div>\n",
       "<style scoped>\n",
       "    .dataframe tbody tr th:only-of-type {\n",
       "        vertical-align: middle;\n",
       "    }\n",
       "\n",
       "    .dataframe tbody tr th {\n",
       "        vertical-align: top;\n",
       "    }\n",
       "\n",
       "    .dataframe thead th {\n",
       "        text-align: right;\n",
       "    }\n",
       "</style>\n",
       "<table border=\"1\" class=\"dataframe\">\n",
       "  <thead>\n",
       "    <tr style=\"text-align: right;\">\n",
       "      <th></th>\n",
       "      <th>Price</th>\n",
       "      <th>Std</th>\n",
       "      <th>Exec_Time</th>\n",
       "      <th>ci_high</th>\n",
       "      <th>ci_low</th>\n",
       "    </tr>\n",
       "  </thead>\n",
       "  <tbody>\n",
       "    <tr>\n",
       "      <th>100000</th>\n",
       "      <td>269.26</td>\n",
       "      <td>36.32</td>\n",
       "      <td>0.29</td>\n",
       "      <td>269.38</td>\n",
       "      <td>269.15</td>\n",
       "    </tr>\n",
       "    <tr>\n",
       "      <th>250000</th>\n",
       "      <td>269.28</td>\n",
       "      <td>36.54</td>\n",
       "      <td>0.89</td>\n",
       "      <td>269.35</td>\n",
       "      <td>269.20</td>\n",
       "    </tr>\n",
       "    <tr>\n",
       "      <th>500000</th>\n",
       "      <td>269.33</td>\n",
       "      <td>36.47</td>\n",
       "      <td>1.71</td>\n",
       "      <td>269.38</td>\n",
       "      <td>269.28</td>\n",
       "    </tr>\n",
       "    <tr>\n",
       "      <th>1000000</th>\n",
       "      <td>269.31</td>\n",
       "      <td>36.45</td>\n",
       "      <td>3.39</td>\n",
       "      <td>269.35</td>\n",
       "      <td>269.27</td>\n",
       "    </tr>\n",
       "  </tbody>\n",
       "</table>\n",
       "</div>"
      ],
      "text/plain": [
       "          Price    Std  Exec_Time  ci_high  ci_low\n",
       "100000   269.26  36.32       0.29   269.38  269.15\n",
       "250000   269.28  36.54       0.89   269.35  269.20\n",
       "500000   269.33  36.47       1.71   269.38  269.28\n",
       "1000000  269.31  36.45       3.39   269.35  269.27"
      ]
     },
     "metadata": {},
     "output_type": "display_data"
    },
    {
     "name": "stdout",
     "output_type": "stream",
     "text": [
      "\n",
      "Number of steps: 504\n"
     ]
    },
    {
     "data": {
      "text/html": [
       "<div>\n",
       "<style scoped>\n",
       "    .dataframe tbody tr th:only-of-type {\n",
       "        vertical-align: middle;\n",
       "    }\n",
       "\n",
       "    .dataframe tbody tr th {\n",
       "        vertical-align: top;\n",
       "    }\n",
       "\n",
       "    .dataframe thead th {\n",
       "        text-align: right;\n",
       "    }\n",
       "</style>\n",
       "<table border=\"1\" class=\"dataframe\">\n",
       "  <thead>\n",
       "    <tr style=\"text-align: right;\">\n",
       "      <th></th>\n",
       "      <th>Price</th>\n",
       "      <th>Std</th>\n",
       "      <th>Exec_Time</th>\n",
       "      <th>ci_high</th>\n",
       "      <th>ci_low</th>\n",
       "    </tr>\n",
       "  </thead>\n",
       "  <tbody>\n",
       "    <tr>\n",
       "      <th>100000</th>\n",
       "      <td>272.70</td>\n",
       "      <td>58.71</td>\n",
       "      <td>0.65</td>\n",
       "      <td>272.88</td>\n",
       "      <td>272.51</td>\n",
       "    </tr>\n",
       "    <tr>\n",
       "      <th>250000</th>\n",
       "      <td>272.92</td>\n",
       "      <td>58.72</td>\n",
       "      <td>1.81</td>\n",
       "      <td>273.03</td>\n",
       "      <td>272.80</td>\n",
       "    </tr>\n",
       "    <tr>\n",
       "      <th>500000</th>\n",
       "      <td>273.02</td>\n",
       "      <td>58.66</td>\n",
       "      <td>3.71</td>\n",
       "      <td>273.11</td>\n",
       "      <td>272.94</td>\n",
       "    </tr>\n",
       "    <tr>\n",
       "      <th>1000000</th>\n",
       "      <td>273.05</td>\n",
       "      <td>58.63</td>\n",
       "      <td>8.14</td>\n",
       "      <td>273.11</td>\n",
       "      <td>272.99</td>\n",
       "    </tr>\n",
       "  </tbody>\n",
       "</table>\n",
       "</div>"
      ],
      "text/plain": [
       "          Price    Std  Exec_Time  ci_high  ci_low\n",
       "100000   272.70  58.71       0.65   272.88  272.51\n",
       "250000   272.92  58.72       1.81   273.03  272.80\n",
       "500000   273.02  58.66       3.71   273.11  272.94\n",
       "1000000  273.05  58.63       8.14   273.11  272.99"
      ]
     },
     "metadata": {},
     "output_type": "display_data"
    },
    {
     "name": "stdout",
     "output_type": "stream",
     "text": [
      "\n"
     ]
    }
   ],
   "source": [
    "for k in results.keys():\n",
    "    print(f\"Number of steps: {k}\")\n",
    "    display(pd.DataFrame.from_dict(results[k], orient=\"index\")\n",
    "    .assign(ci_high= lambda df: df.Price + df.Std/np.sqrt(df.index))\n",
    "    .assign(ci_low= lambda df: df.Price - df.Std/np.sqrt(df.index))\n",
    "    .round(decimals=2)\n",
    "    )\n",
    "    print()"
   ]
  },
  {
   "cell_type": "markdown",
   "metadata": {},
   "source": [
    "Since we concentrate on the monthly time frame (21 days), we consider the error acceptable."
   ]
  }
 ],
 "metadata": {
  "kernelspec": {
   "display_name": ".venv",
   "language": "python",
   "name": "python3"
  },
  "language_info": {
   "codemirror_mode": {
    "name": "ipython",
    "version": 3
   },
   "file_extension": ".py",
   "mimetype": "text/x-python",
   "name": "python",
   "nbconvert_exporter": "python",
   "pygments_lexer": "ipython3",
   "version": "3.11.6"
  }
 },
 "nbformat": 4,
 "nbformat_minor": 2
}
