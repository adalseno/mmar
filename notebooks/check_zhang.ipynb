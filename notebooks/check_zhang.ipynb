{
 "cells": [
  {
   "cell_type": "code",
   "execution_count": 1,
   "metadata": {},
   "outputs": [],
   "source": [
    "import warnings\n",
    "import numpy as np\n",
    "import pandas as pd\n",
    "\n",
    "\n",
    "import sys\n",
    "from pathlib import Path\n",
    "# in jupyter (lab / notebook), based on notebook path\n",
    "module_path = str(Path.cwd().parents[0] / \"src\")\n",
    "\n",
    "\n",
    "if module_path not in sys.path:\n",
    "    sys.path.append(module_path)\n",
    "\n",
    "from HurstIndexSolver.HurstIndexSolver import HurstIndexSolver\n",
    "from tqdm.notebook import tqdm\n",
    "from IPython.display import display, Markdown\n",
    "import joblib\n",
    "import seaborn as sns\n",
    "import matplotlib.pyplot as plt\n",
    "warnings.filterwarnings(\"ignore\")"
   ]
  },
  {
   "cell_type": "code",
   "execution_count": 2,
   "metadata": {},
   "outputs": [],
   "source": [
    "def feval(func: str, para: str, Class=\"\"):\n",
    "    if len(Class) != 0:\n",
    "        Class += \".\"\n",
    "    func = Class + func + \"({:s})\"\n",
    "    return eval(func.format(para))\n"
   ]
  },
  {
   "cell_type": "code",
   "execution_count": 3,
   "metadata": {},
   "outputs": [],
   "source": [
    "N, m = 30000, 30\n",
    "Hlist = np.linspace(0.3, 0.8, 11)\n",
    "\n",
    "Methods = {\n",
    "    'AM'  : [\"EstHurstAbsoluteMoments\", \", minimal=minimal, method='L2'\"],\n",
    "    'AV'  : [\"EstHurstAggregateVariance\",  \", minimal=minimal, method='L2'\"],\n",
    "    'GHE' : [\"EstHurstGHE\", \", method='L2'\"],\n",
    "    'HM'  : [\"EstHurstHiguchi\", \", method='L2'\"],\n",
    "    'DFA' : [\"EstHurstDFAnalysis\",\", minimal=minimal, method='L2'\"],\n",
    "    'VRR' : [\"EstHurstRegrResid\", \"\"],\n",
    "    'RS'  : [\"EstHurstRSAnalysis\",\", minimal=minimal, method='L2'\"],\n",
    "    'RS2' : [\"RS4Hurst\",\", minimal=minimal, method='L2'\"],\n",
    "    'TTA' : [\"EstHurstTTA\", \", method='L2'\"],\n",
    "    'PM'  : [\"EstHurstPeriodogram\", \", cutoff=0.3, method='L2'\"],\n",
    "    'AWC' : [\"EstHurstAWC\", \", method='L2'\"],\n",
    "    'VVL' : [\"EstHurstVVL\", \", method='L2'\"],\n",
    "    'LW'  : [\"EstHurstLocalWhittle\", \"\"],\n",
    "    'LSSD': [\"EstHurstLSSD\", \", max_scale=maxscale\"],\n",
    "    'LSV' : [\"EstHurstLSV\", \", max_scale=maxscale\"]\n",
    "    }\n",
    "\n",
    "HSolver = HurstIndexSolver()\n",
    "samples = [30_000, 10_000, 5_000, 1_000, 252]\n",
    "result = {}\n",
    "\n"
   ]
  },
  {
   "cell_type": "code",
   "execution_count": null,
   "metadata": {},
   "outputs": [],
   "source": [
    "for sample in tqdm(samples):\n",
    "    result[sample] = {}\n",
    "    maxscale = 100\n",
    "    minimal = min(sample//10,50)\n",
    "    for method in tqdm(Methods):\n",
    "        name = Methods[method][0]\n",
    "        addParas = Methods[method][1]\n",
    "        result[sample][method] = {}\n",
    "        for H in Hlist:\n",
    "            h = []\n",
    "            file = \"..data/raw/zhang/FGN_{:.2f}_30.csv\".format(H)\n",
    "            fH = pd.read_csv(file).values\n",
    "            result[sample][method][H] = {}\n",
    "            for i in range(m):\n",
    "                ts = fH[-sample:, i]\n",
    "                htmp = feval(name, \"ts\" + addParas, Class=\"HSolver\")\n",
    "                h.append(htmp)\n",
    "                result[sample][method][H][i] =htmp"
   ]
  },
  {
   "cell_type": "code",
   "execution_count": null,
   "metadata": {},
   "outputs": [],
   "source": [
    "# Save dict for later use\n",
    "joblib.dump(result, \"result_dict.pkl.gz\")"
   ]
  },
  {
   "cell_type": "code",
   "execution_count": null,
   "metadata": {},
   "outputs": [],
   "source": [
    "def extract_df(result:dict, size:int)->pd.DataFrame:\n",
    "    user_ids = []\n",
    "    frames = []\n",
    "    \n",
    "    for user_id, d in result[size].items():\n",
    "        user_ids.append(user_id)\n",
    "        frames.append(pd.DataFrame.from_dict(d, orient='index'))\n",
    "    df = pd.concat(frames, keys=user_ids)\n",
    "    df = df.reset_index()\n",
    "    return  df"
   ]
  },
  {
   "cell_type": "code",
   "execution_count": 4,
   "metadata": {},
   "outputs": [],
   "source": [
    "def plot_boxplot(result:dict, samples:list[int])->None:\n",
    "    for sample in samples:\n",
    "        display(Markdown(f\"## Sample size = {sample:,.0f}\"))\n",
    "        df= extract_df(result, sample)\n",
    "        summary = []\n",
    "        for level in df.level_1.unique():\n",
    "            frames = []         \n",
    "            wk_df = df.query(\"level_1 == @level\").drop(\"level_1\",axis=1 ).set_index(\"level_0\")\n",
    "            for i in range(len(wk_df)):\n",
    "                frames.append(wk_df.iloc[i,:].to_frame())\n",
    "            fig, ax = plt.subplots(figsize=(20,8))\n",
    "            final_df = pd.concat(frames, axis=1)\n",
    "            sns.boxplot(data=final_df, ax=ax)\n",
    "            plt.axhline(level, ls=\"--\", c=\"r\")\n",
    "            plt.title(f\"Estimated Hurst values for sample size= {sample:,.0f} and hurst={level:.2f}\")\n",
    "            plt.xlabel(\"Method\")\n",
    "            plt.show()\n",
    "            s = final_df.mean(axis=0)\n",
    "            s.name = level\n",
    "            summary.append(s)\n",
    "        err_df = pd.concat(summary, axis=1).T\n",
    "        display(Markdown(\"### MAE table\"))\n",
    "        display(err_df.sub(err_df.index.values, axis=0)\n",
    "             .abs().div(err_df.index.values, axis=0)\n",
    "             .style.format( \"{:.2%}\")\n",
    "             .highlight_min(color = 'lightgreen', axis = 1)\n",
    "             .highlight_max(color = 'red', axis = 1))\n",
    "    return"
   ]
  },
  {
   "cell_type": "code",
   "execution_count": null,
   "metadata": {},
   "outputs": [],
   "source": [
    "plot_boxplot(result, samples)"
   ]
  }
 ],
 "metadata": {
  "kernelspec": {
   "display_name": ".venv",
   "language": "python",
   "name": "python3"
  },
  "language_info": {
   "codemirror_mode": {
    "name": "ipython",
    "version": 3
   },
   "file_extension": ".py",
   "mimetype": "text/x-python",
   "name": "python",
   "nbconvert_exporter": "python",
   "pygments_lexer": "ipython3",
   "version": "3.11.6"
  }
 },
 "nbformat": 4,
 "nbformat_minor": 2
}
