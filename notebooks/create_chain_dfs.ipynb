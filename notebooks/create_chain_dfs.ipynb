{
 "cells": [
  {
   "cell_type": "markdown",
   "metadata": {},
   "source": [
    "## Create option chain dataframes from source"
   ]
  },
  {
   "cell_type": "code",
   "execution_count": 27,
   "metadata": {},
   "outputs": [],
   "source": [
    "import pandas as pd \n",
    "import os\n",
    "import re\n",
    "from tqdm.notebook import tqdm\n",
    "from IPython.display import display\n",
    "import numpy as np\n",
    "\n",
    "import warnings\n",
    "warnings.filterwarnings(\"ignore\")\n",
    "import sys\n",
    "from pathlib import Path\n",
    "# in jupyter (lab / notebook), based on notebook path\n",
    "module_path = str(Path.cwd().parents[0] / \"src\")\n",
    "\n",
    "\n",
    "if module_path not in sys.path:\n",
    "    sys.path.append(module_path)\n",
    "    \n",
    "from MMAR.MMAR import MMAR"
   ]
  },
  {
   "cell_type": "code",
   "execution_count": 6,
   "metadata": {},
   "outputs": [],
   "source": [
    "# Get all the entries in raw\n",
    "dir_list = os.listdir(\"../data/raw/\")"
   ]
  },
  {
   "cell_type": "code",
   "execution_count": 10,
   "metadata": {},
   "outputs": [],
   "source": [
    "# Select just the needed ones\n",
    "dir_list = sorted([x for x in dir_list if x.startswith(\"spy_eod_\")])"
   ]
  },
  {
   "cell_type": "code",
   "execution_count": 11,
   "metadata": {},
   "outputs": [
    {
     "data": {
      "text/plain": [
       "['spy_eod_2018-7fpgd6',\n",
       " 'spy_eod_2019-eotnx0',\n",
       " 'spy_eod_2020-kwe0mi',\n",
       " 'spy_eod_2021-borwkq',\n",
       " 'spy_eod_2022q1-ww0cra',\n",
       " 'spy_eod_2022q2-xofvwa',\n",
       " 'spy_eod_2022q3-we1um1',\n",
       " 'spy_eod_2022q4-wh2csq']"
      ]
     },
     "execution_count": 11,
     "metadata": {},
     "output_type": "execute_result"
    }
   ],
   "source": [
    "dir_list"
   ]
  },
  {
   "cell_type": "code",
   "execution_count": 48,
   "metadata": {},
   "outputs": [],
   "source": [
    "def clean_df(df:pd.DataFrame, suffix:str|None=None, dest_path:str=\"../data/processed/chain\" )->pd.DataFrame:\n",
    "    # Fix column names\n",
    "    new_cols = []\n",
    "    for col in df.columns:\n",
    "        new_col = col.strip().replace(\"[\", \"\").replace(\"]\", \"\")\n",
    "        new_cols.append(new_col)\n",
    "    df.columns = new_cols\n",
    "    \n",
    "    # Drop unused columns\n",
    "    df = df.drop(columns=['QUOTE_UNIXTIME',\n",
    "    'QUOTE_READTIME',\n",
    "    'QUOTE_TIME_HOURS',\n",
    "    'EXPIRE_UNIX',])\n",
    "    \n",
    "    # Fix column types\n",
    "    num_cols = [\n",
    "        'C_DELTA',\n",
    "        'C_GAMMA',\n",
    "        'C_VEGA',\n",
    "        'C_THETA',\n",
    "        'C_RHO',\n",
    "        'C_IV',\n",
    "        'C_VOLUME',\n",
    "        'C_LAST',\n",
    "        'C_BID',\n",
    "        'C_ASK',\n",
    "        'P_BID',\n",
    "        'P_ASK',\n",
    "        'P_LAST',\n",
    "        'P_DELTA',\n",
    "        'P_GAMMA',\n",
    "        'P_VEGA',\n",
    "        'P_THETA',\n",
    "        'P_RHO',\n",
    "        'P_IV',\n",
    "        'P_VOLUME',\n",
    "        ]\n",
    "\n",
    "    for col in num_cols:\n",
    "        df[col] = df[col].replace(\" \", np.nan)\n",
    "        df[col] = df[col].astype(float)\n",
    "        \n",
    "    # Fix date coulmns\n",
    "    df.QUOTE_DATE = pd.to_datetime(df.QUOTE_DATE)\n",
    "    df.EXPIRE_DATE = pd.to_datetime(df.EXPIRE_DATE)\n",
    "    \n",
    "    # Sort df\n",
    "    df = df.sort_values(by=[\"QUOTE_DATE\", \"EXPIRE_DATE\"]).reindex()\n",
    "    \n",
    "    # Save df\n",
    "    df.to_csv(dest_path+suffix+\".csv.gz\", index=False, compression=\"gzip\")\n",
    "        \n",
    "    return df"
   ]
  },
  {
   "cell_type": "code",
   "execution_count": 44,
   "metadata": {},
   "outputs": [],
   "source": [
    "def create_chain(path:str,  orig_path:str=\"../data/raw/\")->pd.DataFrame:\n",
    "    dir_path = orig_path+path+\"/\"\n",
    "    file_list = os.listdir(dir_path)\n",
    "    df = None\n",
    "    for file in tqdm(file_list):\n",
    "        print(f\"Rading {dir_path+file}\")\n",
    "        tmp_df = pd.read_csv(dir_path+file, low_memory=False)\n",
    "        if df is None:\n",
    "            df = tmp_df \n",
    "        else:\n",
    "            df = pd.concat([df, tmp_df])\n",
    "            \n",
    "       \n",
    "    return df"
   ]
  },
  {
   "cell_type": "code",
   "execution_count": 49,
   "metadata": {},
   "outputs": [
    {
     "data": {
      "application/vnd.jupyter.widget-view+json": {
       "model_id": "f80d5d794c414324882da9adafcf87d1",
       "version_major": 2,
       "version_minor": 0
      },
      "text/plain": [
       "  0%|          | 0/8 [00:00<?, ?it/s]"
      ]
     },
     "metadata": {},
     "output_type": "display_data"
    },
    {
     "data": {
      "application/vnd.jupyter.widget-view+json": {
       "model_id": "5384c7c05882458fb0758ec2babfc8ea",
       "version_major": 2,
       "version_minor": 0
      },
      "text/plain": [
       "  0%|          | 0/12 [00:00<?, ?it/s]"
      ]
     },
     "metadata": {},
     "output_type": "display_data"
    },
    {
     "name": "stdout",
     "output_type": "stream",
     "text": [
      "Rading ../data/raw/spy_eod_2018-7fpgd6/spy_eod_201808.txt\n",
      "Rading ../data/raw/spy_eod_2018-7fpgd6/spy_eod_201809.txt\n",
      "Rading ../data/raw/spy_eod_2018-7fpgd6/spy_eod_201802.txt\n",
      "Rading ../data/raw/spy_eod_2018-7fpgd6/spy_eod_201803.txt\n",
      "Rading ../data/raw/spy_eod_2018-7fpgd6/spy_eod_201801.txt\n",
      "Rading ../data/raw/spy_eod_2018-7fpgd6/spy_eod_201810.txt\n",
      "Rading ../data/raw/spy_eod_2018-7fpgd6/spy_eod_201804.txt\n",
      "Rading ../data/raw/spy_eod_2018-7fpgd6/spy_eod_201805.txt\n",
      "Rading ../data/raw/spy_eod_2018-7fpgd6/spy_eod_201811.txt\n",
      "Rading ../data/raw/spy_eod_2018-7fpgd6/spy_eod_201807.txt\n",
      "Rading ../data/raw/spy_eod_2018-7fpgd6/spy_eod_201812.txt\n",
      "Rading ../data/raw/spy_eod_2018-7fpgd6/spy_eod_201806.txt\n"
     ]
    },
    {
     "data": {
      "application/vnd.jupyter.widget-view+json": {
       "model_id": "17718a1651c144f3a71d3906bfc9480a",
       "version_major": 2,
       "version_minor": 0
      },
      "text/plain": [
       "  0%|          | 0/12 [00:00<?, ?it/s]"
      ]
     },
     "metadata": {},
     "output_type": "display_data"
    },
    {
     "name": "stdout",
     "output_type": "stream",
     "text": [
      "Rading ../data/raw/spy_eod_2019-eotnx0/spy_eod_201908.txt\n",
      "Rading ../data/raw/spy_eod_2019-eotnx0/spy_eod_201909.txt\n",
      "Rading ../data/raw/spy_eod_2019-eotnx0/spy_eod_201901.txt\n",
      "Rading ../data/raw/spy_eod_2019-eotnx0/spy_eod_201902.txt\n",
      "Rading ../data/raw/spy_eod_2019-eotnx0/spy_eod_201903.txt\n",
      "Rading ../data/raw/spy_eod_2019-eotnx0/spy_eod_201907.txt\n",
      "Rading ../data/raw/spy_eod_2019-eotnx0/spy_eod_201912.txt\n",
      "Rading ../data/raw/spy_eod_2019-eotnx0/spy_eod_201906.txt\n",
      "Rading ../data/raw/spy_eod_2019-eotnx0/spy_eod_201910.txt\n",
      "Rading ../data/raw/spy_eod_2019-eotnx0/spy_eod_201904.txt\n",
      "Rading ../data/raw/spy_eod_2019-eotnx0/spy_eod_201905.txt\n",
      "Rading ../data/raw/spy_eod_2019-eotnx0/spy_eod_201911.txt\n"
     ]
    },
    {
     "data": {
      "application/vnd.jupyter.widget-view+json": {
       "model_id": "d476eed7c1fc41c5811dd17a75250ff5",
       "version_major": 2,
       "version_minor": 0
      },
      "text/plain": [
       "  0%|          | 0/12 [00:00<?, ?it/s]"
      ]
     },
     "metadata": {},
     "output_type": "display_data"
    },
    {
     "name": "stdout",
     "output_type": "stream",
     "text": [
      "Rading ../data/raw/spy_eod_2020-kwe0mi/spy_eod_202009.txt\n",
      "Rading ../data/raw/spy_eod_2020-kwe0mi/spy_eod_202008.txt\n",
      "Rading ../data/raw/spy_eod_2020-kwe0mi/spy_eod_202005.txt\n",
      "Rading ../data/raw/spy_eod_2020-kwe0mi/spy_eod_202011.txt\n",
      "Rading ../data/raw/spy_eod_2020-kwe0mi/spy_eod_202010.txt\n",
      "Rading ../data/raw/spy_eod_2020-kwe0mi/spy_eod_202004.txt\n",
      "Rading ../data/raw/spy_eod_2020-kwe0mi/spy_eod_202012.txt\n",
      "Rading ../data/raw/spy_eod_2020-kwe0mi/spy_eod_202006.txt\n",
      "Rading ../data/raw/spy_eod_2020-kwe0mi/spy_eod_202007.txt\n",
      "Rading ../data/raw/spy_eod_2020-kwe0mi/spy_eod_202003.txt\n",
      "Rading ../data/raw/spy_eod_2020-kwe0mi/spy_eod_202002.txt\n",
      "Rading ../data/raw/spy_eod_2020-kwe0mi/spy_eod_202001.txt\n"
     ]
    },
    {
     "data": {
      "application/vnd.jupyter.widget-view+json": {
       "model_id": "ac1e3b527e88450f96f28e3e0327918c",
       "version_major": 2,
       "version_minor": 0
      },
      "text/plain": [
       "  0%|          | 0/12 [00:00<?, ?it/s]"
      ]
     },
     "metadata": {},
     "output_type": "display_data"
    },
    {
     "name": "stdout",
     "output_type": "stream",
     "text": [
      "Rading ../data/raw/spy_eod_2021-borwkq/spy_eod_202109.txt\n",
      "Rading ../data/raw/spy_eod_2021-borwkq/spy_eod_202108.txt\n",
      "Rading ../data/raw/spy_eod_2021-borwkq/spy_eod_202112.txt\n",
      "Rading ../data/raw/spy_eod_2021-borwkq/spy_eod_202106.txt\n",
      "Rading ../data/raw/spy_eod_2021-borwkq/spy_eod_202107.txt\n",
      "Rading ../data/raw/spy_eod_2021-borwkq/spy_eod_202105.txt\n",
      "Rading ../data/raw/spy_eod_2021-borwkq/spy_eod_202111.txt\n",
      "Rading ../data/raw/spy_eod_2021-borwkq/spy_eod_202110.txt\n",
      "Rading ../data/raw/spy_eod_2021-borwkq/spy_eod_202104.txt\n",
      "Rading ../data/raw/spy_eod_2021-borwkq/spy_eod_202101.txt\n",
      "Rading ../data/raw/spy_eod_2021-borwkq/spy_eod_202103.txt\n",
      "Rading ../data/raw/spy_eod_2021-borwkq/spy_eod_202102.txt\n"
     ]
    },
    {
     "data": {
      "application/vnd.jupyter.widget-view+json": {
       "model_id": "ac25e093ed40440cbde4a6a291a2dd99",
       "version_major": 2,
       "version_minor": 0
      },
      "text/plain": [
       "  0%|          | 0/3 [00:00<?, ?it/s]"
      ]
     },
     "metadata": {},
     "output_type": "display_data"
    },
    {
     "name": "stdout",
     "output_type": "stream",
     "text": [
      "Rading ../data/raw/spy_eod_2022q1-ww0cra/spy_eod_202201.txt\n",
      "Rading ../data/raw/spy_eod_2022q1-ww0cra/spy_eod_202202.txt\n",
      "Rading ../data/raw/spy_eod_2022q1-ww0cra/spy_eod_202203.txt\n"
     ]
    },
    {
     "data": {
      "application/vnd.jupyter.widget-view+json": {
       "model_id": "8457769d83804e0dbf1aebfea92ce898",
       "version_major": 2,
       "version_minor": 0
      },
      "text/plain": [
       "  0%|          | 0/3 [00:00<?, ?it/s]"
      ]
     },
     "metadata": {},
     "output_type": "display_data"
    },
    {
     "name": "stdout",
     "output_type": "stream",
     "text": [
      "Rading ../data/raw/spy_eod_2022q2-xofvwa/spy_eod_202206.txt\n",
      "Rading ../data/raw/spy_eod_2022q2-xofvwa/spy_eod_202204.txt\n",
      "Rading ../data/raw/spy_eod_2022q2-xofvwa/spy_eod_202205.txt\n"
     ]
    },
    {
     "data": {
      "application/vnd.jupyter.widget-view+json": {
       "model_id": "f47381f3eaf14e6880458c5ce064cc93",
       "version_major": 2,
       "version_minor": 0
      },
      "text/plain": [
       "  0%|          | 0/3 [00:00<?, ?it/s]"
      ]
     },
     "metadata": {},
     "output_type": "display_data"
    },
    {
     "name": "stdout",
     "output_type": "stream",
     "text": [
      "Rading ../data/raw/spy_eod_2022q3-we1um1/spy_eod_202208.txt\n",
      "Rading ../data/raw/spy_eod_2022q3-we1um1/spy_eod_202209.txt\n",
      "Rading ../data/raw/spy_eod_2022q3-we1um1/spy_eod_202207.txt\n"
     ]
    },
    {
     "data": {
      "application/vnd.jupyter.widget-view+json": {
       "model_id": "04296ee5ed71475eb192e5c5dcac8883",
       "version_major": 2,
       "version_minor": 0
      },
      "text/plain": [
       "  0%|          | 0/3 [00:00<?, ?it/s]"
      ]
     },
     "metadata": {},
     "output_type": "display_data"
    },
    {
     "name": "stdout",
     "output_type": "stream",
     "text": [
      "Rading ../data/raw/spy_eod_2022q4-wh2csq/spy_eod_202212.txt\n",
      "Rading ../data/raw/spy_eod_2022q4-wh2csq/spy_eod_202210.txt\n",
      "Rading ../data/raw/spy_eod_2022q4-wh2csq/spy_eod_202211.txt\n"
     ]
    }
   ],
   "source": [
    "\n",
    "for directory in tqdm(dir_list):\n",
    "    suffix = re.search(r\"(?<=spy_eod_)(.*?)(?=-)\", directory).group()\n",
    "    _ = clean_df(create_chain(directory), suffix)\n",
    "\n",
    "    \n",
    "        \n",
    "    "
   ]
  },
  {
   "cell_type": "markdown",
   "metadata": {},
   "source": [
    "### Create option price file\n",
    "\n",
    "We create a file to be used for ML models"
   ]
  },
  {
   "cell_type": "code",
   "execution_count": 6,
   "metadata": {},
   "outputs": [],
   "source": [
    "# Get all the entries in processed\n",
    "dir_list = os.listdir(\"../data/processed/\")"
   ]
  },
  {
   "cell_type": "code",
   "execution_count": 7,
   "metadata": {},
   "outputs": [],
   "source": [
    "# Select just the needed ones\n",
    "dir_list = sorted([x for x in dir_list if x.startswith(\"chain20\")])"
   ]
  },
  {
   "cell_type": "code",
   "execution_count": 8,
   "metadata": {},
   "outputs": [
    {
     "data": {
      "text/plain": [
       "['chain2018.csv.gz',\n",
       " 'chain2019.csv.gz',\n",
       " 'chain2020.csv.gz',\n",
       " 'chain2021.csv.gz',\n",
       " 'chain2022q1.csv.gz',\n",
       " 'chain2022q2.csv.gz',\n",
       " 'chain2022q3.csv.gz',\n",
       " 'chain2022q4.csv.gz']"
      ]
     },
     "execution_count": 8,
     "metadata": {},
     "output_type": "execute_result"
    }
   ],
   "source": [
    "dir_list"
   ]
  },
  {
   "cell_type": "code",
   "execution_count": 9,
   "metadata": {},
   "outputs": [],
   "source": [
    "def create_opt_cahin_price(filepath)->pd.DataFrame:\n",
    "    opt_chain = pd.read_csv(filepath, parse_dates=True)\n",
    "    # Get option prices \n",
    "    opt_prices = opt_chain[['QUOTE_DATE', 'UNDERLYING_LAST']].drop_duplicates()\n",
    "    opt_prices[\"QUOTE_DATE\"] = pd.to_datetime(opt_prices[\"QUOTE_DATE\"])\n",
    "    opt_prices.columns = [\"Date\", \"Last\"]\n",
    "    opt_prices = opt_prices.set_index(\"Date\")\n",
    "    \n",
    "    return opt_prices\n",
    "    \n",
    "    "
   ]
  },
  {
   "cell_type": "code",
   "execution_count": 10,
   "metadata": {},
   "outputs": [
    {
     "data": {
      "application/vnd.jupyter.widget-view+json": {
       "model_id": "32feb69c58784a189ae6edb86ba3e1ae",
       "version_major": 2,
       "version_minor": 0
      },
      "text/plain": [
       "  0%|          | 0/8 [00:00<?, ?it/s]"
      ]
     },
     "metadata": {},
     "output_type": "display_data"
    },
    {
     "name": "stdout",
     "output_type": "stream",
     "text": [
      "Reading ../data/processed/chain2018.csv.gz\n",
      "Reading ../data/processed/chain2019.csv.gz\n",
      "Reading ../data/processed/chain2020.csv.gz\n",
      "Reading ../data/processed/chain2021.csv.gz\n",
      "Reading ../data/processed/chain2022q1.csv.gz\n",
      "Reading ../data/processed/chain2022q2.csv.gz\n",
      "Reading ../data/processed/chain2022q3.csv.gz\n",
      "Reading ../data/processed/chain2022q4.csv.gz\n"
     ]
    }
   ],
   "source": [
    "final_df = None\n",
    "for filename in tqdm(dir_list):\n",
    "    filepath = \"../data/processed/\"+filename\n",
    "    print(f\"Reading {filepath}\")\n",
    "    tmp_df = create_opt_cahin_price(filepath)\n",
    "    if final_df is None:\n",
    "        final_df = tmp_df \n",
    "    else:\n",
    "        final_df = pd.concat([final_df, tmp_df])\n",
    "    "
   ]
  },
  {
   "cell_type": "code",
   "execution_count": 13,
   "metadata": {},
   "outputs": [],
   "source": [
    "final_df = final_df.sort_index()\n",
    "\n",
    "final_df.to_csv(\"../data/processed/last_quote.csv\")"
   ]
  },
  {
   "cell_type": "markdown",
   "metadata": {},
   "source": [
    "## Create file for ML models"
   ]
  },
  {
   "cell_type": "code",
   "execution_count": 206,
   "metadata": {},
   "outputs": [],
   "source": [
    "def generate_diff(num:int, max_iter:int=6)->int:\n",
    "    \"\"\"Generator to create alternate sequence\n",
    "\n",
    "    Example: \n",
    "    generate_diff(21) returns 21,20,22,19,23,18,...\n",
    "\n",
    "    Args:\n",
    "        num (int): starting point\n",
    "        max_iter (int): maximum number of iterations \n",
    "\n",
    "    Returns:\n",
    "        int: next element\n",
    "\n",
    "    Yields:\n",
    "        Iterator[int]: number\n",
    "    \"\"\"\n",
    "    start = num\n",
    "    i = 1\n",
    "    while True:\n",
    "        yield num\n",
    "        if i % 2 == 0:\n",
    "            num =  start + i // 2\n",
    "        else:\n",
    "            num = start - (i // 2 + 1)\n",
    "        i += 1\n",
    "        if i > max_iter:\n",
    "            break"
   ]
  },
  {
   "cell_type": "code",
   "execution_count": 207,
   "metadata": {},
   "outputs": [],
   "source": [
    "def get_ml_df(df:pd.DataFrame, dates_df:pd.DataFrame, diff_date:int=21)->pd.DataFrame:\n",
    "    # Returning df\n",
    "    result = df.head(0).copy()\n",
    "\n",
    "    # Loop for date\n",
    "    for row in tqdm(dates_df.itertuples(), total=len(dates_df)):\n",
    "        quote_date, last_quote = row\n",
    "        quote_date = quote_date.strftime(\"%Y-%m-%d\")\n",
    "        #Get chain for the date\n",
    "        query_df = df.query('(QUOTE_DATE==@quote_date)')\n",
    "        #display(query_df)\n",
    "        for date_shift in generate_diff(diff_date):\n",
    "            wk_query = query_df.query('(diff_date==@date_shift)')\n",
    "            \n",
    "            if len(wk_query)> 0:\n",
    "                # Get Strike\n",
    "                # Index of the minimum difference\n",
    "                idx = wk_query[\"diff\"].argmin()\n",
    "                # Append result\n",
    "                result = pd.concat((result, wk_query.iloc[idx:idx+1]))\n",
    "                break\n",
    "    return result"
   ]
  },
  {
   "cell_type": "code",
   "execution_count": 208,
   "metadata": {},
   "outputs": [],
   "source": [
    "# Get all the entries in processed\n",
    "dir_list = os.listdir(\"../data/processed/\")"
   ]
  },
  {
   "cell_type": "code",
   "execution_count": 209,
   "metadata": {},
   "outputs": [],
   "source": [
    "# Select just the needed ones\n",
    "dir_list = sorted([x for x in dir_list if x.startswith(\"chain20\")])"
   ]
  },
  {
   "cell_type": "code",
   "execution_count": 210,
   "metadata": {},
   "outputs": [
    {
     "data": {
      "text/plain": [
       "['chain2018.csv.gz',\n",
       " 'chain2019.csv.gz',\n",
       " 'chain2020.csv.gz',\n",
       " 'chain2021.csv.gz',\n",
       " 'chain2022q1.csv.gz',\n",
       " 'chain2022q2.csv.gz',\n",
       " 'chain2022q3.csv.gz',\n",
       " 'chain2022q4.csv.gz']"
      ]
     },
     "execution_count": 210,
     "metadata": {},
     "output_type": "execute_result"
    }
   ],
   "source": [
    "dir_list"
   ]
  },
  {
   "cell_type": "code",
   "execution_count": 211,
   "metadata": {},
   "outputs": [
    {
     "data": {
      "application/vnd.jupyter.widget-view+json": {
       "model_id": "6e0976e834814cab9525f19d4fe2f488",
       "version_major": 2,
       "version_minor": 0
      },
      "text/plain": [
       "  0%|          | 0/8 [00:00<?, ?it/s]"
      ]
     },
     "metadata": {},
     "output_type": "display_data"
    },
    {
     "name": "stdout",
     "output_type": "stream",
     "text": [
      "Reading ../data/processed/chain2018.csv.gz\n"
     ]
    },
    {
     "data": {
      "application/vnd.jupyter.widget-view+json": {
       "model_id": "54338b99df364296910487363bfa371e",
       "version_major": 2,
       "version_minor": 0
      },
      "text/plain": [
       "  0%|          | 0/1258 [00:00<?, ?it/s]"
      ]
     },
     "metadata": {},
     "output_type": "display_data"
    },
    {
     "name": "stdout",
     "output_type": "stream",
     "text": [
      "Reading ../data/processed/chain2019.csv.gz\n"
     ]
    },
    {
     "data": {
      "application/vnd.jupyter.widget-view+json": {
       "model_id": "ad111816c1564528a4ad2b9e52a13127",
       "version_major": 2,
       "version_minor": 0
      },
      "text/plain": [
       "  0%|          | 0/1258 [00:00<?, ?it/s]"
      ]
     },
     "metadata": {},
     "output_type": "display_data"
    },
    {
     "name": "stdout",
     "output_type": "stream",
     "text": [
      "Reading ../data/processed/chain2020.csv.gz\n"
     ]
    },
    {
     "data": {
      "application/vnd.jupyter.widget-view+json": {
       "model_id": "d93f3d0db2974d4a848caf31b1539b7f",
       "version_major": 2,
       "version_minor": 0
      },
      "text/plain": [
       "  0%|          | 0/1258 [00:00<?, ?it/s]"
      ]
     },
     "metadata": {},
     "output_type": "display_data"
    },
    {
     "name": "stdout",
     "output_type": "stream",
     "text": [
      "Reading ../data/processed/chain2021.csv.gz\n"
     ]
    },
    {
     "data": {
      "application/vnd.jupyter.widget-view+json": {
       "model_id": "ec17b499bd0a44b1a3fa823ece759eac",
       "version_major": 2,
       "version_minor": 0
      },
      "text/plain": [
       "  0%|          | 0/1258 [00:00<?, ?it/s]"
      ]
     },
     "metadata": {},
     "output_type": "display_data"
    },
    {
     "name": "stdout",
     "output_type": "stream",
     "text": [
      "Reading ../data/processed/chain2022q1.csv.gz\n"
     ]
    },
    {
     "data": {
      "application/vnd.jupyter.widget-view+json": {
       "model_id": "5a65859dbb6143728a81498ca2d357c2",
       "version_major": 2,
       "version_minor": 0
      },
      "text/plain": [
       "  0%|          | 0/1258 [00:00<?, ?it/s]"
      ]
     },
     "metadata": {},
     "output_type": "display_data"
    },
    {
     "name": "stdout",
     "output_type": "stream",
     "text": [
      "Reading ../data/processed/chain2022q2.csv.gz\n"
     ]
    },
    {
     "data": {
      "application/vnd.jupyter.widget-view+json": {
       "model_id": "8eba38c883f24fa28849b8915357c678",
       "version_major": 2,
       "version_minor": 0
      },
      "text/plain": [
       "  0%|          | 0/1258 [00:00<?, ?it/s]"
      ]
     },
     "metadata": {},
     "output_type": "display_data"
    },
    {
     "name": "stdout",
     "output_type": "stream",
     "text": [
      "Reading ../data/processed/chain2022q3.csv.gz\n"
     ]
    },
    {
     "data": {
      "application/vnd.jupyter.widget-view+json": {
       "model_id": "5d64c40ba87b4bcd9fd9cca5ef16f39e",
       "version_major": 2,
       "version_minor": 0
      },
      "text/plain": [
       "  0%|          | 0/1258 [00:00<?, ?it/s]"
      ]
     },
     "metadata": {},
     "output_type": "display_data"
    },
    {
     "name": "stdout",
     "output_type": "stream",
     "text": [
      "Reading ../data/processed/chain2022q4.csv.gz\n"
     ]
    },
    {
     "data": {
      "application/vnd.jupyter.widget-view+json": {
       "model_id": "c3eab8a9a4644cfdb4c330052e020587",
       "version_major": 2,
       "version_minor": 0
      },
      "text/plain": [
       "  0%|          | 0/1258 [00:00<?, ?it/s]"
      ]
     },
     "metadata": {},
     "output_type": "display_data"
    }
   ],
   "source": [
    "ml_df = None\n",
    "for filename in tqdm(dir_list):\n",
    "    filepath = \"../data/processed/\"+filename\n",
    "    print(f\"Reading {filepath}\")\n",
    "    tmp_df = pd.read_csv(filepath, parse_dates=True)\n",
    "    tmp_df[\"diff\"]=np.abs(tmp_df[\"UNDERLYING_LAST\"]-tmp_df[\"STRIKE\"])\n",
    "    tmp_df[\"diff_date\"] = (pd.to_datetime(tmp_df[\"EXPIRE_DATE\"])-pd.to_datetime(tmp_df[\"QUOTE_DATE\"])).dt.days\n",
    "    tmp_df = tmp_df[[\n",
    "            \"QUOTE_DATE\",\n",
    "            \"EXPIRE_DATE\",\n",
    "            \"UNDERLYING_LAST\",\n",
    "            \"STRIKE\",\n",
    "            \"C_LAST\",\n",
    "            \"C_BID\",\n",
    "            \"C_ASK\",\n",
    "            \"C_IV\",\n",
    "            \"C_VOLUME\",\n",
    "            \"diff\",\n",
    "            \"diff_date\"\n",
    "        ]]\n",
    "    ret_df = get_ml_df(tmp_df, final_df)\n",
    "    \n",
    "    if ml_df is None:\n",
    "        ml_df = ret_df \n",
    "    else:\n",
    "        ml_df = pd.concat([ml_df, ret_df])\n",
    "    "
   ]
  },
  {
   "cell_type": "code",
   "execution_count": 212,
   "metadata": {},
   "outputs": [
    {
     "data": {
      "text/html": [
       "<div>\n",
       "<style scoped>\n",
       "    .dataframe tbody tr th:only-of-type {\n",
       "        vertical-align: middle;\n",
       "    }\n",
       "\n",
       "    .dataframe tbody tr th {\n",
       "        vertical-align: top;\n",
       "    }\n",
       "\n",
       "    .dataframe thead th {\n",
       "        text-align: right;\n",
       "    }\n",
       "</style>\n",
       "<table border=\"1\" class=\"dataframe\">\n",
       "  <thead>\n",
       "    <tr style=\"text-align: right;\">\n",
       "      <th></th>\n",
       "      <th>QUOTE_DATE</th>\n",
       "      <th>EXPIRE_DATE</th>\n",
       "      <th>UNDERLYING_LAST</th>\n",
       "      <th>STRIKE</th>\n",
       "      <th>C_LAST</th>\n",
       "      <th>C_BID</th>\n",
       "      <th>C_ASK</th>\n",
       "      <th>C_IV</th>\n",
       "      <th>C_VOLUME</th>\n",
       "      <th>diff</th>\n",
       "      <th>diff_date</th>\n",
       "    </tr>\n",
       "  </thead>\n",
       "  <tbody>\n",
       "    <tr>\n",
       "      <th>423</th>\n",
       "      <td>2018-01-02</td>\n",
       "      <td>2018-01-24</td>\n",
       "      <td>268.81</td>\n",
       "      <td>269.0</td>\n",
       "      <td>1.56</td>\n",
       "      <td>1.72</td>\n",
       "      <td>1.76</td>\n",
       "      <td>0.07134</td>\n",
       "      <td>80.0</td>\n",
       "      <td>0.19</td>\n",
       "      <td>22</td>\n",
       "    </tr>\n",
       "    <tr>\n",
       "      <th>2680</th>\n",
       "      <td>2018-01-03</td>\n",
       "      <td>2018-01-24</td>\n",
       "      <td>270.47</td>\n",
       "      <td>270.0</td>\n",
       "      <td>2.15</td>\n",
       "      <td>2.10</td>\n",
       "      <td>2.15</td>\n",
       "      <td>0.07361</td>\n",
       "      <td>271.0</td>\n",
       "      <td>0.47</td>\n",
       "      <td>21</td>\n",
       "    </tr>\n",
       "    <tr>\n",
       "      <th>4917</th>\n",
       "      <td>2018-01-04</td>\n",
       "      <td>2018-01-24</td>\n",
       "      <td>271.56</td>\n",
       "      <td>272.0</td>\n",
       "      <td>1.67</td>\n",
       "      <td>1.57</td>\n",
       "      <td>1.61</td>\n",
       "      <td>0.06871</td>\n",
       "      <td>392.0</td>\n",
       "      <td>0.44</td>\n",
       "      <td>20</td>\n",
       "    </tr>\n",
       "    <tr>\n",
       "      <th>7390</th>\n",
       "      <td>2018-01-05</td>\n",
       "      <td>2018-01-26</td>\n",
       "      <td>273.41</td>\n",
       "      <td>273.0</td>\n",
       "      <td>2.21</td>\n",
       "      <td>2.23</td>\n",
       "      <td>2.28</td>\n",
       "      <td>0.07675</td>\n",
       "      <td>NaN</td>\n",
       "      <td>0.41</td>\n",
       "      <td>21</td>\n",
       "    </tr>\n",
       "    <tr>\n",
       "      <th>9795</th>\n",
       "      <td>2018-01-08</td>\n",
       "      <td>2018-01-31</td>\n",
       "      <td>273.94</td>\n",
       "      <td>274.0</td>\n",
       "      <td>2.08</td>\n",
       "      <td>2.07</td>\n",
       "      <td>2.09</td>\n",
       "      <td>0.07593</td>\n",
       "      <td>490.0</td>\n",
       "      <td>0.06</td>\n",
       "      <td>23</td>\n",
       "    </tr>\n",
       "    <tr>\n",
       "      <th>...</th>\n",
       "      <td>...</td>\n",
       "      <td>...</td>\n",
       "      <td>...</td>\n",
       "      <td>...</td>\n",
       "      <td>...</td>\n",
       "      <td>...</td>\n",
       "      <td>...</td>\n",
       "      <td>...</td>\n",
       "      <td>...</td>\n",
       "      <td>...</td>\n",
       "      <td>...</td>\n",
       "    </tr>\n",
       "    <tr>\n",
       "      <th>244603</th>\n",
       "      <td>2022-12-23</td>\n",
       "      <td>2023-01-13</td>\n",
       "      <td>382.88</td>\n",
       "      <td>383.0</td>\n",
       "      <td>8.00</td>\n",
       "      <td>7.97</td>\n",
       "      <td>7.99</td>\n",
       "      <td>0.20485</td>\n",
       "      <td>594.0</td>\n",
       "      <td>0.12</td>\n",
       "      <td>21</td>\n",
       "    </tr>\n",
       "    <tr>\n",
       "      <th>248071</th>\n",
       "      <td>2022-12-26</td>\n",
       "      <td>2023-01-13</td>\n",
       "      <td>382.91</td>\n",
       "      <td>383.0</td>\n",
       "      <td>7.96</td>\n",
       "      <td>7.91</td>\n",
       "      <td>8.00</td>\n",
       "      <td>0.22174</td>\n",
       "      <td>603.0</td>\n",
       "      <td>0.09</td>\n",
       "      <td>18</td>\n",
       "    </tr>\n",
       "    <tr>\n",
       "      <th>255230</th>\n",
       "      <td>2022-12-28</td>\n",
       "      <td>2023-01-20</td>\n",
       "      <td>376.71</td>\n",
       "      <td>377.0</td>\n",
       "      <td>8.75</td>\n",
       "      <td>8.73</td>\n",
       "      <td>8.76</td>\n",
       "      <td>0.21881</td>\n",
       "      <td>807.0</td>\n",
       "      <td>0.29</td>\n",
       "      <td>23</td>\n",
       "    </tr>\n",
       "    <tr>\n",
       "      <th>258680</th>\n",
       "      <td>2022-12-29</td>\n",
       "      <td>2023-01-20</td>\n",
       "      <td>383.33</td>\n",
       "      <td>383.0</td>\n",
       "      <td>8.50</td>\n",
       "      <td>8.47</td>\n",
       "      <td>8.50</td>\n",
       "      <td>0.20722</td>\n",
       "      <td>3413.0</td>\n",
       "      <td>0.33</td>\n",
       "      <td>22</td>\n",
       "    </tr>\n",
       "    <tr>\n",
       "      <th>262405</th>\n",
       "      <td>2022-12-30</td>\n",
       "      <td>2023-01-20</td>\n",
       "      <td>382.44</td>\n",
       "      <td>382.0</td>\n",
       "      <td>8.21</td>\n",
       "      <td>8.31</td>\n",
       "      <td>8.35</td>\n",
       "      <td>0.20490</td>\n",
       "      <td>1490.0</td>\n",
       "      <td>0.44</td>\n",
       "      <td>21</td>\n",
       "    </tr>\n",
       "  </tbody>\n",
       "</table>\n",
       "<p>1253 rows × 11 columns</p>\n",
       "</div>"
      ],
      "text/plain": [
       "        QUOTE_DATE EXPIRE_DATE  UNDERLYING_LAST  STRIKE  C_LAST  C_BID  C_ASK  \\\n",
       "423     2018-01-02  2018-01-24           268.81   269.0    1.56   1.72   1.76   \n",
       "2680    2018-01-03  2018-01-24           270.47   270.0    2.15   2.10   2.15   \n",
       "4917    2018-01-04  2018-01-24           271.56   272.0    1.67   1.57   1.61   \n",
       "7390    2018-01-05  2018-01-26           273.41   273.0    2.21   2.23   2.28   \n",
       "9795    2018-01-08  2018-01-31           273.94   274.0    2.08   2.07   2.09   \n",
       "...            ...         ...              ...     ...     ...    ...    ...   \n",
       "244603  2022-12-23  2023-01-13           382.88   383.0    8.00   7.97   7.99   \n",
       "248071  2022-12-26  2023-01-13           382.91   383.0    7.96   7.91   8.00   \n",
       "255230  2022-12-28  2023-01-20           376.71   377.0    8.75   8.73   8.76   \n",
       "258680  2022-12-29  2023-01-20           383.33   383.0    8.50   8.47   8.50   \n",
       "262405  2022-12-30  2023-01-20           382.44   382.0    8.21   8.31   8.35   \n",
       "\n",
       "           C_IV  C_VOLUME  diff  diff_date  \n",
       "423     0.07134      80.0  0.19         22  \n",
       "2680    0.07361     271.0  0.47         21  \n",
       "4917    0.06871     392.0  0.44         20  \n",
       "7390    0.07675       NaN  0.41         21  \n",
       "9795    0.07593     490.0  0.06         23  \n",
       "...         ...       ...   ...        ...  \n",
       "244603  0.20485     594.0  0.12         21  \n",
       "248071  0.22174     603.0  0.09         18  \n",
       "255230  0.21881     807.0  0.29         23  \n",
       "258680  0.20722    3413.0  0.33         22  \n",
       "262405  0.20490    1490.0  0.44         21  \n",
       "\n",
       "[1253 rows x 11 columns]"
      ]
     },
     "execution_count": 212,
     "metadata": {},
     "output_type": "execute_result"
    }
   ],
   "source": [
    "ml_df"
   ]
  },
  {
   "cell_type": "code",
   "execution_count": 215,
   "metadata": {},
   "outputs": [],
   "source": [
    "# Set date index\n",
    "ml_df = ml_df.set_index(pd.to_datetime(ml_df[\"QUOTE_DATE\"]))"
   ]
  },
  {
   "cell_type": "code",
   "execution_count": 217,
   "metadata": {},
   "outputs": [],
   "source": [
    "# Rename index\n",
    "ml_df.index.name = \"Date\""
   ]
  },
  {
   "cell_type": "code",
   "execution_count": 221,
   "metadata": {},
   "outputs": [],
   "source": [
    "# Sort df\n",
    "ml_df = ml_df.sort_index()"
   ]
  },
  {
   "cell_type": "code",
   "execution_count": 222,
   "metadata": {},
   "outputs": [],
   "source": [
    "# Save to file\n",
    "ml_df.to_csv(\"../data/processed/ml_df.csv\")"
   ]
  },
  {
   "cell_type": "markdown",
   "metadata": {},
   "source": [
    "## Generate expected price using Monte Carlo simulation"
   ]
  },
  {
   "cell_type": "code",
   "execution_count": 223,
   "metadata": {},
   "outputs": [],
   "source": [
    "spy = pd.read_csv(\"../data/raw/spy.csv\", parse_dates=True, index_col=0)"
   ]
  },
  {
   "cell_type": "markdown",
   "metadata": {},
   "source": [
    "Get interest rate (form Fred St Louis: https://fred.stlouisfed.org/series/DGS1MO)"
   ]
  },
  {
   "cell_type": "code",
   "execution_count": 229,
   "metadata": {},
   "outputs": [],
   "source": [
    "interest_rate = pd.read_csv(\"../data/raw/DGS1MO.csv\", parse_dates=True, index_col=0, na_values=[\".\"])"
   ]
  },
  {
   "cell_type": "code",
   "execution_count": 248,
   "metadata": {},
   "outputs": [],
   "source": [
    "def get_call_price(prices, strike, r, T):\n",
    "    values = prices[prices > strike]\n",
    "    prob = len(values) / len(prices)\n",
    "    exp_val = np.mean(values)\n",
    "    #print(f\"Probability expected price {exp_val:.2f} > {strike:.2f} is {prob:.2%}\")\n",
    "    return np.exp(-r * T) * prob * (exp_val - strike), prob"
   ]
  },
  {
   "cell_type": "code",
   "execution_count": 249,
   "metadata": {},
   "outputs": [
    {
     "data": {
      "application/vnd.jupyter.widget-view+json": {
       "model_id": "acaa99ebff0f49ad91a2b0500cff9391",
       "version_major": 2,
       "version_minor": 0
      },
      "text/plain": [
       "  0%|          | 0/1253 [00:00<?, ?it/s]"
      ]
     },
     "metadata": {},
     "output_type": "display_data"
    },
    {
     "name": "stdout",
     "output_type": "stream",
     "text": [
      "The series has been adjusted: the orginal size was 3273, the new size is 3272 with 6 dividers.\n",
      "The series has been adjusted: the orginal size was 3274, the new size is 3272 with 6 dividers.\n",
      "The series has been adjusted: the orginal size was 3275, the new size is 3272 with 6 dividers.\n",
      "The series has been adjusted: the orginal size was 3277, the new size is 3276 with 34 dividers.\n",
      "The series has been adjusted: the orginal size was 3279, the new size is 3278 with 6 dividers.\n",
      "The series has been adjusted: the orginal size was 3281, the new size is 3280 with 18 dividers.\n",
      "The series has been adjusted: the orginal size was 3283, the new size is 3282 with 6 dividers.\n",
      "The series has been adjusted: the orginal size was 3284, the new size is 3282 with 6 dividers.\n",
      "The series has been adjusted: the orginal size was 3287, the new size is 3286 with 6 dividers.\n",
      "The series has been adjusted: the orginal size was 3291, the new size is 3290 with 14 dividers.\n",
      "The series has been adjusted: the orginal size was 3292, the new size is 3290 with 14 dividers.\n",
      "The series has been adjusted: the orginal size was 3293, the new size is 3290 with 14 dividers.\n",
      "The series has been adjusted: the orginal size was 3295, the new size is 3294 with 14 dividers.\n",
      "The series has been adjusted: the orginal size was 3299, the new size is 3298 with 6 dividers.\n",
      "The series has been adjusted: the orginal size was 3301, the new size is 3300 with 34 dividers.\n",
      "The series has been adjusted: the orginal size was 3303, the new size is 3302 with 6 dividers.\n",
      "The series has been adjusted: the orginal size was 3305, the new size is 3304 with 14 dividers.\n",
      "The series has been adjusted: the orginal size was 3307, the new size is 3306 with 14 dividers.\n",
      "The series has been adjusted: the orginal size was 3308, the new size is 3306 with 14 dividers.\n",
      "The series has been adjusted: the orginal size was 3309, the new size is 3306 with 14 dividers.\n",
      "The series has been adjusted: the orginal size was 3313, the new size is 3312 with 28 dividers.\n",
      "The series has been adjusted: the orginal size was 3314, the new size is 3312 with 28 dividers.\n",
      "The series has been adjusted: the orginal size was 3316, the new size is 3315 with 14 dividers.\n",
      "The series has been adjusted: the orginal size was 3317, the new size is 3315 with 14 dividers.\n",
      "The series has been adjusted: the orginal size was 3319, the new size is 3318 with 14 dividers.\n",
      "The series has been adjusted: the orginal size was 3323, the new size is 3322 with 6 dividers.\n",
      "The series has been adjusted: the orginal size was 3326, the new size is 3325 with 10 dividers.\n",
      "The series has been adjusted: the orginal size was 3327, the new size is 3325 with 10 dividers.\n",
      "The series has been adjusted: the orginal size was 3329, the new size is 3328 with 16 dividers.\n",
      "The series has been adjusted: the orginal size was 3331, the new size is 3330 with 22 dividers.\n",
      "The series has been adjusted: the orginal size was 3334, the new size is 3333 with 6 dividers.\n",
      "The series has been adjusted: the orginal size was 3337, the new size is 3336 with 14 dividers.\n",
      "The series has been adjusted: the orginal size was 3338, the new size is 3336 with 14 dividers.\n",
      "The series has been adjusted: the orginal size was 3341, the new size is 3340 with 10 dividers.\n",
      "The series has been adjusted: the orginal size was 3343, the new size is 3342 with 6 dividers.\n",
      "The series has been adjusted: the orginal size was 3347, the new size is 3346 with 6 dividers.\n",
      "The series has been adjusted: the orginal size was 3349, the new size is 3348 with 22 dividers.\n",
      "The series has been adjusted: the orginal size was 3351, the new size is 3350 with 10 dividers.\n",
      "The series has been adjusted: the orginal size was 3353, the new size is 3352 with 6 dividers.\n",
      "The series has been adjusted: the orginal size was 3356, the new size is 3355 with 6 dividers.\n",
      "The series has been adjusted: the orginal size was 3357, the new size is 3355 with 6 dividers.\n",
      "The series has been adjusted: the orginal size was 3359, the new size is 3358 with 6 dividers.\n",
      "The series has been adjusted: the orginal size was 3361, the new size is 3360 with 46 dividers.\n",
      "The series has been adjusted: the orginal size was 3362, the new size is 3360 with 46 dividers.\n",
      "The series has been adjusted: the orginal size was 3365, the new size is 3364 with 7 dividers.\n",
      "The series has been adjusted: the orginal size was 3369, the new size is 3368 with 6 dividers.\n",
      "The series has been adjusted: the orginal size was 3371, the new size is 3370 with 6 dividers.\n",
      "The series has been adjusted: the orginal size was 3373, the new size is 3372 with 10 dividers.\n",
      "The series has been adjusted: the orginal size was 3377, the new size is 3376 with 8 dividers.\n",
      "The series has been adjusted: the orginal size was 3379, the new size is 3378 with 6 dividers.\n",
      "The series has been adjusted: the orginal size was 3383, the new size is 3382 with 6 dividers.\n",
      "The series has been adjusted: the orginal size was 3385, the new size is 3384 with 22 dividers.\n",
      "The series has been adjusted: the orginal size was 3386, the new size is 3384 with 22 dividers.\n",
      "The series has been adjusted: the orginal size was 3387, the new size is 3384 with 22 dividers.\n",
      "The series has been adjusted: the orginal size was 3389, the new size is 3388 with 16 dividers.\n",
      "The series has been adjusted: the orginal size was 3391, the new size is 3390 with 14 dividers.\n",
      "The series has been adjusted: the orginal size was 3394, the new size is 3393 with 10 dividers.\n",
      "The series has been adjusted: the orginal size was 3397, the new size is 3396 with 10 dividers.\n",
      "The series has been adjusted: the orginal size was 3398, the new size is 3396 with 10 dividers.\n",
      "The series has been adjusted: the orginal size was 3401, the new size is 3400 with 22 dividers.\n",
      "The series has been adjusted: the orginal size was 3403, the new size is 3402 with 22 dividers.\n",
      "The series has been adjusted: the orginal size was 3407, the new size is 3406 with 6 dividers.\n",
      "The series has been adjusted: the orginal size was 3409, the new size is 3408 with 18 dividers.\n",
      "The series has been adjusted: the orginal size was 3411, the new size is 3410 with 14 dividers.\n",
      "The series has been adjusted: the orginal size was 3412, the new size is 3410 with 14 dividers.\n",
      "The series has been adjusted: the orginal size was 3413, the new size is 3410 with 14 dividers.\n",
      "The series has been adjusted: the orginal size was 3415, the new size is 3414 with 6 dividers.\n",
      "The series has been adjusted: the orginal size was 3418, the new size is 3417 with 6 dividers.\n",
      "The series has been adjusted: the orginal size was 3419, the new size is 3417 with 6 dividers.\n",
      "The series has been adjusted: the orginal size was 3421, the new size is 3420 with 34 dividers.\n",
      "The series has been adjusted: the orginal size was 3425, the new size is 3424 with 10 dividers.\n",
      "The series has been adjusted: the orginal size was 3427, the new size is 3426 with 6 dividers.\n",
      "The series has been adjusted: the orginal size was 3428, the new size is 3426 with 6 dividers.\n",
      "The series has been adjusted: the orginal size was 3431, the new size is 3430 with 14 dividers.\n",
      "The series has been adjusted: the orginal size was 3433, the new size is 3432 with 30 dividers.\n",
      "The series has been adjusted: the orginal size was 3436, the new size is 3435 with 6 dividers.\n",
      "The series has been adjusted: the orginal size was 3437, the new size is 3435 with 6 dividers.\n",
      "The series has been adjusted: the orginal size was 3439, the new size is 3438 with 10 dividers.\n",
      "The series has been adjusted: the orginal size was 3442, the new size is 3441 with 6 dividers.\n",
      "The series has been adjusted: the orginal size was 3443, the new size is 3441 with 6 dividers.\n",
      "The series has been adjusted: the orginal size was 3446, the new size is 3445 with 6 dividers.\n",
      "The series has been adjusted: the orginal size was 3447, the new size is 3445 with 6 dividers.\n",
      "The series has been adjusted: the orginal size was 3449, the new size is 3448 with 6 dividers.\n",
      "The series has been adjusted: the orginal size was 3452, the new size is 3451 with 6 dividers.\n",
      "The series has been adjusted: the orginal size was 3453, the new size is 3451 with 6 dividers.\n",
      "The series has been adjusted: the orginal size was 3455, the new size is 3454 with 6 dividers.\n",
      "The series has been adjusted: the orginal size was 3457, the new size is 3456 with 30 dividers.\n",
      "The series has been adjusted: the orginal size was 3459, the new size is 3458 with 14 dividers.\n",
      "The series has been adjusted: the orginal size was 3461, the new size is 3460 with 10 dividers.\n",
      "The series has been adjusted: the orginal size was 3463, the new size is 3462 with 6 dividers.\n",
      "The series has been adjusted: the orginal size was 3466, the new size is 3465 with 22 dividers.\n",
      "The series has been adjusted: the orginal size was 3467, the new size is 3465 with 22 dividers.\n",
      "The series has been adjusted: the orginal size was 3469, the new size is 3468 with 16 dividers.\n",
      "The series has been adjusted: the orginal size was 3473, the new size is 3472 with 18 dividers.\n",
      "The series has been adjusted: the orginal size was 3475, the new size is 3474 with 10 dividers.\n",
      "The series has been adjusted: the orginal size was 3479, the new size is 3478 with 6 dividers.\n",
      "The series has been adjusted: the orginal size was 3481, the new size is 3480 with 30 dividers.\n",
      "The series has been adjusted: the orginal size was 3482, the new size is 3480 with 30 dividers.\n",
      "The series has been adjusted: the orginal size was 3487, the new size is 3486 with 14 dividers.\n",
      "The series has been adjusted: the orginal size was 3489, the new size is 3488 with 10 dividers.\n",
      "The series has been adjusted: the orginal size was 3491, the new size is 3490 with 6 dividers.\n",
      "The series has been adjusted: the orginal size was 3493, the new size is 3492 with 16 dividers.\n",
      "The series has been adjusted: the orginal size was 3494, the new size is 3492 with 16 dividers.\n",
      "The series has been adjusted: the orginal size was 3497, the new size is 3496 with 14 dividers.\n",
      "The series has been adjusted: the orginal size was 3499, the new size is 3498 with 14 dividers.\n",
      "The series has been adjusted: the orginal size was 3501, the new size is 3500 with 22 dividers.\n",
      "The series has been adjusted: the orginal size was 3503, the new size is 3502 with 6 dividers.\n",
      "The series has been adjusted: the orginal size was 3505, the new size is 3504 with 18 dividers.\n",
      "The series has been adjusted: the orginal size was 3506, the new size is 3504 with 18 dividers.\n",
      "The series has been adjusted: the orginal size was 3506, the new size is 3504 with 18 dividers.\n",
      "The series has been adjusted: the orginal size was 3508, the new size is 3507 with 6 dividers.\n",
      "The series has been adjusted: the orginal size was 3509, the new size is 3507 with 6 dividers.\n",
      "The series has been adjusted: the orginal size was 3511, the new size is 3510 with 30 dividers.\n",
      "The series has been adjusted: the orginal size was 3513, the new size is 3512 with 6 dividers.\n",
      "The series has been adjusted: the orginal size was 3517, the new size is 3516 with 10 dividers.\n",
      "The series has been adjusted: the orginal size was 3518, the new size is 3516 with 10 dividers.\n",
      "The series has been adjusted: the orginal size was 3521, the new size is 3520 with 26 dividers.\n",
      "The series has been adjusted: the orginal size was 3523, the new size is 3522 with 6 dividers.\n",
      "The series has been adjusted: the orginal size was 3524, the new size is 3522 with 6 dividers.\n",
      "The series has been adjusted: the orginal size was 3527, the new size is 3526 with 6 dividers.\n",
      "The series has been adjusted: the orginal size was 3529, the new size is 3528 with 34 dividers.\n",
      "The series has been adjusted: the orginal size was 3532, the new size is 3531 with 6 dividers.\n",
      "The series has been adjusted: the orginal size was 3533, the new size is 3531 with 6 dividers.\n",
      "The series has been adjusted: the orginal size was 3539, the new size is 3538 with 6 dividers.\n",
      "The series has been adjusted: the orginal size was 3541, the new size is 3540 with 22 dividers.\n",
      "The series has been adjusted: the orginal size was 3543, the new size is 3542 with 14 dividers.\n",
      "The series has been adjusted: the orginal size was 3545, the new size is 3544 with 6 dividers.\n",
      "The series has been adjusted: the orginal size was 3547, the new size is 3546 with 10 dividers.\n",
      "The series has been adjusted: the orginal size was 3548, the new size is 3546 with 10 dividers.\n",
      "The series has been adjusted: the orginal size was 3551, the new size is 3550 with 10 dividers.\n",
      "The series has been adjusted: the orginal size was 3554, the new size is 3553 with 6 dividers.\n",
      "The series has been adjusted: the orginal size was 3557, the new size is 3556 with 10 dividers.\n",
      "The series has been adjusted: the orginal size was 3559, the new size is 3558 with 6 dividers.\n",
      "The series has been adjusted: the orginal size was 3561, the new size is 3560 with 14 dividers.\n",
      "The series has been adjusted: the orginal size was 3563, the new size is 3562 with 6 dividers.\n",
      "The series has been adjusted: the orginal size was 3566, the new size is 3565 with 6 dividers.\n",
      "The series has been adjusted: the orginal size was 3569, the new size is 3568 with 8 dividers.\n",
      "The series has been adjusted: the orginal size was 3571, the new size is 3570 with 30 dividers.\n",
      "The series has been adjusted: the orginal size was 3573, the new size is 3572 with 10 dividers.\n",
      "The series has been adjusted: the orginal size was 3574, the new size is 3572 with 10 dividers.\n",
      "The series has been adjusted: the orginal size was 3577, the new size is 3576 with 14 dividers.\n",
      "The series has been adjusted: the orginal size was 3578, the new size is 3576 with 14 dividers.\n",
      "The series has been adjusted: the orginal size was 3579, the new size is 3576 with 14 dividers.\n",
      "The series has been adjusted: the orginal size was 3581, the new size is 3580 with 10 dividers.\n",
      "The series has been adjusted: the orginal size was 3583, the new size is 3582 with 10 dividers.\n",
      "The series has been adjusted: the orginal size was 3587, the new size is 3586 with 6 dividers.\n",
      "The series has been adjusted: the orginal size was 3589, the new size is 3588 with 22 dividers.\n",
      "The series has been adjusted: the orginal size was 3593, the new size is 3592 with 6 dividers.\n",
      "The series has been adjusted: the orginal size was 3595, the new size is 3594 with 6 dividers.\n",
      "The series has been adjusted: the orginal size was 3599, the new size is 3598 with 6 dividers.\n",
      "The series has been adjusted: the orginal size was 3601, the new size is 3600 with 43 dividers.\n",
      "The series has been adjusted: the orginal size was 3602, the new size is 3600 with 43 dividers.\n",
      "The series has been adjusted: the orginal size was 3603, the new size is 3600 with 43 dividers.\n",
      "The series has been adjusted: the orginal size was 3607, the new size is 3606 with 6 dividers.\n",
      "The series has been adjusted: the orginal size was 3609, the new size is 3608 with 14 dividers.\n",
      "The series has been adjusted: the orginal size was 3611, the new size is 3610 with 10 dividers.\n",
      "The series has been adjusted: the orginal size was 3613, the new size is 3612 with 22 dividers.\n",
      "The series has been adjusted: the orginal size was 3617, the new size is 3616 with 10 dividers.\n",
      "The series has been adjusted: the orginal size was 3622, the new size is 3621 with 6 dividers.\n",
      "The series has been adjusted: the orginal size was 3628, the new size is 3627 with 10 dividers.\n",
      "The series has been adjusted: the orginal size was 3629, the new size is 3627 with 10 dividers.\n",
      "The series has been adjusted: the orginal size was 3631, the new size is 3630 with 22 dividers.\n",
      "The series has been adjusted: the orginal size was 3635, the new size is 3634 with 6 dividers.\n",
      "The series has been adjusted: the orginal size was 3637, the new size is 3636 with 16 dividers.\n",
      "The series has been adjusted: the orginal size was 3639, the new size is 3638 with 6 dividers.\n",
      "The series has been adjusted: the orginal size was 3641, the new size is 3640 with 30 dividers.\n",
      "The series has been adjusted: the orginal size was 3643, the new size is 3642 with 6 dividers.\n",
      "The series has been adjusted: the orginal size was 3644, the new size is 3642 with 6 dividers.\n",
      "The series has been adjusted: the orginal size was 3646, the new size is 3645 with 12 dividers.\n",
      "The series has been adjusted: the orginal size was 3647, the new size is 3645 with 12 dividers.\n",
      "The series has been adjusted: the orginal size was 3649, the new size is 3648 with 26 dividers.\n",
      "The series has been adjusted: the orginal size was 3651, the new size is 3650 with 10 dividers.\n",
      "The series has been adjusted: the orginal size was 3653, the new size is 3652 with 10 dividers.\n",
      "The series has been adjusted: the orginal size was 3659, the new size is 3658 with 6 dividers.\n",
      "The series has been adjusted: the orginal size was 3661, the new size is 3660 with 22 dividers.\n",
      "The series has been adjusted: the orginal size was 3662, the new size is 3660 with 22 dividers.\n",
      "The series has been adjusted: the orginal size was 3665, the new size is 3664 with 8 dividers.\n",
      "The series has been adjusted: the orginal size was 3667, the new size is 3666 with 14 dividers.\n",
      "The series has been adjusted: the orginal size was 3669, the new size is 3668 with 10 dividers.\n",
      "The series has been adjusted: the orginal size was 3671, the new size is 3670 with 6 dividers.\n",
      "The series has been adjusted: the orginal size was 3673, the new size is 3672 with 30 dividers.\n",
      "The series has been adjusted: the orginal size was 3676, the new size is 3675 with 16 dividers.\n",
      "The series has been adjusted: the orginal size was 3677, the new size is 3675 with 16 dividers.\n",
      "The series has been adjusted: the orginal size was 3679, the new size is 3678 with 6 dividers.\n",
      "The series has been adjusted: the orginal size was 3681, the new size is 3680 with 22 dividers.\n",
      "The series has been adjusted: the orginal size was 3683, the new size is 3682 with 6 dividers.\n",
      "The series has been adjusted: the orginal size was 3687, the new size is 3686 with 6 dividers.\n",
      "The series has been adjusted: the orginal size was 3691, the new size is 3690 with 22 dividers.\n",
      "The series has been adjusted: the orginal size was 3693, the new size is 3692 with 10 dividers.\n",
      "The series has been adjusted: the orginal size was 3694, the new size is 3692 with 10 dividers.\n",
      "The series has been adjusted: the orginal size was 3695, the new size is 3692 with 10 dividers.\n",
      "The series has been adjusted: the orginal size was 3697, the new size is 3696 with 38 dividers.\n",
      "The series has been adjusted: the orginal size was 3698, the new size is 3696 with 38 dividers.\n",
      "The series has been adjusted: the orginal size was 3701, the new size is 3700 with 16 dividers.\n",
      "The series has been adjusted: the orginal size was 3703, the new size is 3702 with 6 dividers.\n",
      "The series has been adjusted: the orginal size was 3707, the new size is 3706 with 6 dividers.\n",
      "The series has been adjusted: the orginal size was 3709, the new size is 3708 with 16 dividers.\n",
      "The series has been adjusted: the orginal size was 3713, the new size is 3712 with 14 dividers.\n",
      "The series has been adjusted: the orginal size was 3715, the new size is 3714 with 6 dividers.\n",
      "The series has been adjusted: the orginal size was 3716, the new size is 3714 with 6 dividers.\n",
      "The series has been adjusted: the orginal size was 3719, the new size is 3718 with 10 dividers.\n",
      "The series has been adjusted: the orginal size was 3721, the new size is 3720 with 30 dividers.\n",
      "The series has been adjusted: the orginal size was 3722, the new size is 3720 with 30 dividers.\n",
      "The series has been adjusted: the orginal size was 3725, the new size is 3724 with 16 dividers.\n",
      "The series has been adjusted: the orginal size was 3727, the new size is 3726 with 18 dividers.\n",
      "The series has been adjusted: the orginal size was 3733, the new size is 3732 with 10 dividers.\n",
      "The series has been adjusted: the orginal size was 3734, the new size is 3732 with 10 dividers.\n",
      "The series has been adjusted: the orginal size was 3737, the new size is 3736 with 6 dividers.\n",
      "The series has been adjusted: the orginal size was 3739, the new size is 3738 with 14 dividers.\n",
      "The series has been adjusted: the orginal size was 3742, the new size is 3741 with 6 dividers.\n",
      "The series has been adjusted: the orginal size was 3743, the new size is 3741 with 6 dividers.\n",
      "The series has been adjusted: the orginal size was 3746, the new size is 3745 with 6 dividers.\n",
      "The series has been adjusted: the orginal size was 3747, the new size is 3745 with 6 dividers.\n",
      "The series has been adjusted: the orginal size was 3748, the new size is 3745 with 6 dividers.\n",
      "The series has been adjusted: the orginal size was 3749, the new size is 3745 with 6 dividers.\n",
      "The series has been adjusted: the orginal size was 3751, the new size is 3750 with 18 dividers.\n",
      "The series has been adjusted: the orginal size was 3754, the new size is 3753 with 6 dividers.\n",
      "The series has been adjusted: the orginal size was 3755, the new size is 3753 with 6 dividers.\n",
      "The series has been adjusted: the orginal size was 3757, the new size is 3756 with 10 dividers.\n",
      "The series has been adjusted: the orginal size was 3758, the new size is 3756 with 10 dividers.\n",
      "The series has been adjusted: the orginal size was 3761, the new size is 3760 with 18 dividers.\n",
      "The series has been adjusted: the orginal size was 3763, the new size is 3762 with 22 dividers.\n",
      "The series has been adjusted: the orginal size was 3764, the new size is 3762 with 22 dividers.\n",
      "The series has been adjusted: the orginal size was 3767, the new size is 3766 with 6 dividers.\n",
      "The series has been adjusted: the orginal size was 3769, the new size is 3768 with 14 dividers.\n",
      "The series has been adjusted: the orginal size was 3771, the new size is 3770 with 14 dividers.\n",
      "The series has been adjusted: the orginal size was 3775, the new size is 3774 with 14 dividers.\n",
      "The series has been adjusted: the orginal size was 3777, the new size is 3776 with 12 dividers.\n",
      "The series has been adjusted: the orginal size was 3778, the new size is 3776 with 12 dividers.\n",
      "The series has been adjusted: the orginal size was 3779, the new size is 3776 with 12 dividers.\n",
      "The series has been adjusted: the orginal size was 3781, the new size is 3780 with 46 dividers.\n",
      "The series has been adjusted: the orginal size was 3785, the new size is 3784 with 14 dividers.\n",
      "The series has been adjusted: the orginal size was 3787, the new size is 3786 with 6 dividers.\n",
      "The series has been adjusted: the orginal size was 3788, the new size is 3786 with 6 dividers.\n",
      "The series has been adjusted: the orginal size was 3789, the new size is 3786 with 6 dividers.\n",
      "The series has been adjusted: the orginal size was 3791, the new size is 3790 with 6 dividers.\n",
      "The series has been adjusted: the orginal size was 3793, the new size is 3792 with 18 dividers.\n",
      "The series has been adjusted: the orginal size was 3797, the new size is 3796 with 10 dividers.\n",
      "The series has been adjusted: the orginal size was 3799, the new size is 3798 with 10 dividers.\n",
      "The series has been adjusted: the orginal size was 3802, the new size is 3801 with 6 dividers.\n",
      "The series has been adjusted: the orginal size was 3803, the new size is 3801 with 6 dividers.\n",
      "The series has been adjusted: the orginal size was 3805, the new size is 3804 with 10 dividers.\n",
      "The series has been adjusted: the orginal size was 3809, the new size is 3808 with 22 dividers.\n",
      "The series has been adjusted: the orginal size was 3811, the new size is 3810 with 14 dividers.\n",
      "The series has been adjusted: the orginal size was 3812, the new size is 3810 with 14 dividers.\n",
      "The series has been adjusted: the orginal size was 3814, the new size is 3813 with 6 dividers.\n",
      "The series has been adjusted: the orginal size was 3817, the new size is 3816 with 22 dividers.\n",
      "The series has been adjusted: the orginal size was 3821, the new size is 3820 with 10 dividers.\n",
      "The series has been adjusted: the orginal size was 3823, the new size is 3822 with 22 dividers.\n",
      "The series has been adjusted: the orginal size was 3826, the new size is 3825 with 16 dividers.\n",
      "The series has been adjusted: the orginal size was 3827, the new size is 3825 with 16 dividers.\n",
      "The series has been adjusted: the orginal size was 3829, the new size is 3828 with 22 dividers.\n",
      "The series has been adjusted: the orginal size was 3831, the new size is 3830 with 6 dividers.\n",
      "The series has been adjusted: the orginal size was 3833, the new size is 3832 with 6 dividers.\n",
      "The series has been adjusted: the orginal size was 3837, the new size is 3836 with 10 dividers.\n",
      "The series has been adjusted: the orginal size was 3839, the new size is 3838 with 6 dividers.\n",
      "The series has been adjusted: the orginal size was 3841, the new size is 3840 with 34 dividers.\n",
      "The series has been adjusted: the orginal size was 3845, the new size is 3844 with 7 dividers.\n",
      "The series has been adjusted: the orginal size was 3847, the new size is 3846 with 6 dividers.\n",
      "The series has been adjusted: the orginal size was 3849, the new size is 3848 with 14 dividers.\n",
      "The series has been adjusted: the orginal size was 3851, the new size is 3850 with 22 dividers.\n",
      "The series has been adjusted: the orginal size was 3853, the new size is 3852 with 16 dividers.\n",
      "The series has been adjusted: the orginal size was 3859, the new size is 3858 with 6 dividers.\n",
      "The series has been adjusted: the orginal size was 3862, the new size is 3861 with 14 dividers.\n",
      "The series has been adjusted: the orginal size was 3863, the new size is 3861 with 14 dividers.\n",
      "The series has been adjusted: the orginal size was 3865, the new size is 3864 with 30 dividers.\n",
      "The series has been adjusted: the orginal size was 3866, the new size is 3864 with 30 dividers.\n",
      "The series has been adjusted: the orginal size was 3867, the new size is 3864 with 30 dividers.\n",
      "The series has been adjusted: the orginal size was 3868, the new size is 3864 with 30 dividers.\n",
      "The series has been adjusted: the orginal size was 3869, the new size is 3864 with 30 dividers.\n",
      "The series has been adjusted: the orginal size was 3871, the new size is 3870 with 22 dividers.\n",
      "The series has been adjusted: the orginal size was 3873, the new size is 3872 with 16 dividers.\n",
      "The series has been adjusted: the orginal size was 3877, the new size is 3876 with 22 dividers.\n",
      "The series has been adjusted: the orginal size was 3879, the new size is 3878 with 6 dividers.\n",
      "The series has been adjusted: the orginal size was 3881, the new size is 3880 with 14 dividers.\n",
      "The series has been adjusted: the orginal size was 3883, the new size is 3882 with 6 dividers.\n",
      "The series has been adjusted: the orginal size was 3884, the new size is 3882 with 6 dividers.\n",
      "The series has been adjusted: the orginal size was 3887, the new size is 3886 with 6 dividers.\n",
      "The series has been adjusted: the orginal size was 3889, the new size is 3888 with 28 dividers.\n",
      "The series has been adjusted: the orginal size was 3891, the new size is 3890 with 6 dividers.\n",
      "The series has been adjusted: the orginal size was 3893, the new size is 3892 with 10 dividers.\n",
      "The series has been adjusted: the orginal size was 3897, the new size is 3896 with 6 dividers.\n",
      "The series has been adjusted: the orginal size was 3898, the new size is 3896 with 6 dividers.\n",
      "The series has been adjusted: the orginal size was 3899, the new size is 3896 with 6 dividers.\n",
      "The series has been adjusted: the orginal size was 3901, the new size is 3900 with 34 dividers.\n",
      "The series has been adjusted: the orginal size was 3902, the new size is 3900 with 34 dividers.\n",
      "The series has been adjusted: the orginal size was 3903, the new size is 3900 with 34 dividers.\n",
      "The series has been adjusted: the orginal size was 3907, the new size is 3906 with 22 dividers.\n",
      "The series has been adjusted: the orginal size was 3908, the new size is 3906 with 22 dividers.\n",
      "The series has been adjusted: the orginal size was 3909, the new size is 3906 with 22 dividers.\n",
      "The series has been adjusted: the orginal size was 3911, the new size is 3910 with 14 dividers.\n",
      "The series has been adjusted: the orginal size was 3917, the new size is 3916 with 10 dividers.\n",
      "The series has been adjusted: the orginal size was 3919, the new size is 3918 with 6 dividers.\n",
      "The series has been adjusted: the orginal size was 3921, the new size is 3920 with 28 dividers.\n",
      "The series has been adjusted: the orginal size was 3923, the new size is 3922 with 6 dividers.\n",
      "The series has been adjusted: the orginal size was 3925, the new size is 3924 with 16 dividers.\n",
      "The series has been adjusted: the orginal size was 3929, the new size is 3928 with 6 dividers.\n",
      "The series has been adjusted: the orginal size was 3931, the new size is 3930 with 14 dividers.\n",
      "The series has been adjusted: the orginal size was 3932, the new size is 3930 with 14 dividers.\n",
      "The series has been adjusted: the orginal size was 3935, the new size is 3934 with 6 dividers.\n",
      "The series has been adjusted: the orginal size was 3937, the new size is 3936 with 22 dividers.\n",
      "The series has been adjusted: the orginal size was 3941, the new size is 3940 with 10 dividers.\n",
      "The series has been adjusted: the orginal size was 3943, the new size is 3942 with 14 dividers.\n",
      "The series has been adjusted: the orginal size was 3946, the new size is 3945 with 6 dividers.\n",
      "The series has been adjusted: the orginal size was 3947, the new size is 3945 with 6 dividers.\n",
      "The series has been adjusted: the orginal size was 3949, the new size is 3948 with 22 dividers.\n",
      "The series has been adjusted: the orginal size was 3951, the new size is 3950 with 10 dividers.\n",
      "The series has been adjusted: the orginal size was 3953, the new size is 3952 with 18 dividers.\n",
      "The series has been adjusted: the orginal size was 3957, the new size is 3956 with 10 dividers.\n",
      "The series has been adjusted: the orginal size was 3958, the new size is 3956 with 10 dividers.\n",
      "The series has been adjusted: the orginal size was 3959, the new size is 3956 with 10 dividers.\n",
      "The series has been adjusted: the orginal size was 3961, the new size is 3960 with 46 dividers.\n",
      "The series has been adjusted: the orginal size was 3963, the new size is 3962 with 6 dividers.\n",
      "The series has been adjusted: the orginal size was 3964, the new size is 3962 with 6 dividers.\n",
      "The series has been adjusted: the orginal size was 3967, the new size is 3966 with 6 dividers.\n",
      "The series has been adjusted: the orginal size was 3971, the new size is 3970 with 6 dividers.\n",
      "The series has been adjusted: the orginal size was 3973, the new size is 3972 with 10 dividers.\n",
      "The series has been adjusted: the orginal size was 3974, the new size is 3972 with 10 dividers.\n",
      "The series has been adjusted: the orginal size was 3977, the new size is 3976 with 14 dividers.\n",
      "The series has been adjusted: the orginal size was 3979, the new size is 3978 with 22 dividers.\n",
      "The series has been adjusted: the orginal size was 3981, the new size is 3980 with 10 dividers.\n",
      "The series has been adjusted: the orginal size was 3983, the new size is 3982 with 6 dividers.\n",
      "The series has been adjusted: the orginal size was 3985, the new size is 3984 with 18 dividers.\n",
      "The series has been adjusted: the orginal size was 3986, the new size is 3984 with 18 dividers.\n",
      "The series has been adjusted: the orginal size was 3987, the new size is 3984 with 18 dividers.\n",
      "The series has been adjusted: the orginal size was 3988, the new size is 3984 with 18 dividers.\n",
      "The series has been adjusted: the orginal size was 3989, the new size is 3984 with 18 dividers.\n",
      "The series has been adjusted: the orginal size was 3991, the new size is 3990 with 30 dividers.\n",
      "The series has been adjusted: the orginal size was 3994, the new size is 3993 with 6 dividers.\n",
      "The series has been adjusted: the orginal size was 3997, the new size is 3996 with 22 dividers.\n",
      "The series has been adjusted: the orginal size was 3998, the new size is 3996 with 22 dividers.\n",
      "The series has been adjusted: the orginal size was 4001, the new size is 4000 with 22 dividers.\n",
      "The series has been adjusted: the orginal size was 4003, the new size is 4002 with 14 dividers.\n",
      "The series has been adjusted: the orginal size was 4006, the new size is 4005 with 10 dividers.\n",
      "The series has been adjusted: the orginal size was 4007, the new size is 4005 with 10 dividers.\n",
      "The series has been adjusted: the orginal size was 4009, the new size is 4008 with 14 dividers.\n",
      "The series has been adjusted: the orginal size was 4013, the new size is 4012 with 10 dividers.\n",
      "The series has been adjusted: the orginal size was 4019, the new size is 4018 with 10 dividers.\n",
      "The series has been adjusted: the orginal size was 4021, the new size is 4020 with 22 dividers.\n",
      "The series has been adjusted: the orginal size was 4022, the new size is 4020 with 22 dividers.\n",
      "The series has been adjusted: the orginal size was 4027, the new size is 4026 with 14 dividers.\n",
      "The series has been adjusted: the orginal size was 4031, the new size is 4030 with 14 dividers.\n",
      "The series has been adjusted: the orginal size was 4033, the new size is 4032 with 40 dividers.\n",
      "The series has been adjusted: the orginal size was 4034, the new size is 4032 with 40 dividers.\n",
      "The series has been adjusted: the orginal size was 4036, the new size is 4035 with 6 dividers.\n",
      "The series has been adjusted: the orginal size was 4037, the new size is 4035 with 6 dividers.\n",
      "The series has been adjusted: the orginal size was 4039, the new size is 4038 with 6 dividers.\n",
      "The series has been adjusted: the orginal size was 4041, the new size is 4040 with 14 dividers.\n",
      "The series has been adjusted: the orginal size was 4043, the new size is 4042 with 6 dividers.\n",
      "The series has been adjusted: the orginal size was 4045, the new size is 4044 with 10 dividers.\n",
      "The series has been adjusted: the orginal size was 4049, the new size is 4048 with 18 dividers.\n",
      "The series has been adjusted: the orginal size was 4051, the new size is 4050 with 28 dividers.\n",
      "The series has been adjusted: the orginal size was 4052, the new size is 4050 with 28 dividers.\n",
      "The series has been adjusted: the orginal size was 4054, the new size is 4053 with 6 dividers.\n",
      "The series has been adjusted: the orginal size was 4055, the new size is 4053 with 6 dividers.\n",
      "The series has been adjusted: the orginal size was 4057, the new size is 4056 with 22 dividers.\n",
      "The series has been adjusted: the orginal size was 4058, the new size is 4056 with 22 dividers.\n",
      "The series has been adjusted: the orginal size was 4061, the new size is 4060 with 22 dividers.\n",
      "The series has been adjusted: the orginal size was 4063, the new size is 4062 with 6 dividers.\n",
      "The series has been adjusted: the orginal size was 4067, the new size is 4066 with 6 dividers.\n",
      "The series has been adjusted: the orginal size was 4069, the new size is 4068 with 16 dividers.\n",
      "The series has been adjusted: the orginal size was 4073, the new size is 4072 with 6 dividers.\n",
      "The series has been adjusted: the orginal size was 4075, the new size is 4074 with 14 dividers.\n",
      "The series has been adjusted: the orginal size was 4076, the new size is 4074 with 14 dividers.\n",
      "The series has been adjusted: the orginal size was 4078, the new size is 4077 with 6 dividers.\n",
      "The series has been adjusted: the orginal size was 4079, the new size is 4077 with 6 dividers.\n",
      "The series has been adjusted: the orginal size was 4083, the new size is 4082 with 6 dividers.\n",
      "The series has been adjusted: the orginal size was 4084, the new size is 4082 with 6 dividers.\n",
      "The series has been adjusted: the orginal size was 4087, the new size is 4086 with 10 dividers.\n",
      "The series has been adjusted: the orginal size was 4091, the new size is 4090 with 6 dividers.\n",
      "The series has been adjusted: the orginal size was 4093, the new size is 4092 with 22 dividers.\n",
      "The series has been adjusted: the orginal size was 4097, the new size is 4096 with 11 dividers.\n",
      "The series has been adjusted: the orginal size was 4099, the new size is 4098 with 6 dividers.\n",
      "The series has been adjusted: the orginal size was 4101, the new size is 4100 with 16 dividers.\n",
      "The series has been adjusted: the orginal size was 4103, the new size is 4102 with 6 dividers.\n",
      "The series has been adjusted: the orginal size was 4105, the new size is 4104 with 30 dividers.\n",
      "The series has been adjusted: the orginal size was 4106, the new size is 4104 with 30 dividers.\n",
      "The series has been adjusted: the orginal size was 4107, the new size is 4104 with 30 dividers.\n",
      "The series has been adjusted: the orginal size was 4109, the new size is 4108 with 10 dividers.\n",
      "The series has been adjusted: the orginal size was 4111, the new size is 4110 with 14 dividers.\n",
      "The series has been adjusted: the orginal size was 4113, the new size is 4112 with 8 dividers.\n",
      "The series has been adjusted: the orginal size was 4115, the new size is 4114 with 10 dividers.\n",
      "The series has been adjusted: the orginal size was 4117, the new size is 4116 with 22 dividers.\n",
      "The series has been adjusted: the orginal size was 4119, the new size is 4118 with 6 dividers.\n",
      "The series has been adjusted: the orginal size was 4121, the new size is 4120 with 14 dividers.\n",
      "The series has been adjusted: the orginal size was 4124, the new size is 4123 with 6 dividers.\n",
      "The series has been adjusted: the orginal size was 4126, the new size is 4125 with 14 dividers.\n",
      "The series has been adjusted: the orginal size was 4127, the new size is 4125 with 14 dividers.\n",
      "The series has been adjusted: the orginal size was 4129, the new size is 4128 with 22 dividers.\n",
      "The series has been adjusted: the orginal size was 4132, the new size is 4131 with 10 dividers.\n",
      "The series has been adjusted: the orginal size was 4133, the new size is 4131 with 10 dividers.\n",
      "The series has been adjusted: the orginal size was 4135, the new size is 4134 with 14 dividers.\n",
      "The series has been adjusted: the orginal size was 4138, the new size is 4137 with 6 dividers.\n",
      "The series has been adjusted: the orginal size was 4139, the new size is 4137 with 6 dividers.\n",
      "The series has been adjusted: the orginal size was 4141, the new size is 4140 with 34 dividers.\n",
      "The series has been adjusted: the orginal size was 4143, the new size is 4142 with 6 dividers.\n",
      "The series has been adjusted: the orginal size was 4145, the new size is 4144 with 18 dividers.\n",
      "The series has been adjusted: the orginal size was 4149, the new size is 4148 with 10 dividers.\n",
      "The series has been adjusted: the orginal size was 4151, the new size is 4150 with 10 dividers.\n",
      "The series has been adjusted: the orginal size was 4153, the new size is 4152 with 14 dividers.\n",
      "The series has been adjusted: the orginal size was 4156, the new size is 4155 with 6 dividers.\n",
      "The series has been adjusted: the orginal size was 4157, the new size is 4155 with 6 dividers.\n",
      "The series has been adjusted: the orginal size was 4159, the new size is 4158 with 30 dividers.\n",
      "The series has been adjusted: the orginal size was 4162, the new size is 4161 with 6 dividers.\n",
      "The series has been adjusted: the orginal size was 4163, the new size is 4161 with 6 dividers.\n",
      "The series has been adjusted: the orginal size was 4166, the new size is 4165 with 10 dividers.\n",
      "The series has been adjusted: the orginal size was 4167, the new size is 4165 with 10 dividers.\n",
      "The series has been adjusted: the orginal size was 4169, the new size is 4168 with 6 dividers.\n",
      "The series has been adjusted: the orginal size was 4171, the new size is 4170 with 14 dividers.\n",
      "The series has been adjusted: the orginal size was 4174, the new size is 4173 with 6 dividers.\n",
      "The series has been adjusted: the orginal size was 4175, the new size is 4173 with 6 dividers.\n",
      "The series has been adjusted: the orginal size was 4177, the new size is 4176 with 28 dividers.\n",
      "The series has been adjusted: the orginal size was 4178, the new size is 4176 with 28 dividers.\n",
      "The series has been adjusted: the orginal size was 4181, the new size is 4180 with 22 dividers.\n",
      "The series has been adjusted: the orginal size was 4183, the new size is 4182 with 14 dividers.\n",
      "The series has been adjusted: the orginal size was 4187, the new size is 4186 with 14 dividers.\n",
      "The series has been adjusted: the orginal size was 4189, the new size is 4188 with 10 dividers.\n",
      "The series has been adjusted: the orginal size was 4193, the new size is 4192 with 10 dividers.\n",
      "The series has been adjusted: the orginal size was 4195, the new size is 4194 with 10 dividers.\n",
      "The series has been adjusted: the orginal size was 4196, the new size is 4194 with 10 dividers.\n",
      "The series has been adjusted: the orginal size was 4197, the new size is 4194 with 10 dividers.\n",
      "The series has been adjusted: the orginal size was 4198, the new size is 4194 with 10 dividers.\n",
      "The series has been adjusted: the orginal size was 4201, the new size is 4200 with 46 dividers.\n",
      "The series has been adjusted: the orginal size was 4203, the new size is 4202 with 6 dividers.\n",
      "The series has been adjusted: the orginal size was 4204, the new size is 4202 with 6 dividers.\n",
      "The series has been adjusted: the orginal size was 4205, the new size is 4202 with 6 dividers.\n",
      "The series has been adjusted: the orginal size was 4207, the new size is 4206 with 6 dividers.\n",
      "The series has been adjusted: the orginal size was 4211, the new size is 4210 with 6 dividers.\n",
      "The series has been adjusted: the orginal size was 4213, the new size is 4212 with 28 dividers.\n",
      "The series has been adjusted: the orginal size was 4217, the new size is 4216 with 14 dividers.\n",
      "The series has been adjusted: the orginal size was 4219, the new size is 4218 with 14 dividers.\n",
      "The series has been adjusted: the orginal size was 4222, the new size is 4221 with 10 dividers.\n",
      "The series has been adjusted: the orginal size was 4223, the new size is 4221 with 10 dividers.\n",
      "The series has been adjusted: the orginal size was 4226, the new size is 4225 with 7 dividers.\n",
      "The series has been adjusted: the orginal size was 4227, the new size is 4225 with 7 dividers.\n",
      "The series has been adjusted: the orginal size was 4229, the new size is 4228 with 10 dividers.\n",
      "The series has been adjusted: the orginal size was 4231, the new size is 4230 with 22 dividers.\n",
      "The series has been adjusted: the orginal size was 4237, the new size is 4236 with 10 dividers.\n",
      "The series has been adjusted: the orginal size was 4241, the new size is 4240 with 18 dividers.\n",
      "The series has been adjusted: the orginal size was 4243, the new size is 4242 with 14 dividers.\n",
      "The series has been adjusted: the orginal size was 4244, the new size is 4242 with 14 dividers.\n",
      "The series has been adjusted: the orginal size was 4247, the new size is 4246 with 6 dividers.\n",
      "The series has been adjusted: the orginal size was 4249, the new size is 4248 with 22 dividers.\n",
      "The series has been adjusted: the orginal size was 4252, the new size is 4251 with 6 dividers.\n",
      "The series has been adjusted: the orginal size was 4253, the new size is 4251 with 6 dividers.\n",
      "The series has been adjusted: the orginal size was 4258, the new size is 4257 with 10 dividers.\n",
      "The series has been adjusted: the orginal size was 4259, the new size is 4257 with 10 dividers.\n",
      "The series has been adjusted: the orginal size was 4261, the new size is 4260 with 22 dividers.\n",
      "The series has been adjusted: the orginal size was 4262, the new size is 4260 with 22 dividers.\n",
      "The series has been adjusted: the orginal size was 4265, the new size is 4264 with 14 dividers.\n",
      "The series has been adjusted: the orginal size was 4267, the new size is 4266 with 14 dividers.\n",
      "The series has been adjusted: the orginal size was 4269, the new size is 4268 with 10 dividers.\n",
      "The series has been adjusted: the orginal size was 4271, the new size is 4270 with 14 dividers.\n",
      "The series has been adjusted: the orginal size was 4273, the new size is 4272 with 18 dividers.\n",
      "The series has been adjusted: the orginal size was 4274, the new size is 4272 with 18 dividers.\n",
      "The series has been adjusted: the orginal size was 4276, the new size is 4275 with 16 dividers.\n",
      "The series has been adjusted: the orginal size was 4279, the new size is 4278 with 14 dividers.\n",
      "The series has been adjusted: the orginal size was 4281, the new size is 4280 with 14 dividers.\n",
      "The series has been adjusted: the orginal size was 4282, the new size is 4280 with 14 dividers.\n",
      "The series has been adjusted: the orginal size was 4283, the new size is 4280 with 14 dividers.\n",
      "The series has been adjusted: the orginal size was 4285, the new size is 4284 with 34 dividers.\n",
      "The series has been adjusted: the orginal size was 4286, the new size is 4284 with 34 dividers.\n",
      "The series has been adjusted: the orginal size was 4287, the new size is 4284 with 34 dividers.\n",
      "The series has been adjusted: the orginal size was 4289, the new size is 4288 with 12 dividers.\n",
      "The series has been adjusted: the orginal size was 4291, the new size is 4290 with 30 dividers.\n",
      "The series has been adjusted: the orginal size was 4295, the new size is 4294 with 6 dividers.\n",
      "The series has been adjusted: the orginal size was 4297, the new size is 4296 with 14 dividers.\n",
      "The series has been adjusted: the orginal size was 4299, the new size is 4298 with 6 dividers.\n",
      "The series has been adjusted: the orginal size was 4303, the new size is 4302 with 10 dividers.\n",
      "The series has been adjusted: the orginal size was 4306, the new size is 4305 with 14 dividers.\n",
      "The series has been adjusted: the orginal size was 4307, the new size is 4305 with 14 dividers.\n",
      "The series has been adjusted: the orginal size was 4309, the new size is 4308 with 10 dividers.\n",
      "The series has been adjusted: the orginal size was 4311, the new size is 4310 with 6 dividers.\n",
      "The series has been adjusted: the orginal size was 4313, the new size is 4312 with 22 dividers.\n",
      "The series has been adjusted: the orginal size was 4315, the new size is 4314 with 6 dividers.\n",
      "The series has been adjusted: the orginal size was 4317, the new size is 4316 with 10 dividers.\n",
      "The series has been adjusted: the orginal size was 4319, the new size is 4318 with 6 dividers.\n",
      "The series has been adjusted: the orginal size was 4321, the new size is 4320 with 46 dividers.\n",
      "The series has been adjusted: the orginal size was 4322, the new size is 4320 with 46 dividers.\n",
      "The series has been adjusted: the orginal size was 4325, the new size is 4324 with 10 dividers.\n",
      "The series has been adjusted: the orginal size was 4327, the new size is 4326 with 14 dividers.\n",
      "The series has been adjusted: the orginal size was 4331, the new size is 4330 with 6 dividers.\n",
      "The series has been adjusted: the orginal size was 4333, the new size is 4332 with 16 dividers.\n",
      "The series has been adjusted: the orginal size was 4337, the new size is 4336 with 8 dividers.\n",
      "The series has been adjusted: the orginal size was 4339, the new size is 4338 with 10 dividers.\n",
      "The series has been adjusted: the orginal size was 4341, the new size is 4340 with 22 dividers.\n",
      "The series has been adjusted: the orginal size was 4343, the new size is 4342 with 6 dividers.\n",
      "The series has been adjusted: the orginal size was 4348, the new size is 4347 with 14 dividers.\n",
      "The series has been adjusted: the orginal size was 4349, the new size is 4347 with 14 dividers.\n",
      "The series has been adjusted: the orginal size was 4351, the new size is 4350 with 22 dividers.\n",
      "The series has been adjusted: the orginal size was 4353, the new size is 4352 with 16 dividers.\n",
      "The series has been adjusted: the orginal size was 4357, the new size is 4356 with 25 dividers.\n",
      "The series has been adjusted: the orginal size was 4358, the new size is 4356 with 25 dividers.\n",
      "The series has been adjusted: the orginal size was 4359, the new size is 4356 with 25 dividers.\n",
      "The series has been adjusted: the orginal size was 4361, the new size is 4360 with 14 dividers.\n",
      "The series has been adjusted: the orginal size was 4363, the new size is 4362 with 6 dividers.\n",
      "The series has been adjusted: the orginal size was 4364, the new size is 4362 with 6 dividers.\n",
      "The series has been adjusted: the orginal size was 4367, the new size is 4366 with 6 dividers.\n",
      "The series has been adjusted: the orginal size was 4369, the new size is 4368 with 38 dividers.\n",
      "The series has been adjusted: the orginal size was 4372, the new size is 4371 with 6 dividers.\n",
      "The series has been adjusted: the orginal size was 4373, the new size is 4371 with 6 dividers.\n",
      "The series has been adjusted: the orginal size was 4377, the new size is 4376 with 6 dividers.\n",
      "The series has been adjusted: the orginal size was 4379, the new size is 4378 with 6 dividers.\n",
      "The series has been adjusted: the orginal size was 4381, the new size is 4380 with 22 dividers.\n",
      "The series has been adjusted: the orginal size was 4383, the new size is 4382 with 6 dividers.\n",
      "The series has been adjusted: the orginal size was 4385, the new size is 4384 with 10 dividers.\n",
      "The series has been adjusted: the orginal size was 4387, the new size is 4386 with 14 dividers.\n",
      "The series has been adjusted: the orginal size was 4388, the new size is 4386 with 14 dividers.\n",
      "The series has been adjusted: the orginal size was 4391, the new size is 4390 with 6 dividers.\n",
      "The series has been adjusted: the orginal size was 4393, the new size is 4392 with 22 dividers.\n",
      "The series has been adjusted: the orginal size was 4397, the new size is 4396 with 10 dividers.\n",
      "The series has been adjusted: the orginal size was 4399, the new size is 4398 with 6 dividers.\n",
      "The series has been adjusted: the orginal size was 4405, the new size is 4404 with 10 dividers.\n",
      "The series has been adjusted: the orginal size was 4405, the new size is 4404 with 10 dividers.\n",
      "The series has been adjusted: the orginal size was 4406, the new size is 4404 with 10 dividers.\n",
      "The series has been adjusted: the orginal size was 4409, the new size is 4408 with 14 dividers.\n",
      "The series has been adjusted: the orginal size was 4411, the new size is 4410 with 34 dividers.\n",
      "The series has been adjusted: the orginal size was 4412, the new size is 4410 with 34 dividers.\n",
      "The series has been adjusted: the orginal size was 4413, the new size is 4410 with 34 dividers.\n",
      "The series has been adjusted: the orginal size was 4414, the new size is 4410 with 34 dividers.\n",
      "The series has been adjusted: the orginal size was 4415, the new size is 4410 with 34 dividers.\n",
      "The series has been adjusted: the orginal size was 4417, the new size is 4416 with 26 dividers.\n",
      "The series has been adjusted: the orginal size was 4418, the new size is 4416 with 26 dividers.\n",
      "The series has been adjusted: the orginal size was 4419, the new size is 4416 with 26 dividers.\n",
      "The series has been adjusted: the orginal size was 4421, the new size is 4420 with 22 dividers.\n",
      "The series has been adjusted: the orginal size was 4423, the new size is 4422 with 14 dividers.\n",
      "The series has been adjusted: the orginal size was 4426, the new size is 4425 with 10 dividers.\n",
      "The series has been adjusted: the orginal size was 4427, the new size is 4425 with 10 dividers.\n",
      "The series has been adjusted: the orginal size was 4429, the new size is 4428 with 22 dividers.\n",
      "The series has been adjusted: the orginal size was 4435, the new size is 4434 with 6 dividers.\n",
      "The series has been adjusted: the orginal size was 4436, the new size is 4434 with 6 dividers.\n",
      "The series has been adjusted: the orginal size was 4439, the new size is 4438 with 6 dividers.\n",
      "The series has been adjusted: the orginal size was 4441, the new size is 4440 with 30 dividers.\n",
      "The series has been adjusted: the orginal size was 4442, the new size is 4440 with 30 dividers.\n",
      "The series has been adjusted: the orginal size was 4443, the new size is 4440 with 30 dividers.\n",
      "The series has been adjusted: the orginal size was 4447, the new size is 4446 with 22 dividers.\n",
      "The series has been adjusted: the orginal size was 4449, the new size is 4448 with 10 dividers.\n",
      "The series has been adjusted: the orginal size was 4449, the new size is 4448 with 10 dividers.\n",
      "The series has been adjusted: the orginal size was 4451, the new size is 4450 with 10 dividers.\n",
      "The series has been adjusted: the orginal size was 4453, the new size is 4452 with 22 dividers.\n",
      "The series has been adjusted: the orginal size was 4457, the new size is 4456 with 6 dividers.\n",
      "The series has been adjusted: the orginal size was 4461, the new size is 4460 with 10 dividers.\n",
      "The series has been adjusted: the orginal size was 4463, the new size is 4462 with 6 dividers.\n",
      "The series has been adjusted: the orginal size was 4467, the new size is 4466 with 14 dividers.\n",
      "The series has been adjusted: the orginal size was 4468, the new size is 4466 with 14 dividers.\n",
      "The series has been adjusted: the orginal size was 4469, the new size is 4466 with 14 dividers.\n",
      "The series has been adjusted: the orginal size was 4471, the new size is 4470 with 14 dividers.\n",
      "The series has been adjusted: the orginal size was 4474, the new size is 4473 with 10 dividers.\n",
      "The series has been adjusted: the orginal size was 4475, the new size is 4473 with 10 dividers.\n",
      "The series has been adjusted: the orginal size was 4477, the new size is 4476 with 10 dividers.\n",
      "The series has been adjusted: the orginal size was 4478, the new size is 4476 with 10 dividers.\n",
      "The series has been adjusted: the orginal size was 4479, the new size is 4476 with 10 dividers.\n",
      "The series has been adjusted: the orginal size was 4481, the new size is 4480 with 30 dividers.\n",
      "The series has been adjusted: the orginal size was 4483, the new size is 4482 with 14 dividers.\n",
      "The series has been adjusted: the orginal size was 4486, the new size is 4485 with 14 dividers.\n",
      "The series has been adjusted: the orginal size was 4487, the new size is 4485 with 14 dividers.\n",
      "The series has been adjusted: the orginal size was 4489, the new size is 4488 with 30 dividers.\n",
      "The series has been adjusted: the orginal size was 4491, the new size is 4490 with 6 dividers.\n",
      "The series has been adjusted: the orginal size was 4492, the new size is 4490 with 6 dividers.\n",
      "The series has been adjusted: the orginal size was 4493, the new size is 4490 with 6 dividers.\n",
      "The series has been adjusted: the orginal size was 4497, the new size is 4496 with 8 dividers.\n",
      "The series has been adjusted: the orginal size was 4499, the new size is 4498 with 6 dividers.\n",
      "The series has been adjusted: the orginal size was 4501, the new size is 4500 with 34 dividers.\n",
      "The series has been adjusted: the orginal size was 4502, the new size is 4500 with 34 dividers.\n",
      "The series has been adjusted: the orginal size was 4507, the new size is 4506 with 6 dividers.\n",
      "The series has been adjusted: the orginal size was 4511, the new size is 4510 with 14 dividers.\n",
      "The series has been adjusted: the orginal size was 4513, the new size is 4512 with 22 dividers.\n",
      "The series has been adjusted: the orginal size was 4516, the new size is 4515 with 14 dividers.\n",
      "The series has been adjusted: the orginal size was 4517, the new size is 4515 with 14 dividers.\n",
      "The series has been adjusted: the orginal size was 4523, the new size is 4522 with 14 dividers.\n",
      "The series has been adjusted: the orginal size was 4525, the new size is 4524 with 22 dividers.\n",
      "The series has been adjusted: the orginal size was 4527, the new size is 4526 with 6 dividers.\n",
      "The series has been adjusted: the orginal size was 4527, the new size is 4526 with 6 dividers.\n",
      "The series has been adjusted: the orginal size was 4529, the new size is 4528 with 8 dividers.\n",
      "The series has been adjusted: the orginal size was 4531, the new size is 4530 with 14 dividers.\n"
     ]
    }
   ],
   "source": [
    "exp_price = []\n",
    "exp_call_prices = []\n",
    "date_idx = []\n",
    "rates = []\n",
    "strikes = []\n",
    "last_quotes = []\n",
    "days = []\n",
    "probs = []\n",
    "num_sim = 250_000\n",
    "prev_ir = 0\n",
    "for row in tqdm(ml_df.itertuples(), total=len(ml_df)):\n",
    "    # Get elements\n",
    "    final_date = row.Index\n",
    "    S0 = row.UNDERLYING_LAST\n",
    "    num_steps = row.diff_date\n",
    "    strike = row.STRIKE\n",
    "    r = interest_rate.loc[final_date,\"DGS1MO\"]\n",
    "    if r is None:\n",
    "        r = prev_ir\n",
    "    else:\n",
    "        prev_ir = r\n",
    "    # Filter df\n",
    "    wk_df = spy.loc[:final_date,]\n",
    "    # Generate simulation\n",
    "    mmar = MMAR(wk_df[\"Close\"], volume=wk_df[\"Volume\"])\n",
    "    simulation = mmar.get_MMAR_MC(S0, n=num_steps, num_sim=num_sim)\n",
    "    exp_price.append(simulation[:, -1:].mean())\n",
    "    exp_call_price, prob = get_call_price(simulation[:, -1:], strike, r / 100, num_steps / 252)\n",
    "    exp_call_prices.append(exp_call_price)\n",
    "    strikes.append(strike)\n",
    "    last_quotes.append(S0)\n",
    "    days.append(num_steps)\n",
    "    probs.append(prob)\n",
    "    rates.append(r)\n",
    "    date_idx.append(final_date)\n",
    "    \n"
   ]
  },
  {
   "cell_type": "code",
   "execution_count": 250,
   "metadata": {},
   "outputs": [],
   "source": [
    "exp_price_df = pd.DataFrame({\"last_quote\":last_quotes,\n",
    "                             \"strike\":strikes,\"exp_price\":exp_price, \n",
    "                             \"exp_call_price\":exp_call_prices, \n",
    "                             \"days\":days, \n",
    "                             \"r\":rates,\n",
    "                             \"prob_itm\":probs}, \n",
    "                            index = pd.Index(name=\"Date\", data=date_idx))"
   ]
  },
  {
   "cell_type": "markdown",
   "metadata": {},
   "source": []
  },
  {
   "cell_type": "code",
   "execution_count": 251,
   "metadata": {},
   "outputs": [
    {
     "data": {
      "text/html": [
       "<div>\n",
       "<style scoped>\n",
       "    .dataframe tbody tr th:only-of-type {\n",
       "        vertical-align: middle;\n",
       "    }\n",
       "\n",
       "    .dataframe tbody tr th {\n",
       "        vertical-align: top;\n",
       "    }\n",
       "\n",
       "    .dataframe thead th {\n",
       "        text-align: right;\n",
       "    }\n",
       "</style>\n",
       "<table border=\"1\" class=\"dataframe\">\n",
       "  <thead>\n",
       "    <tr style=\"text-align: right;\">\n",
       "      <th></th>\n",
       "      <th>last_quote</th>\n",
       "      <th>strike</th>\n",
       "      <th>exp_price</th>\n",
       "      <th>exp_call_price</th>\n",
       "      <th>days</th>\n",
       "      <th>r</th>\n",
       "      <th>prob_itm</th>\n",
       "    </tr>\n",
       "    <tr>\n",
       "      <th>Date</th>\n",
       "      <th></th>\n",
       "      <th></th>\n",
       "      <th></th>\n",
       "      <th></th>\n",
       "      <th></th>\n",
       "      <th></th>\n",
       "      <th></th>\n",
       "    </tr>\n",
       "  </thead>\n",
       "  <tbody>\n",
       "    <tr>\n",
       "      <th>2018-01-02</th>\n",
       "      <td>268.81</td>\n",
       "      <td>269.0</td>\n",
       "      <td>269.056555</td>\n",
       "      <td>4.793532</td>\n",
       "      <td>22</td>\n",
       "      <td>1.29</td>\n",
       "      <td>0.492236</td>\n",
       "    </tr>\n",
       "    <tr>\n",
       "      <th>2018-01-03</th>\n",
       "      <td>270.47</td>\n",
       "      <td>270.0</td>\n",
       "      <td>270.699589</td>\n",
       "      <td>4.883035</td>\n",
       "      <td>21</td>\n",
       "      <td>1.29</td>\n",
       "      <td>0.515376</td>\n",
       "    </tr>\n",
       "    <tr>\n",
       "      <th>2018-01-04</th>\n",
       "      <td>271.56</td>\n",
       "      <td>272.0</td>\n",
       "      <td>271.766754</td>\n",
       "      <td>4.313546</td>\n",
       "      <td>20</td>\n",
       "      <td>1.28</td>\n",
       "      <td>0.483992</td>\n",
       "    </tr>\n",
       "    <tr>\n",
       "      <th>2018-01-05</th>\n",
       "      <td>273.41</td>\n",
       "      <td>273.0</td>\n",
       "      <td>273.642665</td>\n",
       "      <td>4.894046</td>\n",
       "      <td>21</td>\n",
       "      <td>1.27</td>\n",
       "      <td>0.514020</td>\n",
       "    </tr>\n",
       "    <tr>\n",
       "      <th>2018-01-08</th>\n",
       "      <td>273.94</td>\n",
       "      <td>274.0</td>\n",
       "      <td>274.225205</td>\n",
       "      <td>4.864488</td>\n",
       "      <td>23</td>\n",
       "      <td>1.30</td>\n",
       "      <td>0.498300</td>\n",
       "    </tr>\n",
       "    <tr>\n",
       "      <th>...</th>\n",
       "      <td>...</td>\n",
       "      <td>...</td>\n",
       "      <td>...</td>\n",
       "      <td>...</td>\n",
       "      <td>...</td>\n",
       "      <td>...</td>\n",
       "      <td>...</td>\n",
       "    </tr>\n",
       "    <tr>\n",
       "      <th>2022-12-23</th>\n",
       "      <td>382.88</td>\n",
       "      <td>383.0</td>\n",
       "      <td>383.411772</td>\n",
       "      <td>8.436301</td>\n",
       "      <td>21</td>\n",
       "      <td>3.80</td>\n",
       "      <td>0.497404</td>\n",
       "    </tr>\n",
       "    <tr>\n",
       "      <th>2022-12-26</th>\n",
       "      <td>382.91</td>\n",
       "      <td>383.0</td>\n",
       "      <td>383.457438</td>\n",
       "      <td>NaN</td>\n",
       "      <td>18</td>\n",
       "      <td>NaN</td>\n",
       "      <td>0.498708</td>\n",
       "    </tr>\n",
       "    <tr>\n",
       "      <th>2022-12-28</th>\n",
       "      <td>376.71</td>\n",
       "      <td>377.0</td>\n",
       "      <td>377.291314</td>\n",
       "      <td>8.525205</td>\n",
       "      <td>23</td>\n",
       "      <td>3.86</td>\n",
       "      <td>0.494764</td>\n",
       "    </tr>\n",
       "    <tr>\n",
       "      <th>2022-12-29</th>\n",
       "      <td>383.33</td>\n",
       "      <td>383.0</td>\n",
       "      <td>384.022508</td>\n",
       "      <td>8.962058</td>\n",
       "      <td>22</td>\n",
       "      <td>4.04</td>\n",
       "      <td>0.507800</td>\n",
       "    </tr>\n",
       "    <tr>\n",
       "      <th>2022-12-30</th>\n",
       "      <td>382.44</td>\n",
       "      <td>382.0</td>\n",
       "      <td>383.018252</td>\n",
       "      <td>8.673019</td>\n",
       "      <td>21</td>\n",
       "      <td>4.12</td>\n",
       "      <td>0.508976</td>\n",
       "    </tr>\n",
       "  </tbody>\n",
       "</table>\n",
       "<p>1253 rows × 7 columns</p>\n",
       "</div>"
      ],
      "text/plain": [
       "            last_quote  strike   exp_price  exp_call_price  days     r  \\\n",
       "Date                                                                     \n",
       "2018-01-02      268.81   269.0  269.056555        4.793532    22  1.29   \n",
       "2018-01-03      270.47   270.0  270.699589        4.883035    21  1.29   \n",
       "2018-01-04      271.56   272.0  271.766754        4.313546    20  1.28   \n",
       "2018-01-05      273.41   273.0  273.642665        4.894046    21  1.27   \n",
       "2018-01-08      273.94   274.0  274.225205        4.864488    23  1.30   \n",
       "...                ...     ...         ...             ...   ...   ...   \n",
       "2022-12-23      382.88   383.0  383.411772        8.436301    21  3.80   \n",
       "2022-12-26      382.91   383.0  383.457438             NaN    18   NaN   \n",
       "2022-12-28      376.71   377.0  377.291314        8.525205    23  3.86   \n",
       "2022-12-29      383.33   383.0  384.022508        8.962058    22  4.04   \n",
       "2022-12-30      382.44   382.0  383.018252        8.673019    21  4.12   \n",
       "\n",
       "            prob_itm  \n",
       "Date                  \n",
       "2018-01-02  0.492236  \n",
       "2018-01-03  0.515376  \n",
       "2018-01-04  0.483992  \n",
       "2018-01-05  0.514020  \n",
       "2018-01-08  0.498300  \n",
       "...              ...  \n",
       "2022-12-23  0.497404  \n",
       "2022-12-26  0.498708  \n",
       "2022-12-28  0.494764  \n",
       "2022-12-29  0.507800  \n",
       "2022-12-30  0.508976  \n",
       "\n",
       "[1253 rows x 7 columns]"
      ]
     },
     "execution_count": 251,
     "metadata": {},
     "output_type": "execute_result"
    }
   ],
   "source": [
    "exp_price_df"
   ]
  },
  {
   "cell_type": "code",
   "execution_count": 252,
   "metadata": {},
   "outputs": [],
   "source": [
    "# Save file\n",
    "exp_price_df.to_csv(\"../data/processed/exp_price.csv\")\n"
   ]
  },
  {
   "cell_type": "code",
   "execution_count": null,
   "metadata": {},
   "outputs": [],
   "source": []
  }
 ],
 "metadata": {
  "kernelspec": {
   "display_name": ".venv",
   "language": "python",
   "name": "python3"
  },
  "language_info": {
   "codemirror_mode": {
    "name": "ipython",
    "version": 3
   },
   "file_extension": ".py",
   "mimetype": "text/x-python",
   "name": "python",
   "nbconvert_exporter": "python",
   "pygments_lexer": "ipython3",
   "version": "3.11.6"
  }
 },
 "nbformat": 4,
 "nbformat_minor": 2
}
