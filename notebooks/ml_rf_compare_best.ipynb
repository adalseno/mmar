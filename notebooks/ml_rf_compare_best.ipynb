{
 "cells": [
  {
   "cell_type": "markdown",
   "id": "7f6ad10d-a918-4cda-bf0e-cf4ec50e93e1",
   "metadata": {},
   "source": [
    "## Compare Random Forest in the case of binary class (Sell, Buy)"
   ]
  },
  {
   "cell_type": "code",
   "execution_count": 1,
   "id": "c5573226-0670-4aa4-87bf-c90b76d9de72",
   "metadata": {},
   "outputs": [],
   "source": [
    "import matplotlib.pyplot as plt\n",
    "import numpy as np\n",
    "import sys\n",
    "from pathlib import Path\n",
    "\n",
    "# in jupyter (lab / notebook), based on notebook path\n",
    "module_path = str(Path.cwd().parents[0] / \"src\")\n",
    "\n",
    "\n",
    "if module_path not in sys.path:\n",
    "    sys.path.append(module_path)\n",
    "import optuna\n",
    "import pandas as pd\n",
    "from sklearn.ensemble import RandomForestClassifier\n",
    "from sklearn.impute import SimpleImputer\n",
    "\n",
    "from sklearn.model_selection import train_test_split\n",
    "from sklearn.pipeline import Pipeline\n",
    "from utility_functions import (\n",
    "    plot_feature_imp,\n",
    "    plot_strategy,\n",
    "    backtest_strategy,\n",
    "    display_report,\n",
    "    objective_random_forest,\n",
    ")"
   ]
  },
  {
   "cell_type": "code",
   "execution_count": 2,
   "id": "e7a54509",
   "metadata": {},
   "outputs": [],
   "source": [
    "metric = \"accuracy\""
   ]
  },
  {
   "cell_type": "code",
   "execution_count": 3,
   "id": "401366cf-09ba-4ba7-904e-698174d3b63f",
   "metadata": {},
   "outputs": [],
   "source": [
    "spy = pd.read_csv(\"../data/raw/spy.csv\", parse_dates=True, index_col=0)"
   ]
  },
  {
   "cell_type": "code",
   "execution_count": 4,
   "id": "2496dcd2-ae67-4063-a1cb-a8d32d0e4a0a",
   "metadata": {},
   "outputs": [],
   "source": [
    "target = pd.read_csv(\"../data/processed/target_df.csv\", parse_dates=True, index_col=0)[\n",
    "    \"target\"\n",
    "]"
   ]
  },
  {
   "cell_type": "code",
   "execution_count": 5,
   "id": "c6d74dd0-bfe8-406a-a6e5-6bdac9da0483",
   "metadata": {},
   "outputs": [],
   "source": [
    "ml_df = pd.read_csv(\"../data/processed/ml_df.csv\", parse_dates=True, index_col=0)"
   ]
  },
  {
   "cell_type": "code",
   "execution_count": 6,
   "id": "b1431985-6966-4b94-b7c7-71f1d3d7859f",
   "metadata": {},
   "outputs": [],
   "source": [
    "wk_df = pd.read_csv(\"../data/processed/exp_price.csv\", parse_dates=True, index_col=0)"
   ]
  },
  {
   "cell_type": "code",
   "execution_count": 7,
   "id": "524504fc-ad42-4a4b-89df-5d318a396be4",
   "metadata": {},
   "outputs": [],
   "source": [
    "interest_rate = wk_df[\"r\"].values"
   ]
  },
  {
   "cell_type": "markdown",
   "id": "7caeb049-c092-4951-92b7-4f30a3c7b867",
   "metadata": {},
   "source": [
    "## Baseline CatBoost Classifier without new data + r"
   ]
  },
  {
   "cell_type": "code",
   "execution_count": 85,
   "id": "86192f4f-5f51-4f7c-95bc-6b7addf86a8a",
   "metadata": {},
   "outputs": [],
   "source": [
    "orig_df = ml_df[\n",
    "    [\n",
    "        \"UNDERLYING_LAST\",\n",
    "        \"STRIKE\",\n",
    "        \"C_LAST\",\n",
    "        \"C_BID\",\n",
    "        \"C_ASK\",\n",
    "        \"C_IV\",\n",
    "        \"C_VOLUME\",\n",
    "        \"diff_date\",\n",
    "    ]\n",
    "].copy()"
   ]
  },
  {
   "cell_type": "code",
   "execution_count": 86,
   "id": "68cd677d-37ee-4472-a71a-0bb5c06e81c6",
   "metadata": {},
   "outputs": [],
   "source": [
    "# orig_df[\"r\"] = interest_rate"
   ]
  },
  {
   "cell_type": "markdown",
   "id": "f5cbdc5b-45f0-4f97-a914-0ddc096fb491",
   "metadata": {},
   "source": [
    "### In sample predictions"
   ]
  },
  {
   "cell_type": "code",
   "execution_count": 87,
   "id": "7a85f879-b27b-4b60-a888-e07e06b7842b",
   "metadata": {},
   "outputs": [],
   "source": [
    "X_train, X_test, y_train, y_test = train_test_split(\n",
    "    orig_df, target.values.flatten(), test_size=199, random_state=1968, shuffle=False\n",
    ")"
   ]
  },
  {
   "cell_type": "code",
   "execution_count": 88,
   "id": "6c6e65f6",
   "metadata": {},
   "outputs": [
    {
     "data": {
      "text/html": [
       "<div>\n",
       "<style scoped>\n",
       "    .dataframe tbody tr th:only-of-type {\n",
       "        vertical-align: middle;\n",
       "    }\n",
       "\n",
       "    .dataframe tbody tr th {\n",
       "        vertical-align: top;\n",
       "    }\n",
       "\n",
       "    .dataframe thead th {\n",
       "        text-align: right;\n",
       "    }\n",
       "</style>\n",
       "<table border=\"1\" class=\"dataframe\">\n",
       "  <thead>\n",
       "    <tr style=\"text-align: right;\">\n",
       "      <th></th>\n",
       "      <th>UNDERLYING_LAST</th>\n",
       "      <th>STRIKE</th>\n",
       "      <th>C_LAST</th>\n",
       "      <th>C_BID</th>\n",
       "      <th>C_ASK</th>\n",
       "      <th>C_IV</th>\n",
       "      <th>C_VOLUME</th>\n",
       "      <th>diff_date</th>\n",
       "    </tr>\n",
       "  </thead>\n",
       "  <tbody>\n",
       "    <tr>\n",
       "      <th>count</th>\n",
       "      <td>1253.000000</td>\n",
       "      <td>1253.000000</td>\n",
       "      <td>1253.000000</td>\n",
       "      <td>1253.000000</td>\n",
       "      <td>1253.000000</td>\n",
       "      <td>1253.000000</td>\n",
       "      <td>1152.000000</td>\n",
       "      <td>1253.000000</td>\n",
       "    </tr>\n",
       "    <tr>\n",
       "      <th>mean</th>\n",
       "      <td>344.610088</td>\n",
       "      <td>344.594972</td>\n",
       "      <td>5.785036</td>\n",
       "      <td>5.712195</td>\n",
       "      <td>5.780383</td>\n",
       "      <td>0.176465</td>\n",
       "      <td>337.571181</td>\n",
       "      <td>20.660016</td>\n",
       "    </tr>\n",
       "    <tr>\n",
       "      <th>std</th>\n",
       "      <td>66.858522</td>\n",
       "      <td>66.861470</td>\n",
       "      <td>2.771393</td>\n",
       "      <td>2.609097</td>\n",
       "      <td>2.644117</td>\n",
       "      <td>0.082716</td>\n",
       "      <td>962.843679</td>\n",
       "      <td>0.594951</td>\n",
       "    </tr>\n",
       "    <tr>\n",
       "      <th>min</th>\n",
       "      <td>222.210000</td>\n",
       "      <td>222.000000</td>\n",
       "      <td>0.000000</td>\n",
       "      <td>1.450000</td>\n",
       "      <td>1.490000</td>\n",
       "      <td>0.068710</td>\n",
       "      <td>0.000000</td>\n",
       "      <td>18.000000</td>\n",
       "    </tr>\n",
       "    <tr>\n",
       "      <th>25%</th>\n",
       "      <td>284.030000</td>\n",
       "      <td>284.500000</td>\n",
       "      <td>3.580000</td>\n",
       "      <td>3.580000</td>\n",
       "      <td>3.640000</td>\n",
       "      <td>0.117850</td>\n",
       "      <td>51.000000</td>\n",
       "      <td>20.000000</td>\n",
       "    </tr>\n",
       "    <tr>\n",
       "      <th>50%</th>\n",
       "      <td>326.880000</td>\n",
       "      <td>327.000000</td>\n",
       "      <td>5.250000</td>\n",
       "      <td>5.210000</td>\n",
       "      <td>5.270000</td>\n",
       "      <td>0.160440</td>\n",
       "      <td>144.000000</td>\n",
       "      <td>21.000000</td>\n",
       "    </tr>\n",
       "    <tr>\n",
       "      <th>75%</th>\n",
       "      <td>406.060000</td>\n",
       "      <td>405.000000</td>\n",
       "      <td>7.510000</td>\n",
       "      <td>7.440000</td>\n",
       "      <td>7.510000</td>\n",
       "      <td>0.212460</td>\n",
       "      <td>314.000000</td>\n",
       "      <td>21.000000</td>\n",
       "    </tr>\n",
       "    <tr>\n",
       "      <th>max</th>\n",
       "      <td>477.770000</td>\n",
       "      <td>478.000000</td>\n",
       "      <td>26.160000</td>\n",
       "      <td>17.760000</td>\n",
       "      <td>18.230000</td>\n",
       "      <td>0.775330</td>\n",
       "      <td>21230.000000</td>\n",
       "      <td>23.000000</td>\n",
       "    </tr>\n",
       "  </tbody>\n",
       "</table>\n",
       "</div>"
      ],
      "text/plain": [
       "       UNDERLYING_LAST       STRIKE       C_LAST        C_BID        C_ASK  \\\n",
       "count      1253.000000  1253.000000  1253.000000  1253.000000  1253.000000   \n",
       "mean        344.610088   344.594972     5.785036     5.712195     5.780383   \n",
       "std          66.858522    66.861470     2.771393     2.609097     2.644117   \n",
       "min         222.210000   222.000000     0.000000     1.450000     1.490000   \n",
       "25%         284.030000   284.500000     3.580000     3.580000     3.640000   \n",
       "50%         326.880000   327.000000     5.250000     5.210000     5.270000   \n",
       "75%         406.060000   405.000000     7.510000     7.440000     7.510000   \n",
       "max         477.770000   478.000000    26.160000    17.760000    18.230000   \n",
       "\n",
       "              C_IV      C_VOLUME    diff_date  \n",
       "count  1253.000000   1152.000000  1253.000000  \n",
       "mean      0.176465    337.571181    20.660016  \n",
       "std       0.082716    962.843679     0.594951  \n",
       "min       0.068710      0.000000    18.000000  \n",
       "25%       0.117850     51.000000    20.000000  \n",
       "50%       0.160440    144.000000    21.000000  \n",
       "75%       0.212460    314.000000    21.000000  \n",
       "max       0.775330  21230.000000    23.000000  "
      ]
     },
     "execution_count": 88,
     "metadata": {},
     "output_type": "execute_result"
    }
   ],
   "source": [
    "X_train.describe()"
   ]
  },
  {
   "cell_type": "code",
   "execution_count": 89,
   "id": "0720504a",
   "metadata": {},
   "outputs": [
    {
     "data": {
      "text/html": [
       "<div>\n",
       "<style scoped>\n",
       "    .dataframe tbody tr th:only-of-type {\n",
       "        vertical-align: middle;\n",
       "    }\n",
       "\n",
       "    .dataframe tbody tr th {\n",
       "        vertical-align: top;\n",
       "    }\n",
       "\n",
       "    .dataframe thead th {\n",
       "        text-align: right;\n",
       "    }\n",
       "</style>\n",
       "<table border=\"1\" class=\"dataframe\">\n",
       "  <thead>\n",
       "    <tr style=\"text-align: right;\">\n",
       "      <th></th>\n",
       "      <th>UNDERLYING_LAST</th>\n",
       "      <th>STRIKE</th>\n",
       "      <th>C_LAST</th>\n",
       "      <th>C_BID</th>\n",
       "      <th>C_ASK</th>\n",
       "      <th>C_IV</th>\n",
       "      <th>C_VOLUME</th>\n",
       "      <th>diff_date</th>\n",
       "    </tr>\n",
       "  </thead>\n",
       "  <tbody>\n",
       "    <tr>\n",
       "      <th>count</th>\n",
       "      <td>199.000000</td>\n",
       "      <td>199.000000</td>\n",
       "      <td>199.000000</td>\n",
       "      <td>199.000000</td>\n",
       "      <td>199.000000</td>\n",
       "      <td>199.000000</td>\n",
       "      <td>199.000000</td>\n",
       "      <td>199.000000</td>\n",
       "    </tr>\n",
       "    <tr>\n",
       "      <th>mean</th>\n",
       "      <td>427.449196</td>\n",
       "      <td>427.464824</td>\n",
       "      <td>6.475226</td>\n",
       "      <td>6.434372</td>\n",
       "      <td>6.462663</td>\n",
       "      <td>0.146217</td>\n",
       "      <td>1374.100503</td>\n",
       "      <td>21.110553</td>\n",
       "    </tr>\n",
       "    <tr>\n",
       "      <th>std</th>\n",
       "      <td>22.910239</td>\n",
       "      <td>22.904198</td>\n",
       "      <td>1.263643</td>\n",
       "      <td>1.198533</td>\n",
       "      <td>1.199812</td>\n",
       "      <td>0.034104</td>\n",
       "      <td>1422.668328</td>\n",
       "      <td>1.816824</td>\n",
       "    </tr>\n",
       "    <tr>\n",
       "      <th>min</th>\n",
       "      <td>379.380000</td>\n",
       "      <td>379.000000</td>\n",
       "      <td>3.990000</td>\n",
       "      <td>4.140000</td>\n",
       "      <td>4.180000</td>\n",
       "      <td>0.092440</td>\n",
       "      <td>2.000000</td>\n",
       "      <td>18.000000</td>\n",
       "    </tr>\n",
       "    <tr>\n",
       "      <th>25%</th>\n",
       "      <td>410.315000</td>\n",
       "      <td>410.500000</td>\n",
       "      <td>5.465000</td>\n",
       "      <td>5.455000</td>\n",
       "      <td>5.470000</td>\n",
       "      <td>0.116345</td>\n",
       "      <td>460.000000</td>\n",
       "      <td>21.000000</td>\n",
       "    </tr>\n",
       "    <tr>\n",
       "      <th>50%</th>\n",
       "      <td>429.130000</td>\n",
       "      <td>429.000000</td>\n",
       "      <td>6.500000</td>\n",
       "      <td>6.460000</td>\n",
       "      <td>6.480000</td>\n",
       "      <td>0.141030</td>\n",
       "      <td>957.000000</td>\n",
       "      <td>22.000000</td>\n",
       "    </tr>\n",
       "    <tr>\n",
       "      <th>75%</th>\n",
       "      <td>445.860000</td>\n",
       "      <td>446.000000</td>\n",
       "      <td>7.420000</td>\n",
       "      <td>7.320000</td>\n",
       "      <td>7.345000</td>\n",
       "      <td>0.173220</td>\n",
       "      <td>1745.000000</td>\n",
       "      <td>23.000000</td>\n",
       "    </tr>\n",
       "    <tr>\n",
       "      <th>max</th>\n",
       "      <td>476.730000</td>\n",
       "      <td>477.000000</td>\n",
       "      <td>11.250000</td>\n",
       "      <td>9.540000</td>\n",
       "      <td>9.600000</td>\n",
       "      <td>0.249030</td>\n",
       "      <td>8690.000000</td>\n",
       "      <td>23.000000</td>\n",
       "    </tr>\n",
       "  </tbody>\n",
       "</table>\n",
       "</div>"
      ],
      "text/plain": [
       "       UNDERLYING_LAST      STRIKE      C_LAST       C_BID       C_ASK  \\\n",
       "count       199.000000  199.000000  199.000000  199.000000  199.000000   \n",
       "mean        427.449196  427.464824    6.475226    6.434372    6.462663   \n",
       "std          22.910239   22.904198    1.263643    1.198533    1.199812   \n",
       "min         379.380000  379.000000    3.990000    4.140000    4.180000   \n",
       "25%         410.315000  410.500000    5.465000    5.455000    5.470000   \n",
       "50%         429.130000  429.000000    6.500000    6.460000    6.480000   \n",
       "75%         445.860000  446.000000    7.420000    7.320000    7.345000   \n",
       "max         476.730000  477.000000   11.250000    9.540000    9.600000   \n",
       "\n",
       "             C_IV     C_VOLUME   diff_date  \n",
       "count  199.000000   199.000000  199.000000  \n",
       "mean     0.146217  1374.100503   21.110553  \n",
       "std      0.034104  1422.668328    1.816824  \n",
       "min      0.092440     2.000000   18.000000  \n",
       "25%      0.116345   460.000000   21.000000  \n",
       "50%      0.141030   957.000000   22.000000  \n",
       "75%      0.173220  1745.000000   23.000000  \n",
       "max      0.249030  8690.000000   23.000000  "
      ]
     },
     "execution_count": 89,
     "metadata": {},
     "output_type": "execute_result"
    }
   ],
   "source": [
    "X_test.describe()"
   ]
  },
  {
   "cell_type": "code",
   "execution_count": 97,
   "id": "a0dbde76-a671-4ff3-9ece-f437d97d02c0",
   "metadata": {},
   "outputs": [],
   "source": [
    "pipe = Pipeline(\n",
    "    [\n",
    "        (\"imputer\", SimpleImputer(strategy=\"constant\", fill_value=0.0)),\n",
    "        (\"rf\", RandomForestClassifier()),\n",
    "    ]\n",
    ")"
   ]
  },
  {
   "cell_type": "code",
   "execution_count": 98,
   "id": "df5700a8-6c1d-47a0-b05f-22401786f730",
   "metadata": {},
   "outputs": [
    {
     "data": {
      "text/html": [
       "<style>#sk-container-id-14 {color: black;}#sk-container-id-14 pre{padding: 0;}#sk-container-id-14 div.sk-toggleable {background-color: white;}#sk-container-id-14 label.sk-toggleable__label {cursor: pointer;display: block;width: 100%;margin-bottom: 0;padding: 0.3em;box-sizing: border-box;text-align: center;}#sk-container-id-14 label.sk-toggleable__label-arrow:before {content: \"▸\";float: left;margin-right: 0.25em;color: #696969;}#sk-container-id-14 label.sk-toggleable__label-arrow:hover:before {color: black;}#sk-container-id-14 div.sk-estimator:hover label.sk-toggleable__label-arrow:before {color: black;}#sk-container-id-14 div.sk-toggleable__content {max-height: 0;max-width: 0;overflow: hidden;text-align: left;background-color: #f0f8ff;}#sk-container-id-14 div.sk-toggleable__content pre {margin: 0.2em;color: black;border-radius: 0.25em;background-color: #f0f8ff;}#sk-container-id-14 input.sk-toggleable__control:checked~div.sk-toggleable__content {max-height: 200px;max-width: 100%;overflow: auto;}#sk-container-id-14 input.sk-toggleable__control:checked~label.sk-toggleable__label-arrow:before {content: \"▾\";}#sk-container-id-14 div.sk-estimator input.sk-toggleable__control:checked~label.sk-toggleable__label {background-color: #d4ebff;}#sk-container-id-14 div.sk-label input.sk-toggleable__control:checked~label.sk-toggleable__label {background-color: #d4ebff;}#sk-container-id-14 input.sk-hidden--visually {border: 0;clip: rect(1px 1px 1px 1px);clip: rect(1px, 1px, 1px, 1px);height: 1px;margin: -1px;overflow: hidden;padding: 0;position: absolute;width: 1px;}#sk-container-id-14 div.sk-estimator {font-family: monospace;background-color: #f0f8ff;border: 1px dotted black;border-radius: 0.25em;box-sizing: border-box;margin-bottom: 0.5em;}#sk-container-id-14 div.sk-estimator:hover {background-color: #d4ebff;}#sk-container-id-14 div.sk-parallel-item::after {content: \"\";width: 100%;border-bottom: 1px solid gray;flex-grow: 1;}#sk-container-id-14 div.sk-label:hover label.sk-toggleable__label {background-color: #d4ebff;}#sk-container-id-14 div.sk-serial::before {content: \"\";position: absolute;border-left: 1px solid gray;box-sizing: border-box;top: 0;bottom: 0;left: 50%;z-index: 0;}#sk-container-id-14 div.sk-serial {display: flex;flex-direction: column;align-items: center;background-color: white;padding-right: 0.2em;padding-left: 0.2em;position: relative;}#sk-container-id-14 div.sk-item {position: relative;z-index: 1;}#sk-container-id-14 div.sk-parallel {display: flex;align-items: stretch;justify-content: center;background-color: white;position: relative;}#sk-container-id-14 div.sk-item::before, #sk-container-id-14 div.sk-parallel-item::before {content: \"\";position: absolute;border-left: 1px solid gray;box-sizing: border-box;top: 0;bottom: 0;left: 50%;z-index: -1;}#sk-container-id-14 div.sk-parallel-item {display: flex;flex-direction: column;z-index: 1;position: relative;background-color: white;}#sk-container-id-14 div.sk-parallel-item:first-child::after {align-self: flex-end;width: 50%;}#sk-container-id-14 div.sk-parallel-item:last-child::after {align-self: flex-start;width: 50%;}#sk-container-id-14 div.sk-parallel-item:only-child::after {width: 0;}#sk-container-id-14 div.sk-dashed-wrapped {border: 1px dashed gray;margin: 0 0.4em 0.5em 0.4em;box-sizing: border-box;padding-bottom: 0.4em;background-color: white;}#sk-container-id-14 div.sk-label label {font-family: monospace;font-weight: bold;display: inline-block;line-height: 1.2em;}#sk-container-id-14 div.sk-label-container {text-align: center;}#sk-container-id-14 div.sk-container {/* jupyter's `normalize.less` sets `[hidden] { display: none; }` but bootstrap.min.css set `[hidden] { display: none !important; }` so we also need the `!important` here to be able to override the default hidden behavior on the sphinx rendered scikit-learn.org. See: https://github.com/scikit-learn/scikit-learn/issues/21755 */display: inline-block !important;position: relative;}#sk-container-id-14 div.sk-text-repr-fallback {display: none;}</style><div id=\"sk-container-id-14\" class=\"sk-top-container\"><div class=\"sk-text-repr-fallback\"><pre>Pipeline(steps=[(&#x27;imputer&#x27;, SimpleImputer(fill_value=0.0, strategy=&#x27;constant&#x27;)),\n",
       "                (&#x27;rf&#x27;, RandomForestClassifier())])</pre><b>In a Jupyter environment, please rerun this cell to show the HTML representation or trust the notebook. <br />On GitHub, the HTML representation is unable to render, please try loading this page with nbviewer.org.</b></div><div class=\"sk-container\" hidden><div class=\"sk-item sk-dashed-wrapped\"><div class=\"sk-label-container\"><div class=\"sk-label sk-toggleable\"><input class=\"sk-toggleable__control sk-hidden--visually\" id=\"sk-estimator-id-40\" type=\"checkbox\" ><label for=\"sk-estimator-id-40\" class=\"sk-toggleable__label sk-toggleable__label-arrow\">Pipeline</label><div class=\"sk-toggleable__content\"><pre>Pipeline(steps=[(&#x27;imputer&#x27;, SimpleImputer(fill_value=0.0, strategy=&#x27;constant&#x27;)),\n",
       "                (&#x27;rf&#x27;, RandomForestClassifier())])</pre></div></div></div><div class=\"sk-serial\"><div class=\"sk-item\"><div class=\"sk-estimator sk-toggleable\"><input class=\"sk-toggleable__control sk-hidden--visually\" id=\"sk-estimator-id-41\" type=\"checkbox\" ><label for=\"sk-estimator-id-41\" class=\"sk-toggleable__label sk-toggleable__label-arrow\">SimpleImputer</label><div class=\"sk-toggleable__content\"><pre>SimpleImputer(fill_value=0.0, strategy=&#x27;constant&#x27;)</pre></div></div></div><div class=\"sk-item\"><div class=\"sk-estimator sk-toggleable\"><input class=\"sk-toggleable__control sk-hidden--visually\" id=\"sk-estimator-id-42\" type=\"checkbox\" ><label for=\"sk-estimator-id-42\" class=\"sk-toggleable__label sk-toggleable__label-arrow\">RandomForestClassifier</label><div class=\"sk-toggleable__content\"><pre>RandomForestClassifier()</pre></div></div></div></div></div></div></div>"
      ],
      "text/plain": [
       "Pipeline(steps=[('imputer', SimpleImputer(fill_value=0.0, strategy='constant')),\n",
       "                ('rf', RandomForestClassifier())])"
      ]
     },
     "execution_count": 98,
     "metadata": {},
     "output_type": "execute_result"
    }
   ],
   "source": [
    "# Fit the tuned model\n",
    "pipe.fit(X_train, y_train)"
   ]
  },
  {
   "cell_type": "code",
   "execution_count": 99,
   "id": "6d9b41cf",
   "metadata": {},
   "outputs": [
    {
     "data": {
      "text/plain": [
       "1.0"
      ]
     },
     "execution_count": 99,
     "metadata": {},
     "output_type": "execute_result"
    }
   ],
   "source": [
    "pipe.score(X_train, y_train)"
   ]
  },
  {
   "cell_type": "code",
   "execution_count": 100,
   "id": "edb87a66-1bba-4ae4-a0d2-59b65d1e2613",
   "metadata": {},
   "outputs": [],
   "source": [
    "predictions = pipe.predict(X_test)"
   ]
  },
  {
   "cell_type": "code",
   "execution_count": 101,
   "id": "d0d0792e-62f9-4245-9c32-fb64592e1352",
   "metadata": {},
   "outputs": [
    {
     "data": {
      "text/plain": [
       "0.542713567839196"
      ]
     },
     "execution_count": 101,
     "metadata": {},
     "output_type": "execute_result"
    }
   ],
   "source": [
    "pipe.score(X_test, y_test)"
   ]
  },
  {
   "cell_type": "code",
   "execution_count": 102,
   "id": "2e49244a-5e16-4a26-8642-a261ab945a44",
   "metadata": {},
   "outputs": [
    {
     "name": "stdout",
     "output_type": "stream",
     "text": [
      "              precision    recall  f1-score   support\n",
      "\n",
      "           0       0.53      0.72      0.61        98\n",
      "           1       0.58      0.37      0.45       101\n",
      "\n",
      "    accuracy                           0.54       199\n",
      "   macro avg       0.55      0.55      0.53       199\n",
      "weighted avg       0.55      0.54      0.53       199\n",
      "\n"
     ]
    },
    {
     "data": {
      "image/png": "[encoded data removed]",
      "text/plain": [
       "<Figure size 640x480 with 2 Axes>"
      ]
     },
     "metadata": {},
     "output_type": "display_data"
    }
   ],
   "source": [
    "display_report(y_test, predictions)"
   ]
  },
  {
   "cell_type": "code",
   "execution_count": 103,
   "id": "fe482b54-206f-491d-bcf9-600fd4e0e39c",
   "metadata": {},
   "outputs": [
    {
     "data": {
      "image/png": "[encoded data removed]",
      "text/plain": [
       "<Figure size 1000x600 with 1 Axes>"
      ]
     },
     "metadata": {},
     "output_type": "display_data"
    }
   ],
   "source": [
    "coefficients = pipe.named_steps[\"rf\"].feature_importances_\n",
    "columns = orig_df.columns\n",
    "plot_feature_imp(coefficients, columns)"
   ]
  },
  {
   "cell_type": "code",
   "execution_count": 104,
   "id": "527dab01-7782-42f9-b8a5-8fc0c49ad6ff",
   "metadata": {},
   "outputs": [],
   "source": [
    "compare_df = pd.DataFrame(predictions, columns=[\"bare_rf_pred_in\"])"
   ]
  },
  {
   "cell_type": "markdown",
   "id": "409321c3-e0f5-4d39-9ae2-68d4727ce4a2",
   "metadata": {},
   "source": [
    "### Backtesting"
   ]
  },
  {
   "cell_type": "code",
   "execution_count": 105,
   "id": "7000f369",
   "metadata": {},
   "outputs": [],
   "source": [
    "strategy_df = backtest_strategy(predictions, X_test, spy, ml_df)"
   ]
  },
  {
   "cell_type": "code",
   "execution_count": 106,
   "id": "2db5137e-b3c4-44f8-a4fb-2a111326f612",
   "metadata": {},
   "outputs": [
    {
     "data": {
      "text/html": [
       "<div>\n",
       "<style scoped>\n",
       "    .dataframe tbody tr th:only-of-type {\n",
       "        vertical-align: middle;\n",
       "    }\n",
       "\n",
       "    .dataframe tbody tr th {\n",
       "        vertical-align: top;\n",
       "    }\n",
       "\n",
       "    .dataframe thead th {\n",
       "        text-align: right;\n",
       "    }\n",
       "</style>\n",
       "<table border=\"1\" class=\"dataframe\">\n",
       "  <thead>\n",
       "    <tr style=\"text-align: right;\">\n",
       "      <th></th>\n",
       "      <th>strategy</th>\n",
       "      <th>strike</th>\n",
       "      <th>call_price</th>\n",
       "      <th>exp_date</th>\n",
       "      <th>final_price</th>\n",
       "      <th>profit</th>\n",
       "      <th>bare</th>\n",
       "      <th>cum_profit</th>\n",
       "      <th>cum_bare</th>\n",
       "    </tr>\n",
       "    <tr>\n",
       "      <th>Date</th>\n",
       "      <th></th>\n",
       "      <th></th>\n",
       "      <th></th>\n",
       "      <th></th>\n",
       "      <th></th>\n",
       "      <th></th>\n",
       "      <th></th>\n",
       "      <th></th>\n",
       "      <th></th>\n",
       "    </tr>\n",
       "  </thead>\n",
       "  <tbody>\n",
       "    <tr>\n",
       "      <th>2023-01-04</th>\n",
       "      <td>1</td>\n",
       "      <td>384.0</td>\n",
       "      <td>7.46</td>\n",
       "      <td>2023-01-27</td>\n",
       "      <td>405.679993</td>\n",
       "      <td>14.219993</td>\n",
       "      <td>14.219993</td>\n",
       "      <td>14.219993</td>\n",
       "      <td>14.219993</td>\n",
       "    </tr>\n",
       "    <tr>\n",
       "      <th>2023-01-05</th>\n",
       "      <td>1</td>\n",
       "      <td>379.0</td>\n",
       "      <td>8.50</td>\n",
       "      <td>2023-01-27</td>\n",
       "      <td>405.679993</td>\n",
       "      <td>18.179993</td>\n",
       "      <td>18.179993</td>\n",
       "      <td>32.399985</td>\n",
       "      <td>32.399985</td>\n",
       "    </tr>\n",
       "    <tr>\n",
       "      <th>2023-01-06</th>\n",
       "      <td>1</td>\n",
       "      <td>388.0</td>\n",
       "      <td>7.72</td>\n",
       "      <td>2023-01-27</td>\n",
       "      <td>405.679993</td>\n",
       "      <td>9.959993</td>\n",
       "      <td>9.959993</td>\n",
       "      <td>42.359978</td>\n",
       "      <td>42.359978</td>\n",
       "    </tr>\n",
       "    <tr>\n",
       "      <th>2023-01-09</th>\n",
       "      <td>1</td>\n",
       "      <td>388.0</td>\n",
       "      <td>7.46</td>\n",
       "      <td>2023-01-27</td>\n",
       "      <td>405.679993</td>\n",
       "      <td>10.219993</td>\n",
       "      <td>10.219993</td>\n",
       "      <td>52.579971</td>\n",
       "      <td>52.579971</td>\n",
       "    </tr>\n",
       "    <tr>\n",
       "      <th>2023-01-11</th>\n",
       "      <td>0</td>\n",
       "      <td>395.0</td>\n",
       "      <td>9.11</td>\n",
       "      <td>2023-02-03</td>\n",
       "      <td>412.350006</td>\n",
       "      <td>0.000000</td>\n",
       "      <td>8.240006</td>\n",
       "      <td>52.579971</td>\n",
       "      <td>60.819977</td>\n",
       "    </tr>\n",
       "    <tr>\n",
       "      <th>...</th>\n",
       "      <td>...</td>\n",
       "      <td>...</td>\n",
       "      <td>...</td>\n",
       "      <td>...</td>\n",
       "      <td>...</td>\n",
       "      <td>...</td>\n",
       "      <td>...</td>\n",
       "      <td>...</td>\n",
       "      <td>...</td>\n",
       "    </tr>\n",
       "    <tr>\n",
       "      <th>2023-12-21</th>\n",
       "      <td>0</td>\n",
       "      <td>473.0</td>\n",
       "      <td>6.07</td>\n",
       "      <td>2024-01-12</td>\n",
       "      <td>476.679993</td>\n",
       "      <td>0.000000</td>\n",
       "      <td>-2.390007</td>\n",
       "      <td>227.540013</td>\n",
       "      <td>404.169901</td>\n",
       "    </tr>\n",
       "    <tr>\n",
       "      <th>2023-12-22</th>\n",
       "      <td>0</td>\n",
       "      <td>474.0</td>\n",
       "      <td>5.70</td>\n",
       "      <td>2024-01-12</td>\n",
       "      <td>476.679993</td>\n",
       "      <td>0.000000</td>\n",
       "      <td>-3.020007</td>\n",
       "      <td>227.540013</td>\n",
       "      <td>401.149894</td>\n",
       "    </tr>\n",
       "    <tr>\n",
       "      <th>2023-12-27</th>\n",
       "      <td>0</td>\n",
       "      <td>476.0</td>\n",
       "      <td>6.19</td>\n",
       "      <td>2024-01-19</td>\n",
       "      <td>482.429993</td>\n",
       "      <td>0.000000</td>\n",
       "      <td>0.239993</td>\n",
       "      <td>227.540013</td>\n",
       "      <td>401.389886</td>\n",
       "    </tr>\n",
       "    <tr>\n",
       "      <th>2023-12-28</th>\n",
       "      <td>0</td>\n",
       "      <td>477.0</td>\n",
       "      <td>5.46</td>\n",
       "      <td>2024-01-19</td>\n",
       "      <td>482.429993</td>\n",
       "      <td>0.000000</td>\n",
       "      <td>-0.030007</td>\n",
       "      <td>227.540013</td>\n",
       "      <td>401.359879</td>\n",
       "    </tr>\n",
       "    <tr>\n",
       "      <th>2023-12-29</th>\n",
       "      <td>0</td>\n",
       "      <td>475.0</td>\n",
       "      <td>5.71</td>\n",
       "      <td>2024-01-19</td>\n",
       "      <td>482.429993</td>\n",
       "      <td>0.000000</td>\n",
       "      <td>1.719993</td>\n",
       "      <td>227.540013</td>\n",
       "      <td>403.079872</td>\n",
       "    </tr>\n",
       "  </tbody>\n",
       "</table>\n",
       "<p>199 rows × 9 columns</p>\n",
       "</div>"
      ],
      "text/plain": [
       "            strategy  strike  call_price    exp_date  final_price     profit  \\\n",
       "Date                                                                           \n",
       "2023-01-04         1   384.0        7.46  2023-01-27   405.679993  14.219993   \n",
       "2023-01-05         1   379.0        8.50  2023-01-27   405.679993  18.179993   \n",
       "2023-01-06         1   388.0        7.72  2023-01-27   405.679993   9.959993   \n",
       "2023-01-09         1   388.0        7.46  2023-01-27   405.679993  10.219993   \n",
       "2023-01-11         0   395.0        9.11  2023-02-03   412.350006   0.000000   \n",
       "...              ...     ...         ...         ...          ...        ...   \n",
       "2023-12-21         0   473.0        6.07  2024-01-12   476.679993   0.000000   \n",
       "2023-12-22         0   474.0        5.70  2024-01-12   476.679993   0.000000   \n",
       "2023-12-27         0   476.0        6.19  2024-01-19   482.429993   0.000000   \n",
       "2023-12-28         0   477.0        5.46  2024-01-19   482.429993   0.000000   \n",
       "2023-12-29         0   475.0        5.71  2024-01-19   482.429993   0.000000   \n",
       "\n",
       "                 bare  cum_profit    cum_bare  \n",
       "Date                                           \n",
       "2023-01-04  14.219993   14.219993   14.219993  \n",
       "2023-01-05  18.179993   32.399985   32.399985  \n",
       "2023-01-06   9.959993   42.359978   42.359978  \n",
       "2023-01-09  10.219993   52.579971   52.579971  \n",
       "2023-01-11   8.240006   52.579971   60.819977  \n",
       "...               ...         ...         ...  \n",
       "2023-12-21  -2.390007  227.540013  404.169901  \n",
       "2023-12-22  -3.020007  227.540013  401.149894  \n",
       "2023-12-27   0.239993  227.540013  401.389886  \n",
       "2023-12-28  -0.030007  227.540013  401.359879  \n",
       "2023-12-29   1.719993  227.540013  403.079872  \n",
       "\n",
       "[199 rows x 9 columns]"
      ]
     },
     "execution_count": 106,
     "metadata": {},
     "output_type": "execute_result"
    }
   ],
   "source": [
    "strategy_df"
   ]
  },
  {
   "cell_type": "code",
   "execution_count": 107,
   "id": "6ca188f3",
   "metadata": {},
   "outputs": [
    {
     "data": {
      "image/png": "[encoded data removed]",
      "text/plain": [
       "<Figure size 1200x600 with 1 Axes>"
      ]
     },
     "metadata": {},
     "output_type": "display_data"
    }
   ],
   "source": [
    "plot_strategy(strategy_df, \"Random Forest\", \"(Buy only in sample)\")"
   ]
  },
  {
   "cell_type": "markdown",
   "id": "8e52788e-37e9-4b2a-8436-1572f386fe24",
   "metadata": {},
   "source": [
    "## Random Forest with data from MC simulation and additional features"
   ]
  },
  {
   "cell_type": "code",
   "execution_count": 108,
   "id": "9a7cf730-39e9-4afc-8fb8-51c21cb65ac2",
   "metadata": {},
   "outputs": [],
   "source": [
    "new_df = pd.concat(\n",
    "    (\n",
    "        ml_df[\n",
    "            [\n",
    "                \"UNDERLYING_LAST\",\n",
    "                \"STRIKE\",\n",
    "                \"C_LAST\",\n",
    "                \"C_BID\",\n",
    "                \"C_ASK\",\n",
    "                \"C_IV\",\n",
    "                \"C_VOLUME\",\n",
    "                \"diff\",\n",
    "            ]\n",
    "        ],\n",
    "        wk_df.drop([\"last_quote\", \"strike\", \"r\"], axis=1),\n",
    "    ),\n",
    "    axis=1,\n",
    ")"
   ]
  },
  {
   "cell_type": "code",
   "execution_count": 109,
   "id": "71a92237-dd4d-467d-8945-2840400eda17",
   "metadata": {},
   "outputs": [],
   "source": [
    "# Add some features\n",
    "new_df[\"iqr\"] = new_df[\"exp_price_q3\"] - new_df[\"exp_price_q1\"]\n",
    "new_df[\"diff_call\"] = new_df[\"exp_call_price\"] - new_df[\"C_LAST\"]\n",
    "new_df[\"exp_price_var\"] = np.power(new_df[\"exp_price_std\"], 2)\n",
    "new_df[\"exp_profit\"] = new_df[\"exp_price\"] - (new_df[\"STRIKE\"] + new_df[\"C_LAST\"])"
   ]
  },
  {
   "cell_type": "markdown",
   "id": "41cc1ee7-4696-44a9-9da2-8e47a5e4cf36",
   "metadata": {},
   "source": [
    "### In-sample predictions"
   ]
  },
  {
   "cell_type": "code",
   "execution_count": 110,
   "id": "f3f45290-d39b-40d7-9d35-e3e0caebb333",
   "metadata": {},
   "outputs": [],
   "source": [
    "X_train, X_test, y_train, y_test = train_test_split(\n",
    "    new_df, target.values.flatten(), test_size=199, random_state=1968, shuffle=False\n",
    ")"
   ]
  },
  {
   "cell_type": "code",
   "execution_count": 111,
   "id": "e8edd9a5-fc9a-4aea-898c-9e6a736a5217",
   "metadata": {},
   "outputs": [],
   "source": [
    "pipe = Pipeline(\n",
    "    [\n",
    "        (\"imputer\", SimpleImputer(strategy=\"constant\", fill_value=0.0)),\n",
    "        (\"rf\", RandomForestClassifier()),\n",
    "    ]\n",
    ")"
   ]
  },
  {
   "cell_type": "code",
   "execution_count": 112,
   "id": "1592c555-bcbc-4dfb-9768-54bcc2a7a3da",
   "metadata": {},
   "outputs": [
    {
     "data": {
      "text/html": [
       "<style>#sk-container-id-15 {color: black;}#sk-container-id-15 pre{padding: 0;}#sk-container-id-15 div.sk-toggleable {background-color: white;}#sk-container-id-15 label.sk-toggleable__label {cursor: pointer;display: block;width: 100%;margin-bottom: 0;padding: 0.3em;box-sizing: border-box;text-align: center;}#sk-container-id-15 label.sk-toggleable__label-arrow:before {content: \"▸\";float: left;margin-right: 0.25em;color: #696969;}#sk-container-id-15 label.sk-toggleable__label-arrow:hover:before {color: black;}#sk-container-id-15 div.sk-estimator:hover label.sk-toggleable__label-arrow:before {color: black;}#sk-container-id-15 div.sk-toggleable__content {max-height: 0;max-width: 0;overflow: hidden;text-align: left;background-color: #f0f8ff;}#sk-container-id-15 div.sk-toggleable__content pre {margin: 0.2em;color: black;border-radius: 0.25em;background-color: #f0f8ff;}#sk-container-id-15 input.sk-toggleable__control:checked~div.sk-toggleable__content {max-height: 200px;max-width: 100%;overflow: auto;}#sk-container-id-15 input.sk-toggleable__control:checked~label.sk-toggleable__label-arrow:before {content: \"▾\";}#sk-container-id-15 div.sk-estimator input.sk-toggleable__control:checked~label.sk-toggleable__label {background-color: #d4ebff;}#sk-container-id-15 div.sk-label input.sk-toggleable__control:checked~label.sk-toggleable__label {background-color: #d4ebff;}#sk-container-id-15 input.sk-hidden--visually {border: 0;clip: rect(1px 1px 1px 1px);clip: rect(1px, 1px, 1px, 1px);height: 1px;margin: -1px;overflow: hidden;padding: 0;position: absolute;width: 1px;}#sk-container-id-15 div.sk-estimator {font-family: monospace;background-color: #f0f8ff;border: 1px dotted black;border-radius: 0.25em;box-sizing: border-box;margin-bottom: 0.5em;}#sk-container-id-15 div.sk-estimator:hover {background-color: #d4ebff;}#sk-container-id-15 div.sk-parallel-item::after {content: \"\";width: 100%;border-bottom: 1px solid gray;flex-grow: 1;}#sk-container-id-15 div.sk-label:hover label.sk-toggleable__label {background-color: #d4ebff;}#sk-container-id-15 div.sk-serial::before {content: \"\";position: absolute;border-left: 1px solid gray;box-sizing: border-box;top: 0;bottom: 0;left: 50%;z-index: 0;}#sk-container-id-15 div.sk-serial {display: flex;flex-direction: column;align-items: center;background-color: white;padding-right: 0.2em;padding-left: 0.2em;position: relative;}#sk-container-id-15 div.sk-item {position: relative;z-index: 1;}#sk-container-id-15 div.sk-parallel {display: flex;align-items: stretch;justify-content: center;background-color: white;position: relative;}#sk-container-id-15 div.sk-item::before, #sk-container-id-15 div.sk-parallel-item::before {content: \"\";position: absolute;border-left: 1px solid gray;box-sizing: border-box;top: 0;bottom: 0;left: 50%;z-index: -1;}#sk-container-id-15 div.sk-parallel-item {display: flex;flex-direction: column;z-index: 1;position: relative;background-color: white;}#sk-container-id-15 div.sk-parallel-item:first-child::after {align-self: flex-end;width: 50%;}#sk-container-id-15 div.sk-parallel-item:last-child::after {align-self: flex-start;width: 50%;}#sk-container-id-15 div.sk-parallel-item:only-child::after {width: 0;}#sk-container-id-15 div.sk-dashed-wrapped {border: 1px dashed gray;margin: 0 0.4em 0.5em 0.4em;box-sizing: border-box;padding-bottom: 0.4em;background-color: white;}#sk-container-id-15 div.sk-label label {font-family: monospace;font-weight: bold;display: inline-block;line-height: 1.2em;}#sk-container-id-15 div.sk-label-container {text-align: center;}#sk-container-id-15 div.sk-container {/* jupyter's `normalize.less` sets `[hidden] { display: none; }` but bootstrap.min.css set `[hidden] { display: none !important; }` so we also need the `!important` here to be able to override the default hidden behavior on the sphinx rendered scikit-learn.org. See: https://github.com/scikit-learn/scikit-learn/issues/21755 */display: inline-block !important;position: relative;}#sk-container-id-15 div.sk-text-repr-fallback {display: none;}</style><div id=\"sk-container-id-15\" class=\"sk-top-container\"><div class=\"sk-text-repr-fallback\"><pre>Pipeline(steps=[(&#x27;imputer&#x27;, SimpleImputer(fill_value=0.0, strategy=&#x27;constant&#x27;)),\n",
       "                (&#x27;rf&#x27;, RandomForestClassifier())])</pre><b>In a Jupyter environment, please rerun this cell to show the HTML representation or trust the notebook. <br />On GitHub, the HTML representation is unable to render, please try loading this page with nbviewer.org.</b></div><div class=\"sk-container\" hidden><div class=\"sk-item sk-dashed-wrapped\"><div class=\"sk-label-container\"><div class=\"sk-label sk-toggleable\"><input class=\"sk-toggleable__control sk-hidden--visually\" id=\"sk-estimator-id-43\" type=\"checkbox\" ><label for=\"sk-estimator-id-43\" class=\"sk-toggleable__label sk-toggleable__label-arrow\">Pipeline</label><div class=\"sk-toggleable__content\"><pre>Pipeline(steps=[(&#x27;imputer&#x27;, SimpleImputer(fill_value=0.0, strategy=&#x27;constant&#x27;)),\n",
       "                (&#x27;rf&#x27;, RandomForestClassifier())])</pre></div></div></div><div class=\"sk-serial\"><div class=\"sk-item\"><div class=\"sk-estimator sk-toggleable\"><input class=\"sk-toggleable__control sk-hidden--visually\" id=\"sk-estimator-id-44\" type=\"checkbox\" ><label for=\"sk-estimator-id-44\" class=\"sk-toggleable__label sk-toggleable__label-arrow\">SimpleImputer</label><div class=\"sk-toggleable__content\"><pre>SimpleImputer(fill_value=0.0, strategy=&#x27;constant&#x27;)</pre></div></div></div><div class=\"sk-item\"><div class=\"sk-estimator sk-toggleable\"><input class=\"sk-toggleable__control sk-hidden--visually\" id=\"sk-estimator-id-45\" type=\"checkbox\" ><label for=\"sk-estimator-id-45\" class=\"sk-toggleable__label sk-toggleable__label-arrow\">RandomForestClassifier</label><div class=\"sk-toggleable__content\"><pre>RandomForestClassifier()</pre></div></div></div></div></div></div></div>"
      ],
      "text/plain": [
       "Pipeline(steps=[('imputer', SimpleImputer(fill_value=0.0, strategy='constant')),\n",
       "                ('rf', RandomForestClassifier())])"
      ]
     },
     "execution_count": 112,
     "metadata": {},
     "output_type": "execute_result"
    }
   ],
   "source": [
    "# Fit the tuned model\n",
    "pipe.fit(X_train, y_train)"
   ]
  },
  {
   "cell_type": "code",
   "execution_count": 114,
   "id": "d4bb37a8",
   "metadata": {},
   "outputs": [
    {
     "data": {
      "text/plain": [
       "1.0"
      ]
     },
     "execution_count": 114,
     "metadata": {},
     "output_type": "execute_result"
    }
   ],
   "source": [
    "pipe.score(X_train, y_train)"
   ]
  },
  {
   "cell_type": "code",
   "execution_count": 115,
   "id": "91e40235-b49a-46ac-b172-b17a8d65aeb2",
   "metadata": {},
   "outputs": [],
   "source": [
    "predictions = pipe.predict(X_test)"
   ]
  },
  {
   "cell_type": "code",
   "execution_count": 116,
   "id": "9f8a0971-4bce-4880-8589-0f44b710dc79",
   "metadata": {},
   "outputs": [
    {
     "data": {
      "text/plain": [
       "0.5778894472361809"
      ]
     },
     "execution_count": 116,
     "metadata": {},
     "output_type": "execute_result"
    }
   ],
   "source": [
    "pipe.score(X_test, y_test)"
   ]
  },
  {
   "cell_type": "code",
   "execution_count": 117,
   "id": "e6a09996-f024-463d-b96c-1809d85832f5",
   "metadata": {},
   "outputs": [
    {
     "name": "stdout",
     "output_type": "stream",
     "text": [
      "              precision    recall  f1-score   support\n",
      "\n",
      "           0       0.56      0.65      0.60        98\n",
      "           1       0.60      0.50      0.55       101\n",
      "\n",
      "    accuracy                           0.58       199\n",
      "   macro avg       0.58      0.58      0.58       199\n",
      "weighted avg       0.58      0.58      0.58       199\n",
      "\n"
     ]
    },
    {
     "data": {
      "image/png": "[encoded data removed]",
      "text/plain": [
       "<Figure size 640x480 with 2 Axes>"
      ]
     },
     "metadata": {},
     "output_type": "display_data"
    }
   ],
   "source": [
    "display_report(y_test, predictions)"
   ]
  },
  {
   "cell_type": "code",
   "execution_count": 118,
   "id": "56719f93-bb08-4643-90e6-fcf81d3b9b42",
   "metadata": {},
   "outputs": [
    {
     "data": {
      "image/png": "[encoded data removed]",
      "text/plain": [
       "<Figure size 1000x600 with 1 Axes>"
      ]
     },
     "metadata": {},
     "output_type": "display_data"
    }
   ],
   "source": [
    "coefficients = pipe.named_steps[\"rf\"].feature_importances_\n",
    "columns = new_df.columns\n",
    "plot_feature_imp(coefficients, columns)"
   ]
  },
  {
   "cell_type": "code",
   "execution_count": 119,
   "id": "f8897a70-3f55-45a3-a4da-922dfd894854",
   "metadata": {},
   "outputs": [],
   "source": [
    "compare_df[\"mmar_rf_pred_in\"] = predictions"
   ]
  },
  {
   "cell_type": "markdown",
   "id": "dc803b59-d3a5-45b4-bac3-1b74956fc192",
   "metadata": {},
   "source": [
    "### Backtesting"
   ]
  },
  {
   "cell_type": "code",
   "execution_count": 120,
   "id": "12821195",
   "metadata": {},
   "outputs": [],
   "source": [
    "strategy_df = backtest_strategy(predictions, X_test, spy, ml_df)"
   ]
  },
  {
   "cell_type": "code",
   "execution_count": 121,
   "id": "c6e25131-2f96-406d-86cf-99f57eba9ab2",
   "metadata": {},
   "outputs": [
    {
     "data": {
      "text/html": [
       "<div>\n",
       "<style scoped>\n",
       "    .dataframe tbody tr th:only-of-type {\n",
       "        vertical-align: middle;\n",
       "    }\n",
       "\n",
       "    .dataframe tbody tr th {\n",
       "        vertical-align: top;\n",
       "    }\n",
       "\n",
       "    .dataframe thead th {\n",
       "        text-align: right;\n",
       "    }\n",
       "</style>\n",
       "<table border=\"1\" class=\"dataframe\">\n",
       "  <thead>\n",
       "    <tr style=\"text-align: right;\">\n",
       "      <th></th>\n",
       "      <th>strategy</th>\n",
       "      <th>strike</th>\n",
       "      <th>call_price</th>\n",
       "      <th>exp_date</th>\n",
       "      <th>final_price</th>\n",
       "      <th>profit</th>\n",
       "      <th>bare</th>\n",
       "      <th>cum_profit</th>\n",
       "      <th>cum_bare</th>\n",
       "    </tr>\n",
       "    <tr>\n",
       "      <th>Date</th>\n",
       "      <th></th>\n",
       "      <th></th>\n",
       "      <th></th>\n",
       "      <th></th>\n",
       "      <th></th>\n",
       "      <th></th>\n",
       "      <th></th>\n",
       "      <th></th>\n",
       "      <th></th>\n",
       "    </tr>\n",
       "  </thead>\n",
       "  <tbody>\n",
       "    <tr>\n",
       "      <th>2023-01-04</th>\n",
       "      <td>1</td>\n",
       "      <td>384.0</td>\n",
       "      <td>7.46</td>\n",
       "      <td>2023-01-27</td>\n",
       "      <td>405.679993</td>\n",
       "      <td>14.219993</td>\n",
       "      <td>14.219993</td>\n",
       "      <td>14.219993</td>\n",
       "      <td>14.219993</td>\n",
       "    </tr>\n",
       "    <tr>\n",
       "      <th>2023-01-05</th>\n",
       "      <td>1</td>\n",
       "      <td>379.0</td>\n",
       "      <td>8.50</td>\n",
       "      <td>2023-01-27</td>\n",
       "      <td>405.679993</td>\n",
       "      <td>18.179993</td>\n",
       "      <td>18.179993</td>\n",
       "      <td>32.399985</td>\n",
       "      <td>32.399985</td>\n",
       "    </tr>\n",
       "    <tr>\n",
       "      <th>2023-01-06</th>\n",
       "      <td>1</td>\n",
       "      <td>388.0</td>\n",
       "      <td>7.72</td>\n",
       "      <td>2023-01-27</td>\n",
       "      <td>405.679993</td>\n",
       "      <td>9.959993</td>\n",
       "      <td>9.959993</td>\n",
       "      <td>42.359978</td>\n",
       "      <td>42.359978</td>\n",
       "    </tr>\n",
       "    <tr>\n",
       "      <th>2023-01-09</th>\n",
       "      <td>1</td>\n",
       "      <td>388.0</td>\n",
       "      <td>7.46</td>\n",
       "      <td>2023-01-27</td>\n",
       "      <td>405.679993</td>\n",
       "      <td>10.219993</td>\n",
       "      <td>10.219993</td>\n",
       "      <td>52.579971</td>\n",
       "      <td>52.579971</td>\n",
       "    </tr>\n",
       "    <tr>\n",
       "      <th>2023-01-11</th>\n",
       "      <td>0</td>\n",
       "      <td>395.0</td>\n",
       "      <td>9.11</td>\n",
       "      <td>2023-02-03</td>\n",
       "      <td>412.350006</td>\n",
       "      <td>0.000000</td>\n",
       "      <td>8.240006</td>\n",
       "      <td>52.579971</td>\n",
       "      <td>60.819977</td>\n",
       "    </tr>\n",
       "    <tr>\n",
       "      <th>...</th>\n",
       "      <td>...</td>\n",
       "      <td>...</td>\n",
       "      <td>...</td>\n",
       "      <td>...</td>\n",
       "      <td>...</td>\n",
       "      <td>...</td>\n",
       "      <td>...</td>\n",
       "      <td>...</td>\n",
       "      <td>...</td>\n",
       "    </tr>\n",
       "    <tr>\n",
       "      <th>2023-12-21</th>\n",
       "      <td>0</td>\n",
       "      <td>473.0</td>\n",
       "      <td>6.07</td>\n",
       "      <td>2024-01-12</td>\n",
       "      <td>476.679993</td>\n",
       "      <td>0.000000</td>\n",
       "      <td>-2.390007</td>\n",
       "      <td>335.619952</td>\n",
       "      <td>404.169901</td>\n",
       "    </tr>\n",
       "    <tr>\n",
       "      <th>2023-12-22</th>\n",
       "      <td>0</td>\n",
       "      <td>474.0</td>\n",
       "      <td>5.70</td>\n",
       "      <td>2024-01-12</td>\n",
       "      <td>476.679993</td>\n",
       "      <td>0.000000</td>\n",
       "      <td>-3.020007</td>\n",
       "      <td>335.619952</td>\n",
       "      <td>401.149894</td>\n",
       "    </tr>\n",
       "    <tr>\n",
       "      <th>2023-12-27</th>\n",
       "      <td>0</td>\n",
       "      <td>476.0</td>\n",
       "      <td>6.19</td>\n",
       "      <td>2024-01-19</td>\n",
       "      <td>482.429993</td>\n",
       "      <td>0.000000</td>\n",
       "      <td>0.239993</td>\n",
       "      <td>335.619952</td>\n",
       "      <td>401.389886</td>\n",
       "    </tr>\n",
       "    <tr>\n",
       "      <th>2023-12-28</th>\n",
       "      <td>0</td>\n",
       "      <td>477.0</td>\n",
       "      <td>5.46</td>\n",
       "      <td>2024-01-19</td>\n",
       "      <td>482.429993</td>\n",
       "      <td>0.000000</td>\n",
       "      <td>-0.030007</td>\n",
       "      <td>335.619952</td>\n",
       "      <td>401.359879</td>\n",
       "    </tr>\n",
       "    <tr>\n",
       "      <th>2023-12-29</th>\n",
       "      <td>0</td>\n",
       "      <td>475.0</td>\n",
       "      <td>5.71</td>\n",
       "      <td>2024-01-19</td>\n",
       "      <td>482.429993</td>\n",
       "      <td>0.000000</td>\n",
       "      <td>1.719993</td>\n",
       "      <td>335.619952</td>\n",
       "      <td>403.079872</td>\n",
       "    </tr>\n",
       "  </tbody>\n",
       "</table>\n",
       "<p>199 rows × 9 columns</p>\n",
       "</div>"
      ],
      "text/plain": [
       "            strategy  strike  call_price    exp_date  final_price     profit  \\\n",
       "Date                                                                           \n",
       "2023-01-04         1   384.0        7.46  2023-01-27   405.679993  14.219993   \n",
       "2023-01-05         1   379.0        8.50  2023-01-27   405.679993  18.179993   \n",
       "2023-01-06         1   388.0        7.72  2023-01-27   405.679993   9.959993   \n",
       "2023-01-09         1   388.0        7.46  2023-01-27   405.679993  10.219993   \n",
       "2023-01-11         0   395.0        9.11  2023-02-03   412.350006   0.000000   \n",
       "...              ...     ...         ...         ...          ...        ...   \n",
       "2023-12-21         0   473.0        6.07  2024-01-12   476.679993   0.000000   \n",
       "2023-12-22         0   474.0        5.70  2024-01-12   476.679993   0.000000   \n",
       "2023-12-27         0   476.0        6.19  2024-01-19   482.429993   0.000000   \n",
       "2023-12-28         0   477.0        5.46  2024-01-19   482.429993   0.000000   \n",
       "2023-12-29         0   475.0        5.71  2024-01-19   482.429993   0.000000   \n",
       "\n",
       "                 bare  cum_profit    cum_bare  \n",
       "Date                                           \n",
       "2023-01-04  14.219993   14.219993   14.219993  \n",
       "2023-01-05  18.179993   32.399985   32.399985  \n",
       "2023-01-06   9.959993   42.359978   42.359978  \n",
       "2023-01-09  10.219993   52.579971   52.579971  \n",
       "2023-01-11   8.240006   52.579971   60.819977  \n",
       "...               ...         ...         ...  \n",
       "2023-12-21  -2.390007  335.619952  404.169901  \n",
       "2023-12-22  -3.020007  335.619952  401.149894  \n",
       "2023-12-27   0.239993  335.619952  401.389886  \n",
       "2023-12-28  -0.030007  335.619952  401.359879  \n",
       "2023-12-29   1.719993  335.619952  403.079872  \n",
       "\n",
       "[199 rows x 9 columns]"
      ]
     },
     "execution_count": 121,
     "metadata": {},
     "output_type": "execute_result"
    }
   ],
   "source": [
    "strategy_df"
   ]
  },
  {
   "cell_type": "code",
   "execution_count": 122,
   "id": "cfeb9024",
   "metadata": {},
   "outputs": [
    {
     "data": {
      "image/png": "[encoded data removed]",
      "text/plain": [
       "<Figure size 1200x600 with 1 Axes>"
      ]
     },
     "metadata": {},
     "output_type": "display_data"
    }
   ],
   "source": [
    "plot_strategy(strategy_df, \"Random Forest\", \"+ data (Buy only in-sample)\")"
   ]
  },
  {
   "cell_type": "markdown",
   "id": "5b426c74-010e-45c1-9f87-64d55e03cdef",
   "metadata": {},
   "source": [
    "## Compare the two predictions"
   ]
  },
  {
   "cell_type": "code",
   "execution_count": 123,
   "id": "91cafadf-ce23-4318-a62b-93cd97e0c8c6",
   "metadata": {},
   "outputs": [],
   "source": [
    "mask_in = (compare_df[\"bare_rf_pred_in\"] - compare_df[\"mmar_rf_pred_in\"]).astype(bool)"
   ]
  },
  {
   "cell_type": "code",
   "execution_count": 124,
   "id": "97e4504a-6a36-4124-9df4-15e119fdff33",
   "metadata": {},
   "outputs": [
    {
     "data": {
      "text/html": [
       "<div>\n",
       "<style scoped>\n",
       "    .dataframe tbody tr th:only-of-type {\n",
       "        vertical-align: middle;\n",
       "    }\n",
       "\n",
       "    .dataframe tbody tr th {\n",
       "        vertical-align: top;\n",
       "    }\n",
       "\n",
       "    .dataframe thead th {\n",
       "        text-align: right;\n",
       "    }\n",
       "</style>\n",
       "<table border=\"1\" class=\"dataframe\">\n",
       "  <thead>\n",
       "    <tr style=\"text-align: right;\">\n",
       "      <th></th>\n",
       "      <th>bare_rf_pred_in</th>\n",
       "      <th>mmar_rf_pred_in</th>\n",
       "    </tr>\n",
       "  </thead>\n",
       "  <tbody>\n",
       "    <tr>\n",
       "      <th>38</th>\n",
       "      <td>0</td>\n",
       "      <td>1</td>\n",
       "    </tr>\n",
       "    <tr>\n",
       "      <th>41</th>\n",
       "      <td>0</td>\n",
       "      <td>1</td>\n",
       "    </tr>\n",
       "    <tr>\n",
       "      <th>56</th>\n",
       "      <td>1</td>\n",
       "      <td>0</td>\n",
       "    </tr>\n",
       "    <tr>\n",
       "      <th>58</th>\n",
       "      <td>1</td>\n",
       "      <td>0</td>\n",
       "    </tr>\n",
       "    <tr>\n",
       "      <th>60</th>\n",
       "      <td>1</td>\n",
       "      <td>0</td>\n",
       "    </tr>\n",
       "    <tr>\n",
       "      <th>67</th>\n",
       "      <td>1</td>\n",
       "      <td>0</td>\n",
       "    </tr>\n",
       "    <tr>\n",
       "      <th>68</th>\n",
       "      <td>1</td>\n",
       "      <td>0</td>\n",
       "    </tr>\n",
       "    <tr>\n",
       "      <th>69</th>\n",
       "      <td>1</td>\n",
       "      <td>0</td>\n",
       "    </tr>\n",
       "    <tr>\n",
       "      <th>72</th>\n",
       "      <td>1</td>\n",
       "      <td>0</td>\n",
       "    </tr>\n",
       "    <tr>\n",
       "      <th>73</th>\n",
       "      <td>1</td>\n",
       "      <td>0</td>\n",
       "    </tr>\n",
       "    <tr>\n",
       "      <th>74</th>\n",
       "      <td>0</td>\n",
       "      <td>1</td>\n",
       "    </tr>\n",
       "    <tr>\n",
       "      <th>75</th>\n",
       "      <td>0</td>\n",
       "      <td>1</td>\n",
       "    </tr>\n",
       "    <tr>\n",
       "      <th>80</th>\n",
       "      <td>0</td>\n",
       "      <td>1</td>\n",
       "    </tr>\n",
       "    <tr>\n",
       "      <th>81</th>\n",
       "      <td>0</td>\n",
       "      <td>1</td>\n",
       "    </tr>\n",
       "    <tr>\n",
       "      <th>82</th>\n",
       "      <td>0</td>\n",
       "      <td>1</td>\n",
       "    </tr>\n",
       "    <tr>\n",
       "      <th>83</th>\n",
       "      <td>0</td>\n",
       "      <td>1</td>\n",
       "    </tr>\n",
       "    <tr>\n",
       "      <th>84</th>\n",
       "      <td>0</td>\n",
       "      <td>1</td>\n",
       "    </tr>\n",
       "    <tr>\n",
       "      <th>85</th>\n",
       "      <td>0</td>\n",
       "      <td>1</td>\n",
       "    </tr>\n",
       "    <tr>\n",
       "      <th>88</th>\n",
       "      <td>0</td>\n",
       "      <td>1</td>\n",
       "    </tr>\n",
       "    <tr>\n",
       "      <th>91</th>\n",
       "      <td>0</td>\n",
       "      <td>1</td>\n",
       "    </tr>\n",
       "    <tr>\n",
       "      <th>92</th>\n",
       "      <td>0</td>\n",
       "      <td>1</td>\n",
       "    </tr>\n",
       "    <tr>\n",
       "      <th>94</th>\n",
       "      <td>0</td>\n",
       "      <td>1</td>\n",
       "    </tr>\n",
       "    <tr>\n",
       "      <th>95</th>\n",
       "      <td>0</td>\n",
       "      <td>1</td>\n",
       "    </tr>\n",
       "    <tr>\n",
       "      <th>96</th>\n",
       "      <td>0</td>\n",
       "      <td>1</td>\n",
       "    </tr>\n",
       "    <tr>\n",
       "      <th>98</th>\n",
       "      <td>0</td>\n",
       "      <td>1</td>\n",
       "    </tr>\n",
       "    <tr>\n",
       "      <th>99</th>\n",
       "      <td>0</td>\n",
       "      <td>1</td>\n",
       "    </tr>\n",
       "    <tr>\n",
       "      <th>101</th>\n",
       "      <td>0</td>\n",
       "      <td>1</td>\n",
       "    </tr>\n",
       "    <tr>\n",
       "      <th>102</th>\n",
       "      <td>1</td>\n",
       "      <td>0</td>\n",
       "    </tr>\n",
       "    <tr>\n",
       "      <th>103</th>\n",
       "      <td>0</td>\n",
       "      <td>1</td>\n",
       "    </tr>\n",
       "    <tr>\n",
       "      <th>104</th>\n",
       "      <td>0</td>\n",
       "      <td>1</td>\n",
       "    </tr>\n",
       "    <tr>\n",
       "      <th>106</th>\n",
       "      <td>1</td>\n",
       "      <td>0</td>\n",
       "    </tr>\n",
       "    <tr>\n",
       "      <th>107</th>\n",
       "      <td>0</td>\n",
       "      <td>1</td>\n",
       "    </tr>\n",
       "    <tr>\n",
       "      <th>108</th>\n",
       "      <td>0</td>\n",
       "      <td>1</td>\n",
       "    </tr>\n",
       "    <tr>\n",
       "      <th>109</th>\n",
       "      <td>0</td>\n",
       "      <td>1</td>\n",
       "    </tr>\n",
       "    <tr>\n",
       "      <th>110</th>\n",
       "      <td>1</td>\n",
       "      <td>0</td>\n",
       "    </tr>\n",
       "    <tr>\n",
       "      <th>112</th>\n",
       "      <td>0</td>\n",
       "      <td>1</td>\n",
       "    </tr>\n",
       "    <tr>\n",
       "      <th>126</th>\n",
       "      <td>1</td>\n",
       "      <td>0</td>\n",
       "    </tr>\n",
       "    <tr>\n",
       "      <th>134</th>\n",
       "      <td>0</td>\n",
       "      <td>1</td>\n",
       "    </tr>\n",
       "    <tr>\n",
       "      <th>139</th>\n",
       "      <td>0</td>\n",
       "      <td>1</td>\n",
       "    </tr>\n",
       "    <tr>\n",
       "      <th>140</th>\n",
       "      <td>0</td>\n",
       "      <td>1</td>\n",
       "    </tr>\n",
       "    <tr>\n",
       "      <th>141</th>\n",
       "      <td>1</td>\n",
       "      <td>0</td>\n",
       "    </tr>\n",
       "    <tr>\n",
       "      <th>142</th>\n",
       "      <td>1</td>\n",
       "      <td>0</td>\n",
       "    </tr>\n",
       "    <tr>\n",
       "      <th>144</th>\n",
       "      <td>0</td>\n",
       "      <td>1</td>\n",
       "    </tr>\n",
       "    <tr>\n",
       "      <th>152</th>\n",
       "      <td>0</td>\n",
       "      <td>1</td>\n",
       "    </tr>\n",
       "    <tr>\n",
       "      <th>155</th>\n",
       "      <td>0</td>\n",
       "      <td>1</td>\n",
       "    </tr>\n",
       "    <tr>\n",
       "      <th>156</th>\n",
       "      <td>0</td>\n",
       "      <td>1</td>\n",
       "    </tr>\n",
       "    <tr>\n",
       "      <th>168</th>\n",
       "      <td>0</td>\n",
       "      <td>1</td>\n",
       "    </tr>\n",
       "    <tr>\n",
       "      <th>169</th>\n",
       "      <td>0</td>\n",
       "      <td>1</td>\n",
       "    </tr>\n",
       "    <tr>\n",
       "      <th>173</th>\n",
       "      <td>0</td>\n",
       "      <td>1</td>\n",
       "    </tr>\n",
       "    <tr>\n",
       "      <th>178</th>\n",
       "      <td>1</td>\n",
       "      <td>0</td>\n",
       "    </tr>\n",
       "    <tr>\n",
       "      <th>187</th>\n",
       "      <td>0</td>\n",
       "      <td>1</td>\n",
       "    </tr>\n",
       "  </tbody>\n",
       "</table>\n",
       "</div>"
      ],
      "text/plain": [
       "     bare_rf_pred_in  mmar_rf_pred_in\n",
       "38                 0                1\n",
       "41                 0                1\n",
       "56                 1                0\n",
       "58                 1                0\n",
       "60                 1                0\n",
       "67                 1                0\n",
       "68                 1                0\n",
       "69                 1                0\n",
       "72                 1                0\n",
       "73                 1                0\n",
       "74                 0                1\n",
       "75                 0                1\n",
       "80                 0                1\n",
       "81                 0                1\n",
       "82                 0                1\n",
       "83                 0                1\n",
       "84                 0                1\n",
       "85                 0                1\n",
       "88                 0                1\n",
       "91                 0                1\n",
       "92                 0                1\n",
       "94                 0                1\n",
       "95                 0                1\n",
       "96                 0                1\n",
       "98                 0                1\n",
       "99                 0                1\n",
       "101                0                1\n",
       "102                1                0\n",
       "103                0                1\n",
       "104                0                1\n",
       "106                1                0\n",
       "107                0                1\n",
       "108                0                1\n",
       "109                0                1\n",
       "110                1                0\n",
       "112                0                1\n",
       "126                1                0\n",
       "134                0                1\n",
       "139                0                1\n",
       "140                0                1\n",
       "141                1                0\n",
       "142                1                0\n",
       "144                0                1\n",
       "152                0                1\n",
       "155                0                1\n",
       "156                0                1\n",
       "168                0                1\n",
       "169                0                1\n",
       "173                0                1\n",
       "178                1                0\n",
       "187                0                1"
      ]
     },
     "execution_count": 124,
     "metadata": {},
     "output_type": "execute_result"
    }
   ],
   "source": [
    "compare_df[mask_in]"
   ]
  },
  {
   "cell_type": "code",
   "execution_count": 125,
   "id": "c08a8489-d08f-4c06-8d57-1b3afa5810e8",
   "metadata": {},
   "outputs": [
    {
     "data": {
      "text/plain": [
       "(51, 2)"
      ]
     },
     "execution_count": 125,
     "metadata": {},
     "output_type": "execute_result"
    }
   ],
   "source": [
    "compare_df[mask_in].shape"
   ]
  },
  {
   "cell_type": "code",
   "execution_count": 126,
   "id": "1d583a4f-7b4b-4048-8955-cb5da12f2b18",
   "metadata": {},
   "outputs": [
    {
     "data": {
      "text/plain": [
       "bare_rf_pred_in    64\n",
       "mmar_rf_pred_in    85\n",
       "dtype: int64"
      ]
     },
     "execution_count": 126,
     "metadata": {},
     "output_type": "execute_result"
    }
   ],
   "source": [
    "compare_df.sum(axis=0)"
   ]
  },
  {
   "cell_type": "code",
   "execution_count": null,
   "id": "9794f86e-4c28-4865-9d59-baa72fcfd2e6",
   "metadata": {},
   "outputs": [],
   "source": []
  },
  {
   "cell_type": "code",
   "execution_count": null,
   "id": "45f29297-03a9-49ee-98cc-7c311bfd71b4",
   "metadata": {},
   "outputs": [],
   "source": []
  }
 ],
 "metadata": {
  "kernelspec": {
   "display_name": ".venv",
   "language": "python",
   "name": "python3"
  },
  "language_info": {
   "codemirror_mode": {
    "name": "ipython",
    "version": 3
   },
   "file_extension": ".py",
   "mimetype": "text/x-python",
   "name": "python",
   "nbconvert_exporter": "python",
   "pygments_lexer": "ipython3",
   "version": "3.11.6"
  }
 },
 "nbformat": 4,
 "nbformat_minor": 5
}
