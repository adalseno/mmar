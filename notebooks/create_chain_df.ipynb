{
 "cells": [
  {
   "cell_type": "code",
   "execution_count": 1,
   "metadata": {},
   "outputs": [],
   "source": [
    "import pandas as pd \n",
    "import os\n",
    "from tqdm.notebook import tqdm\n",
    "from IPython.display import display\n",
    "import numpy as np"
   ]
  },
  {
   "cell_type": "code",
   "execution_count": 2,
   "metadata": {},
   "outputs": [],
   "source": [
    "# Load file names\n",
    "dir_list = os.listdir(\"../data/raw/spy_eod_2018-7fpgd6\")"
   ]
  },
  {
   "cell_type": "code",
   "execution_count": 3,
   "metadata": {},
   "outputs": [
    {
     "data": {
      "application/vnd.jupyter.widget-view+json": {
       "model_id": "f32a411aac3c43bca896b789975df02b",
       "version_major": 2,
       "version_minor": 0
      },
      "text/plain": [
       "  0%|          | 0/12 [00:00<?, ?it/s]"
      ]
     },
     "metadata": {},
     "output_type": "display_data"
    }
   ],
   "source": [
    "df = None\n",
    "dir_path = \"../data/raw/spy_eod_2018-7fpgd6/\"\n",
    "for file in tqdm(dir_list):\n",
    "    tmp_df = pd.read_csv(dir_path+file, low_memory=False)\n",
    "    if df is None:\n",
    "        df = tmp_df \n",
    "    else:\n",
    "        df = pd.concat([df, tmp_df])\n",
    "    "
   ]
  },
  {
   "cell_type": "code",
   "execution_count": 4,
   "metadata": {},
   "outputs": [],
   "source": [
    "# Fix column names\n",
    "new_cols = []\n",
    "for col in df.columns:\n",
    "    new_col = col.strip().replace(\"[\", \"\").replace(\"]\", \"\")\n",
    "    new_cols.append(new_col)"
   ]
  },
  {
   "cell_type": "code",
   "execution_count": 5,
   "metadata": {},
   "outputs": [],
   "source": [
    "df.columns = new_cols"
   ]
  },
  {
   "cell_type": "code",
   "execution_count": 6,
   "metadata": {},
   "outputs": [],
   "source": [
    "# Drop unused columns\n",
    "df = df.drop(columns=['QUOTE_UNIXTIME',\n",
    " 'QUOTE_READTIME',\n",
    " 'QUOTE_TIME_HOURS',\n",
    " 'EXPIRE_UNIX',])"
   ]
  },
  {
   "cell_type": "code",
   "execution_count": 7,
   "metadata": {},
   "outputs": [],
   "source": [
    "# Fix column types\n",
    "num_cols = [\n",
    " 'C_DELTA',\n",
    " 'C_GAMMA',\n",
    " 'C_VEGA',\n",
    " 'C_THETA',\n",
    " 'C_RHO',\n",
    " 'C_IV',\n",
    " 'C_VOLUME',\n",
    " 'C_LAST',\n",
    " 'C_BID',\n",
    " 'C_ASK',\n",
    " 'P_BID',\n",
    " 'P_ASK',\n",
    " 'P_LAST',\n",
    " 'P_DELTA',\n",
    " 'P_GAMMA',\n",
    " 'P_VEGA',\n",
    " 'P_THETA',\n",
    " 'P_RHO',\n",
    " 'P_IV',\n",
    " 'P_VOLUME',\n",
    " ]\n",
    "\n",
    "for col in num_cols:\n",
    "    df[col] = df[col].replace(\" \", np.nan)\n",
    "    df[col] = df[col].astype(float)"
   ]
  },
  {
   "cell_type": "code",
   "execution_count": 8,
   "metadata": {},
   "outputs": [],
   "source": [
    "# Fix date coulmns\n",
    "df.QUOTE_DATE = pd.to_datetime(df.QUOTE_DATE)\n",
    "df.EXPIRE_DATE = pd.to_datetime(df.EXPIRE_DATE)"
   ]
  },
  {
   "cell_type": "code",
   "execution_count": 9,
   "metadata": {},
   "outputs": [],
   "source": [
    "# Sort df\n",
    "df = df.sort_values(by=[\"QUOTE_DATE\", \"EXPIRE_DATE\"]).reindex()"
   ]
  },
  {
   "cell_type": "code",
   "execution_count": 10,
   "metadata": {},
   "outputs": [],
   "source": [
    "# Save df\n",
    "df.to_csv(\"../data/processed/chain2018.csv.gz\", index=False, compression=\"gzip\")"
   ]
  },
  {
   "cell_type": "code",
   "execution_count": null,
   "metadata": {},
   "outputs": [],
   "source": []
  }
 ],
 "metadata": {
  "kernelspec": {
   "display_name": ".venv",
   "language": "python",
   "name": "python3"
  },
  "language_info": {
   "codemirror_mode": {
    "name": "ipython",
    "version": 3
   },
   "file_extension": ".py",
   "mimetype": "text/x-python",
   "name": "python",
   "nbconvert_exporter": "python",
   "pygments_lexer": "ipython3",
   "version": "3.11.6"
  }
 },
 "nbformat": 4,
 "nbformat_minor": 2
}
