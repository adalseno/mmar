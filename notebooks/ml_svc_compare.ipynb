{
 "cells": [
  {
   "cell_type": "markdown",
   "metadata": {},
   "source": [
    "## Compare SVC in the case of binary class (Sell, Buy)"
   ]
  },
  {
   "cell_type": "code",
   "execution_count": 1,
   "metadata": {},
   "outputs": [],
   "source": [
    "import pandas as pd\n",
    "import numpy as np\n",
    "import matplotlib.pyplot as plt\n",
    "from sklearn.model_selection import train_test_split\n",
    "from sklearn.impute import SimpleImputer\n",
    "from sklearn.preprocessing import StandardScaler\n",
    "from sklearn.pipeline import Pipeline\n",
    "from sklearn.svm import SVC\n",
    "from sklearn.metrics import (\n",
    "    confusion_matrix,\n",
    "    ConfusionMatrixDisplay,\n",
    "    classification_report,\n",
    ")"
   ]
  },
  {
   "cell_type": "code",
   "execution_count": 2,
   "metadata": {},
   "outputs": [],
   "source": [
    "# Get underlying prices\n",
    "spy = pd.read_csv(\"../data/raw/spy.csv\", parse_dates=True, index_col=0)"
   ]
  },
  {
   "cell_type": "code",
   "execution_count": 3,
   "metadata": {},
   "outputs": [],
   "source": [
    "target = pd.read_csv(\"../data/processed/target_df.csv\", index_col=0)[\"target\"]"
   ]
  },
  {
   "cell_type": "code",
   "execution_count": 4,
   "metadata": {},
   "outputs": [],
   "source": [
    "# Get the working dataframe\n",
    "ml_df = pd.read_csv(\"../data/processed/ml_df.csv\", parse_dates=True, index_col=0)"
   ]
  },
  {
   "cell_type": "code",
   "execution_count": 5,
   "metadata": {},
   "outputs": [],
   "source": [
    "wk_df = pd.read_csv(\"../data/processed/exp_price.csv\", parse_dates=True, index_col=0)"
   ]
  },
  {
   "cell_type": "code",
   "execution_count": 6,
   "metadata": {},
   "outputs": [],
   "source": [
    "interest_rate = wk_df[\"r\"].values"
   ]
  },
  {
   "cell_type": "markdown",
   "metadata": {},
   "source": [
    "### Functions"
   ]
  },
  {
   "cell_type": "code",
   "execution_count": 7,
   "metadata": {},
   "outputs": [],
   "source": [
    "def display_report(y_test: np.ndarray, predictions: np.ndarray) -> None:\n",
    "    print(classification_report(y_test, predictions))\n",
    "    cm = confusion_matrix(y_test, predictions)\n",
    "    disp = ConfusionMatrixDisplay(confusion_matrix=cm)\n",
    "    disp.plot()\n",
    "    plt.show()\n",
    "    return"
   ]
  },
  {
   "cell_type": "code",
   "execution_count": 8,
   "metadata": {},
   "outputs": [],
   "source": [
    "def plot_feature_imp(coefficients: np.ndarray[float], columns: list[str]) -> None:\n",
    "\n",
    "    feature_importance = pd.DataFrame(\n",
    "        {\"Feature\": columns, \"Importance\": np.abs(coefficients)}\n",
    "    )\n",
    "    feature_importance = feature_importance.sort_values(\"Importance\", ascending=True)\n",
    "    feature_importance.plot(x=\"Feature\", y=\"Importance\", kind=\"barh\", figsize=(10, 6))\n",
    "    plt.show()\n",
    "    return"
   ]
  },
  {
   "cell_type": "markdown",
   "metadata": {},
   "source": [
    "## Baseline SVC Classifier without new data + r"
   ]
  },
  {
   "cell_type": "code",
   "execution_count": 9,
   "metadata": {},
   "outputs": [],
   "source": [
    "orig_df = ml_df[\n",
    "    [\n",
    "        \"UNDERLYING_LAST\",\n",
    "        \"STRIKE\",\n",
    "        \"C_LAST\",\n",
    "        \"C_BID\",\n",
    "        \"C_ASK\",\n",
    "        \"C_IV\",\n",
    "        \"C_VOLUME\",\n",
    "        \"diff_date\",\n",
    "    ]\n",
    "].copy()"
   ]
  },
  {
   "cell_type": "code",
   "execution_count": 10,
   "metadata": {},
   "outputs": [],
   "source": [
    "orig_df[\"r\"] = interest_rate"
   ]
  },
  {
   "cell_type": "markdown",
   "metadata": {},
   "source": [
    "### In sample predictions"
   ]
  },
  {
   "cell_type": "code",
   "execution_count": 11,
   "metadata": {},
   "outputs": [],
   "source": [
    "X_train, X_test, y_train, y_test = train_test_split(\n",
    "    orig_df, target.values.flatten(), test_size=0.2, random_state=1968, shuffle=True\n",
    ")"
   ]
  },
  {
   "cell_type": "code",
   "execution_count": 12,
   "metadata": {},
   "outputs": [],
   "source": [
    "params = {\n",
    "    \"random_state\": 1968,\n",
    "    \"shrinking\": False,\n",
    "    \"kernel\": \"poly\",\n",
    "    \"gamma\": \"auto\",\n",
    "    \"degree\": 4,\n",
    "    \"C\": 5.736152510448681,\n",
    "} | {\"verbose\": 1}"
   ]
  },
  {
   "cell_type": "code",
   "execution_count": 13,
   "metadata": {},
   "outputs": [],
   "source": [
    "pipe = Pipeline(\n",
    "    [\n",
    "        (\"imputer\", SimpleImputer(strategy=\"constant\", fill_value=0.0)),\n",
    "        (\"scaler\", StandardScaler()),\n",
    "        (\"rf\", SVC(**params)),\n",
    "    ]\n",
    ")"
   ]
  },
  {
   "cell_type": "code",
   "execution_count": 14,
   "metadata": {},
   "outputs": [
    {
     "name": "stdout",
     "output_type": "stream",
     "text": [
      "[LibSVM].....................................*\n",
      "optimization finished, #iter = 37796\n",
      "obj = -4615.088309, rho = 0.454484\n",
      "nSV = 863, nBSV = 800\n",
      "Total nSV = 863\n"
     ]
    },
    {
     "data": {
      "text/html": [
       "<style>#sk-container-id-1 {color: black;}#sk-container-id-1 pre{padding: 0;}#sk-container-id-1 div.sk-toggleable {background-color: white;}#sk-container-id-1 label.sk-toggleable__label {cursor: pointer;display: block;width: 100%;margin-bottom: 0;padding: 0.3em;box-sizing: border-box;text-align: center;}#sk-container-id-1 label.sk-toggleable__label-arrow:before {content: \"▸\";float: left;margin-right: 0.25em;color: #696969;}#sk-container-id-1 label.sk-toggleable__label-arrow:hover:before {color: black;}#sk-container-id-1 div.sk-estimator:hover label.sk-toggleable__label-arrow:before {color: black;}#sk-container-id-1 div.sk-toggleable__content {max-height: 0;max-width: 0;overflow: hidden;text-align: left;background-color: #f0f8ff;}#sk-container-id-1 div.sk-toggleable__content pre {margin: 0.2em;color: black;border-radius: 0.25em;background-color: #f0f8ff;}#sk-container-id-1 input.sk-toggleable__control:checked~div.sk-toggleable__content {max-height: 200px;max-width: 100%;overflow: auto;}#sk-container-id-1 input.sk-toggleable__control:checked~label.sk-toggleable__label-arrow:before {content: \"▾\";}#sk-container-id-1 div.sk-estimator input.sk-toggleable__control:checked~label.sk-toggleable__label {background-color: #d4ebff;}#sk-container-id-1 div.sk-label input.sk-toggleable__control:checked~label.sk-toggleable__label {background-color: #d4ebff;}#sk-container-id-1 input.sk-hidden--visually {border: 0;clip: rect(1px 1px 1px 1px);clip: rect(1px, 1px, 1px, 1px);height: 1px;margin: -1px;overflow: hidden;padding: 0;position: absolute;width: 1px;}#sk-container-id-1 div.sk-estimator {font-family: monospace;background-color: #f0f8ff;border: 1px dotted black;border-radius: 0.25em;box-sizing: border-box;margin-bottom: 0.5em;}#sk-container-id-1 div.sk-estimator:hover {background-color: #d4ebff;}#sk-container-id-1 div.sk-parallel-item::after {content: \"\";width: 100%;border-bottom: 1px solid gray;flex-grow: 1;}#sk-container-id-1 div.sk-label:hover label.sk-toggleable__label {background-color: #d4ebff;}#sk-container-id-1 div.sk-serial::before {content: \"\";position: absolute;border-left: 1px solid gray;box-sizing: border-box;top: 0;bottom: 0;left: 50%;z-index: 0;}#sk-container-id-1 div.sk-serial {display: flex;flex-direction: column;align-items: center;background-color: white;padding-right: 0.2em;padding-left: 0.2em;position: relative;}#sk-container-id-1 div.sk-item {position: relative;z-index: 1;}#sk-container-id-1 div.sk-parallel {display: flex;align-items: stretch;justify-content: center;background-color: white;position: relative;}#sk-container-id-1 div.sk-item::before, #sk-container-id-1 div.sk-parallel-item::before {content: \"\";position: absolute;border-left: 1px solid gray;box-sizing: border-box;top: 0;bottom: 0;left: 50%;z-index: -1;}#sk-container-id-1 div.sk-parallel-item {display: flex;flex-direction: column;z-index: 1;position: relative;background-color: white;}#sk-container-id-1 div.sk-parallel-item:first-child::after {align-self: flex-end;width: 50%;}#sk-container-id-1 div.sk-parallel-item:last-child::after {align-self: flex-start;width: 50%;}#sk-container-id-1 div.sk-parallel-item:only-child::after {width: 0;}#sk-container-id-1 div.sk-dashed-wrapped {border: 1px dashed gray;margin: 0 0.4em 0.5em 0.4em;box-sizing: border-box;padding-bottom: 0.4em;background-color: white;}#sk-container-id-1 div.sk-label label {font-family: monospace;font-weight: bold;display: inline-block;line-height: 1.2em;}#sk-container-id-1 div.sk-label-container {text-align: center;}#sk-container-id-1 div.sk-container {/* jupyter's `normalize.less` sets `[hidden] { display: none; }` but bootstrap.min.css set `[hidden] { display: none !important; }` so we also need the `!important` here to be able to override the default hidden behavior on the sphinx rendered scikit-learn.org. See: https://github.com/scikit-learn/scikit-learn/issues/21755 */display: inline-block !important;position: relative;}#sk-container-id-1 div.sk-text-repr-fallback {display: none;}</style><div id=\"sk-container-id-1\" class=\"sk-top-container\"><div class=\"sk-text-repr-fallback\"><pre>Pipeline(steps=[(&#x27;imputer&#x27;, SimpleImputer(fill_value=0.0, strategy=&#x27;constant&#x27;)),\n",
       "                (&#x27;scaler&#x27;, StandardScaler()),\n",
       "                (&#x27;rf&#x27;,\n",
       "                 SVC(C=5.736152510448681, degree=4, gamma=&#x27;auto&#x27;, kernel=&#x27;poly&#x27;,\n",
       "                     random_state=1968, shrinking=False, verbose=1))])</pre><b>In a Jupyter environment, please rerun this cell to show the HTML representation or trust the notebook. <br />On GitHub, the HTML representation is unable to render, please try loading this page with nbviewer.org.</b></div><div class=\"sk-container\" hidden><div class=\"sk-item sk-dashed-wrapped\"><div class=\"sk-label-container\"><div class=\"sk-label sk-toggleable\"><input class=\"sk-toggleable__control sk-hidden--visually\" id=\"sk-estimator-id-1\" type=\"checkbox\" ><label for=\"sk-estimator-id-1\" class=\"sk-toggleable__label sk-toggleable__label-arrow\">Pipeline</label><div class=\"sk-toggleable__content\"><pre>Pipeline(steps=[(&#x27;imputer&#x27;, SimpleImputer(fill_value=0.0, strategy=&#x27;constant&#x27;)),\n",
       "                (&#x27;scaler&#x27;, StandardScaler()),\n",
       "                (&#x27;rf&#x27;,\n",
       "                 SVC(C=5.736152510448681, degree=4, gamma=&#x27;auto&#x27;, kernel=&#x27;poly&#x27;,\n",
       "                     random_state=1968, shrinking=False, verbose=1))])</pre></div></div></div><div class=\"sk-serial\"><div class=\"sk-item\"><div class=\"sk-estimator sk-toggleable\"><input class=\"sk-toggleable__control sk-hidden--visually\" id=\"sk-estimator-id-2\" type=\"checkbox\" ><label for=\"sk-estimator-id-2\" class=\"sk-toggleable__label sk-toggleable__label-arrow\">SimpleImputer</label><div class=\"sk-toggleable__content\"><pre>SimpleImputer(fill_value=0.0, strategy=&#x27;constant&#x27;)</pre></div></div></div><div class=\"sk-item\"><div class=\"sk-estimator sk-toggleable\"><input class=\"sk-toggleable__control sk-hidden--visually\" id=\"sk-estimator-id-3\" type=\"checkbox\" ><label for=\"sk-estimator-id-3\" class=\"sk-toggleable__label sk-toggleable__label-arrow\">StandardScaler</label><div class=\"sk-toggleable__content\"><pre>StandardScaler()</pre></div></div></div><div class=\"sk-item\"><div class=\"sk-estimator sk-toggleable\"><input class=\"sk-toggleable__control sk-hidden--visually\" id=\"sk-estimator-id-4\" type=\"checkbox\" ><label for=\"sk-estimator-id-4\" class=\"sk-toggleable__label sk-toggleable__label-arrow\">SVC</label><div class=\"sk-toggleable__content\"><pre>SVC(C=5.736152510448681, degree=4, gamma=&#x27;auto&#x27;, kernel=&#x27;poly&#x27;,\n",
       "    random_state=1968, shrinking=False, verbose=1)</pre></div></div></div></div></div></div></div>"
      ],
      "text/plain": [
       "Pipeline(steps=[('imputer', SimpleImputer(fill_value=0.0, strategy='constant')),\n",
       "                ('scaler', StandardScaler()),\n",
       "                ('rf',\n",
       "                 SVC(C=5.736152510448681, degree=4, gamma='auto', kernel='poly',\n",
       "                     random_state=1968, shrinking=False, verbose=1))])"
      ]
     },
     "execution_count": 14,
     "metadata": {},
     "output_type": "execute_result"
    }
   ],
   "source": [
    "# Fit the tuned model\n",
    "pipe.fit(X_train, y_train)"
   ]
  },
  {
   "cell_type": "code",
   "execution_count": 15,
   "metadata": {},
   "outputs": [],
   "source": [
    "predictions = pipe.predict(X_test)"
   ]
  },
  {
   "cell_type": "code",
   "execution_count": 16,
   "metadata": {},
   "outputs": [
    {
     "data": {
      "text/plain": [
       "0.6055776892430279"
      ]
     },
     "execution_count": 16,
     "metadata": {},
     "output_type": "execute_result"
    }
   ],
   "source": [
    "pipe.score(X_test, y_test)"
   ]
  },
  {
   "cell_type": "code",
   "execution_count": 17,
   "metadata": {},
   "outputs": [
    {
     "name": "stdout",
     "output_type": "stream",
     "text": [
      "              precision    recall  f1-score   support\n",
      "\n",
      "           0       0.66      0.41      0.50       123\n",
      "           1       0.58      0.80      0.67       128\n",
      "\n",
      "    accuracy                           0.61       251\n",
      "   macro avg       0.62      0.60      0.59       251\n",
      "weighted avg       0.62      0.61      0.59       251\n",
      "\n"
     ]
    },
    {
     "data": {
      "image/png": "[encoded data removed]",
      "text/plain": [
       "<Figure size 640x480 with 2 Axes>"
      ]
     },
     "metadata": {},
     "output_type": "display_data"
    }
   ],
   "source": [
    "display_report(y_test, predictions)"
   ]
  },
  {
   "cell_type": "code",
   "execution_count": 18,
   "metadata": {},
   "outputs": [],
   "source": [
    "compare_df = pd.DataFrame(predictions, columns=[\"bare_rf_pred_in\"])"
   ]
  },
  {
   "cell_type": "markdown",
   "metadata": {},
   "source": [
    "### Backtesting"
   ]
  },
  {
   "cell_type": "code",
   "execution_count": 19,
   "metadata": {},
   "outputs": [],
   "source": [
    "strategy = []\n",
    "date_idx = []\n",
    "prev_price = 0.0\n",
    "for x, i in enumerate(range(len(predictions), 0, -1)):\n",
    "    row = X_test.iloc[-i, :].to_dict()\n",
    "    quote_date = X_test.index[-i]\n",
    "    exp_date = pd.to_datetime(ml_df.loc[quote_date, \"EXPIRE_DATE\"])\n",
    "    # Needed since a day in YF is missing\n",
    "    try:\n",
    "        final_price = spy.loc[exp_date, \"Close\"]\n",
    "    except:\n",
    "        final_price = prev_price\n",
    "    prev_price = final_price\n",
    "    call_price = row[\"C_LAST\"]\n",
    "    strike = row[\"STRIKE\"]\n",
    "    if predictions[x]:  # buy\n",
    "        if final_price > strike:\n",
    "            profit = final_price - (strike + call_price)\n",
    "        else:\n",
    "            profit = -call_price\n",
    "        res = {\n",
    "            \"strategy\": predictions[x],\n",
    "            \"strike\": strike,\n",
    "            \"call_price\": row[\"C_LAST\"],\n",
    "            \"exp_date\": ml_df.loc[quote_date, \"EXPIRE_DATE\"],\n",
    "            \"final_price\": final_price,\n",
    "            \"profit\": profit,\n",
    "            \"bare\": max(final_price - (strike + call_price), -call_price),\n",
    "        }\n",
    "    else:\n",
    "        res = {\n",
    "            \"strategy\": predictions[x],\n",
    "            \"strike\": strike,\n",
    "            \"call_price\": row[\"C_LAST\"],\n",
    "            \"exp_date\": ml_df.loc[quote_date, \"EXPIRE_DATE\"],\n",
    "            \"final_price\": final_price,\n",
    "            \"profit\": 0.0,\n",
    "            \"bare\": max(final_price - (strike + call_price), -call_price),\n",
    "        }\n",
    "    strategy.append(res)\n",
    "    date_idx.append(quote_date)"
   ]
  },
  {
   "cell_type": "code",
   "execution_count": 20,
   "metadata": {},
   "outputs": [],
   "source": [
    "strategy_df = pd.DataFrame(strategy, pd.Index(name=\"Date\", data=date_idx))\n",
    "\n",
    "strategy_df = strategy_df.sort_index()"
   ]
  },
  {
   "cell_type": "code",
   "execution_count": 21,
   "metadata": {},
   "outputs": [],
   "source": [
    "strategy_df[\"cum_profit\"] = np.cumsum(strategy_df.profit.values)\n",
    "strategy_df[\"cum_bare\"] = np.cumsum(strategy_df.bare.values)"
   ]
  },
  {
   "cell_type": "code",
   "execution_count": 22,
   "metadata": {},
   "outputs": [
    {
     "data": {
      "text/html": [
       "<div>\n",
       "<style scoped>\n",
       "    .dataframe tbody tr th:only-of-type {\n",
       "        vertical-align: middle;\n",
       "    }\n",
       "\n",
       "    .dataframe tbody tr th {\n",
       "        vertical-align: top;\n",
       "    }\n",
       "\n",
       "    .dataframe thead th {\n",
       "        text-align: right;\n",
       "    }\n",
       "</style>\n",
       "<table border=\"1\" class=\"dataframe\">\n",
       "  <thead>\n",
       "    <tr style=\"text-align: right;\">\n",
       "      <th></th>\n",
       "      <th>strategy</th>\n",
       "      <th>strike</th>\n",
       "      <th>call_price</th>\n",
       "      <th>exp_date</th>\n",
       "      <th>final_price</th>\n",
       "      <th>profit</th>\n",
       "      <th>bare</th>\n",
       "      <th>cum_profit</th>\n",
       "      <th>cum_bare</th>\n",
       "    </tr>\n",
       "    <tr>\n",
       "      <th>Date</th>\n",
       "      <th></th>\n",
       "      <th></th>\n",
       "      <th></th>\n",
       "      <th></th>\n",
       "      <th></th>\n",
       "      <th></th>\n",
       "      <th></th>\n",
       "      <th></th>\n",
       "      <th></th>\n",
       "    </tr>\n",
       "  </thead>\n",
       "  <tbody>\n",
       "    <tr>\n",
       "      <th>2018-02-05</th>\n",
       "      <td>0</td>\n",
       "      <td>265.0</td>\n",
       "      <td>8.22</td>\n",
       "      <td>2018-02-28</td>\n",
       "      <td>271.649994</td>\n",
       "      <td>0.000000</td>\n",
       "      <td>-1.570006</td>\n",
       "      <td>0.000000</td>\n",
       "      <td>-1.570006</td>\n",
       "    </tr>\n",
       "    <tr>\n",
       "      <th>2018-02-22</th>\n",
       "      <td>0</td>\n",
       "      <td>270.0</td>\n",
       "      <td>4.26</td>\n",
       "      <td>2018-03-14</td>\n",
       "      <td>275.299988</td>\n",
       "      <td>0.000000</td>\n",
       "      <td>1.039988</td>\n",
       "      <td>0.000000</td>\n",
       "      <td>-0.530018</td>\n",
       "    </tr>\n",
       "    <tr>\n",
       "      <th>2018-03-08</th>\n",
       "      <td>0</td>\n",
       "      <td>274.0</td>\n",
       "      <td>2.85</td>\n",
       "      <td>2018-03-29</td>\n",
       "      <td>263.149994</td>\n",
       "      <td>0.000000</td>\n",
       "      <td>-2.850000</td>\n",
       "      <td>0.000000</td>\n",
       "      <td>-3.380018</td>\n",
       "    </tr>\n",
       "    <tr>\n",
       "      <th>2018-03-09</th>\n",
       "      <td>0</td>\n",
       "      <td>279.0</td>\n",
       "      <td>2.47</td>\n",
       "      <td>2018-03-29</td>\n",
       "      <td>263.149994</td>\n",
       "      <td>0.000000</td>\n",
       "      <td>-2.470000</td>\n",
       "      <td>0.000000</td>\n",
       "      <td>-5.850018</td>\n",
       "    </tr>\n",
       "    <tr>\n",
       "      <th>2018-04-03</th>\n",
       "      <td>0</td>\n",
       "      <td>260.5</td>\n",
       "      <td>5.09</td>\n",
       "      <td>2018-04-23</td>\n",
       "      <td>266.570007</td>\n",
       "      <td>0.000000</td>\n",
       "      <td>0.980007</td>\n",
       "      <td>0.000000</td>\n",
       "      <td>-4.870011</td>\n",
       "    </tr>\n",
       "    <tr>\n",
       "      <th>...</th>\n",
       "      <td>...</td>\n",
       "      <td>...</td>\n",
       "      <td>...</td>\n",
       "      <td>...</td>\n",
       "      <td>...</td>\n",
       "      <td>...</td>\n",
       "      <td>...</td>\n",
       "      <td>...</td>\n",
       "      <td>...</td>\n",
       "    </tr>\n",
       "    <tr>\n",
       "      <th>2022-10-25</th>\n",
       "      <td>0</td>\n",
       "      <td>385.0</td>\n",
       "      <td>10.50</td>\n",
       "      <td>2022-11-14</td>\n",
       "      <td>395.119995</td>\n",
       "      <td>0.000000</td>\n",
       "      <td>-0.380005</td>\n",
       "      <td>524.569863</td>\n",
       "      <td>389.189830</td>\n",
       "    </tr>\n",
       "    <tr>\n",
       "      <th>2022-11-01</th>\n",
       "      <td>0</td>\n",
       "      <td>385.0</td>\n",
       "      <td>9.48</td>\n",
       "      <td>2022-11-21</td>\n",
       "      <td>394.589996</td>\n",
       "      <td>0.000000</td>\n",
       "      <td>0.109996</td>\n",
       "      <td>524.569863</td>\n",
       "      <td>389.299827</td>\n",
       "    </tr>\n",
       "    <tr>\n",
       "      <th>2022-11-02</th>\n",
       "      <td>1</td>\n",
       "      <td>375.0</td>\n",
       "      <td>10.19</td>\n",
       "      <td>2022-11-23</td>\n",
       "      <td>402.420013</td>\n",
       "      <td>17.230013</td>\n",
       "      <td>17.230013</td>\n",
       "      <td>541.799877</td>\n",
       "      <td>406.529840</td>\n",
       "    </tr>\n",
       "    <tr>\n",
       "      <th>2022-12-01</th>\n",
       "      <td>0</td>\n",
       "      <td>407.0</td>\n",
       "      <td>7.97</td>\n",
       "      <td>2022-12-23</td>\n",
       "      <td>382.910004</td>\n",
       "      <td>0.000000</td>\n",
       "      <td>-7.970000</td>\n",
       "      <td>541.799877</td>\n",
       "      <td>398.559840</td>\n",
       "    </tr>\n",
       "    <tr>\n",
       "      <th>2022-12-19</th>\n",
       "      <td>1</td>\n",
       "      <td>380.0</td>\n",
       "      <td>7.22</td>\n",
       "      <td>2023-01-06</td>\n",
       "      <td>388.079987</td>\n",
       "      <td>0.859987</td>\n",
       "      <td>0.859987</td>\n",
       "      <td>542.659863</td>\n",
       "      <td>399.419827</td>\n",
       "    </tr>\n",
       "  </tbody>\n",
       "</table>\n",
       "<p>251 rows × 9 columns</p>\n",
       "</div>"
      ],
      "text/plain": [
       "            strategy  strike  call_price    exp_date  final_price     profit  \\\n",
       "Date                                                                           \n",
       "2018-02-05         0   265.0        8.22  2018-02-28   271.649994   0.000000   \n",
       "2018-02-22         0   270.0        4.26  2018-03-14   275.299988   0.000000   \n",
       "2018-03-08         0   274.0        2.85  2018-03-29   263.149994   0.000000   \n",
       "2018-03-09         0   279.0        2.47  2018-03-29   263.149994   0.000000   \n",
       "2018-04-03         0   260.5        5.09  2018-04-23   266.570007   0.000000   \n",
       "...              ...     ...         ...         ...          ...        ...   \n",
       "2022-10-25         0   385.0       10.50  2022-11-14   395.119995   0.000000   \n",
       "2022-11-01         0   385.0        9.48  2022-11-21   394.589996   0.000000   \n",
       "2022-11-02         1   375.0       10.19  2022-11-23   402.420013  17.230013   \n",
       "2022-12-01         0   407.0        7.97  2022-12-23   382.910004   0.000000   \n",
       "2022-12-19         1   380.0        7.22  2023-01-06   388.079987   0.859987   \n",
       "\n",
       "                 bare  cum_profit    cum_bare  \n",
       "Date                                           \n",
       "2018-02-05  -1.570006    0.000000   -1.570006  \n",
       "2018-02-22   1.039988    0.000000   -0.530018  \n",
       "2018-03-08  -2.850000    0.000000   -3.380018  \n",
       "2018-03-09  -2.470000    0.000000   -5.850018  \n",
       "2018-04-03   0.980007    0.000000   -4.870011  \n",
       "...               ...         ...         ...  \n",
       "2022-10-25  -0.380005  524.569863  389.189830  \n",
       "2022-11-01   0.109996  524.569863  389.299827  \n",
       "2022-11-02  17.230013  541.799877  406.529840  \n",
       "2022-12-01  -7.970000  541.799877  398.559840  \n",
       "2022-12-19   0.859987  542.659863  399.419827  \n",
       "\n",
       "[251 rows x 9 columns]"
      ]
     },
     "execution_count": 22,
     "metadata": {},
     "output_type": "execute_result"
    }
   ],
   "source": [
    "strategy_df"
   ]
  },
  {
   "cell_type": "code",
   "execution_count": 23,
   "metadata": {},
   "outputs": [
    {
     "data": {
      "image/png": "[encoded data removed]",
      "text/plain": [
       "<Figure size 1200x600 with 1 Axes>"
      ]
     },
     "metadata": {},
     "output_type": "display_data"
    }
   ],
   "source": [
    "strategy_df[[\"cum_profit\", \"cum_bare\"]].plot(\n",
    "    figsize=(12, 6),\n",
    "    ylabel=\"Cumulated profit\",\n",
    "    title=\"Example strategy based on SVC predictions (Buy only in sample)\",\n",
    ")\n",
    "ax = plt.gca()\n",
    "text = f\"Strategy cumulated profit: {strategy_df['cum_profit'].iloc[-1]:.2f} in {strategy_df['strategy'].sum()} tradings\"\n",
    "plt.text(0.3, 0.85, text, transform=ax.transAxes)\n",
    "plt.legend()\n",
    "plt.show()"
   ]
  },
  {
   "cell_type": "markdown",
   "metadata": {},
   "source": [
    "### Out-of-sample predictions"
   ]
  },
  {
   "cell_type": "code",
   "execution_count": 24,
   "metadata": {},
   "outputs": [],
   "source": [
    "X_train, X_test, y_train, y_test = train_test_split(\n",
    "    orig_df.values,\n",
    "    target.values.flatten(),\n",
    "    test_size=0.2,\n",
    "    random_state=1968,\n",
    "    shuffle=False,\n",
    ")"
   ]
  },
  {
   "cell_type": "code",
   "execution_count": 25,
   "metadata": {},
   "outputs": [],
   "source": [
    "pipe = Pipeline(\n",
    "    [\n",
    "        (\"imputer\", SimpleImputer(strategy=\"constant\", fill_value=0.0)),\n",
    "        (\"scaler\", StandardScaler()),\n",
    "        (\"rf\", SVC(**params)),\n",
    "    ]\n",
    ")"
   ]
  },
  {
   "cell_type": "code",
   "execution_count": 26,
   "metadata": {},
   "outputs": [
    {
     "name": "stdout",
     "output_type": "stream",
     "text": [
      "[LibSVM].....................................................*\n",
      "optimization finished, #iter = 53415\n",
      "obj = -4925.253676, rho = 0.708761\n",
      "nSV = 910, nBSV = 855\n",
      "Total nSV = 910\n"
     ]
    },
    {
     "data": {
      "text/html": [
       "<style>#sk-container-id-2 {color: black;}#sk-container-id-2 pre{padding: 0;}#sk-container-id-2 div.sk-toggleable {background-color: white;}#sk-container-id-2 label.sk-toggleable__label {cursor: pointer;display: block;width: 100%;margin-bottom: 0;padding: 0.3em;box-sizing: border-box;text-align: center;}#sk-container-id-2 label.sk-toggleable__label-arrow:before {content: \"▸\";float: left;margin-right: 0.25em;color: #696969;}#sk-container-id-2 label.sk-toggleable__label-arrow:hover:before {color: black;}#sk-container-id-2 div.sk-estimator:hover label.sk-toggleable__label-arrow:before {color: black;}#sk-container-id-2 div.sk-toggleable__content {max-height: 0;max-width: 0;overflow: hidden;text-align: left;background-color: #f0f8ff;}#sk-container-id-2 div.sk-toggleable__content pre {margin: 0.2em;color: black;border-radius: 0.25em;background-color: #f0f8ff;}#sk-container-id-2 input.sk-toggleable__control:checked~div.sk-toggleable__content {max-height: 200px;max-width: 100%;overflow: auto;}#sk-container-id-2 input.sk-toggleable__control:checked~label.sk-toggleable__label-arrow:before {content: \"▾\";}#sk-container-id-2 div.sk-estimator input.sk-toggleable__control:checked~label.sk-toggleable__label {background-color: #d4ebff;}#sk-container-id-2 div.sk-label input.sk-toggleable__control:checked~label.sk-toggleable__label {background-color: #d4ebff;}#sk-container-id-2 input.sk-hidden--visually {border: 0;clip: rect(1px 1px 1px 1px);clip: rect(1px, 1px, 1px, 1px);height: 1px;margin: -1px;overflow: hidden;padding: 0;position: absolute;width: 1px;}#sk-container-id-2 div.sk-estimator {font-family: monospace;background-color: #f0f8ff;border: 1px dotted black;border-radius: 0.25em;box-sizing: border-box;margin-bottom: 0.5em;}#sk-container-id-2 div.sk-estimator:hover {background-color: #d4ebff;}#sk-container-id-2 div.sk-parallel-item::after {content: \"\";width: 100%;border-bottom: 1px solid gray;flex-grow: 1;}#sk-container-id-2 div.sk-label:hover label.sk-toggleable__label {background-color: #d4ebff;}#sk-container-id-2 div.sk-serial::before {content: \"\";position: absolute;border-left: 1px solid gray;box-sizing: border-box;top: 0;bottom: 0;left: 50%;z-index: 0;}#sk-container-id-2 div.sk-serial {display: flex;flex-direction: column;align-items: center;background-color: white;padding-right: 0.2em;padding-left: 0.2em;position: relative;}#sk-container-id-2 div.sk-item {position: relative;z-index: 1;}#sk-container-id-2 div.sk-parallel {display: flex;align-items: stretch;justify-content: center;background-color: white;position: relative;}#sk-container-id-2 div.sk-item::before, #sk-container-id-2 div.sk-parallel-item::before {content: \"\";position: absolute;border-left: 1px solid gray;box-sizing: border-box;top: 0;bottom: 0;left: 50%;z-index: -1;}#sk-container-id-2 div.sk-parallel-item {display: flex;flex-direction: column;z-index: 1;position: relative;background-color: white;}#sk-container-id-2 div.sk-parallel-item:first-child::after {align-self: flex-end;width: 50%;}#sk-container-id-2 div.sk-parallel-item:last-child::after {align-self: flex-start;width: 50%;}#sk-container-id-2 div.sk-parallel-item:only-child::after {width: 0;}#sk-container-id-2 div.sk-dashed-wrapped {border: 1px dashed gray;margin: 0 0.4em 0.5em 0.4em;box-sizing: border-box;padding-bottom: 0.4em;background-color: white;}#sk-container-id-2 div.sk-label label {font-family: monospace;font-weight: bold;display: inline-block;line-height: 1.2em;}#sk-container-id-2 div.sk-label-container {text-align: center;}#sk-container-id-2 div.sk-container {/* jupyter's `normalize.less` sets `[hidden] { display: none; }` but bootstrap.min.css set `[hidden] { display: none !important; }` so we also need the `!important` here to be able to override the default hidden behavior on the sphinx rendered scikit-learn.org. See: https://github.com/scikit-learn/scikit-learn/issues/21755 */display: inline-block !important;position: relative;}#sk-container-id-2 div.sk-text-repr-fallback {display: none;}</style><div id=\"sk-container-id-2\" class=\"sk-top-container\"><div class=\"sk-text-repr-fallback\"><pre>Pipeline(steps=[(&#x27;imputer&#x27;, SimpleImputer(fill_value=0.0, strategy=&#x27;constant&#x27;)),\n",
       "                (&#x27;scaler&#x27;, StandardScaler()),\n",
       "                (&#x27;rf&#x27;,\n",
       "                 SVC(C=5.736152510448681, degree=4, gamma=&#x27;auto&#x27;, kernel=&#x27;poly&#x27;,\n",
       "                     random_state=1968, shrinking=False, verbose=1))])</pre><b>In a Jupyter environment, please rerun this cell to show the HTML representation or trust the notebook. <br />On GitHub, the HTML representation is unable to render, please try loading this page with nbviewer.org.</b></div><div class=\"sk-container\" hidden><div class=\"sk-item sk-dashed-wrapped\"><div class=\"sk-label-container\"><div class=\"sk-label sk-toggleable\"><input class=\"sk-toggleable__control sk-hidden--visually\" id=\"sk-estimator-id-5\" type=\"checkbox\" ><label for=\"sk-estimator-id-5\" class=\"sk-toggleable__label sk-toggleable__label-arrow\">Pipeline</label><div class=\"sk-toggleable__content\"><pre>Pipeline(steps=[(&#x27;imputer&#x27;, SimpleImputer(fill_value=0.0, strategy=&#x27;constant&#x27;)),\n",
       "                (&#x27;scaler&#x27;, StandardScaler()),\n",
       "                (&#x27;rf&#x27;,\n",
       "                 SVC(C=5.736152510448681, degree=4, gamma=&#x27;auto&#x27;, kernel=&#x27;poly&#x27;,\n",
       "                     random_state=1968, shrinking=False, verbose=1))])</pre></div></div></div><div class=\"sk-serial\"><div class=\"sk-item\"><div class=\"sk-estimator sk-toggleable\"><input class=\"sk-toggleable__control sk-hidden--visually\" id=\"sk-estimator-id-6\" type=\"checkbox\" ><label for=\"sk-estimator-id-6\" class=\"sk-toggleable__label sk-toggleable__label-arrow\">SimpleImputer</label><div class=\"sk-toggleable__content\"><pre>SimpleImputer(fill_value=0.0, strategy=&#x27;constant&#x27;)</pre></div></div></div><div class=\"sk-item\"><div class=\"sk-estimator sk-toggleable\"><input class=\"sk-toggleable__control sk-hidden--visually\" id=\"sk-estimator-id-7\" type=\"checkbox\" ><label for=\"sk-estimator-id-7\" class=\"sk-toggleable__label sk-toggleable__label-arrow\">StandardScaler</label><div class=\"sk-toggleable__content\"><pre>StandardScaler()</pre></div></div></div><div class=\"sk-item\"><div class=\"sk-estimator sk-toggleable\"><input class=\"sk-toggleable__control sk-hidden--visually\" id=\"sk-estimator-id-8\" type=\"checkbox\" ><label for=\"sk-estimator-id-8\" class=\"sk-toggleable__label sk-toggleable__label-arrow\">SVC</label><div class=\"sk-toggleable__content\"><pre>SVC(C=5.736152510448681, degree=4, gamma=&#x27;auto&#x27;, kernel=&#x27;poly&#x27;,\n",
       "    random_state=1968, shrinking=False, verbose=1)</pre></div></div></div></div></div></div></div>"
      ],
      "text/plain": [
       "Pipeline(steps=[('imputer', SimpleImputer(fill_value=0.0, strategy='constant')),\n",
       "                ('scaler', StandardScaler()),\n",
       "                ('rf',\n",
       "                 SVC(C=5.736152510448681, degree=4, gamma='auto', kernel='poly',\n",
       "                     random_state=1968, shrinking=False, verbose=1))])"
      ]
     },
     "execution_count": 26,
     "metadata": {},
     "output_type": "execute_result"
    }
   ],
   "source": [
    "# Fit the tuned model\n",
    "pipe.fit(X_train, y_train)"
   ]
  },
  {
   "cell_type": "code",
   "execution_count": 27,
   "metadata": {},
   "outputs": [],
   "source": [
    "predictions = pipe.predict(X_test)"
   ]
  },
  {
   "cell_type": "code",
   "execution_count": 28,
   "metadata": {},
   "outputs": [
    {
     "data": {
      "text/plain": [
       "0.5577689243027888"
      ]
     },
     "execution_count": 28,
     "metadata": {},
     "output_type": "execute_result"
    }
   ],
   "source": [
    "pipe.score(X_test, y_test)"
   ]
  },
  {
   "cell_type": "code",
   "execution_count": 29,
   "metadata": {},
   "outputs": [
    {
     "name": "stdout",
     "output_type": "stream",
     "text": [
      "              precision    recall  f1-score   support\n",
      "\n",
      "           0       0.69      0.69      0.69       177\n",
      "           1       0.25      0.24      0.24        74\n",
      "\n",
      "    accuracy                           0.56       251\n",
      "   macro avg       0.47      0.47      0.47       251\n",
      "weighted avg       0.56      0.56      0.56       251\n",
      "\n"
     ]
    },
    {
     "data": {
      "image/png": "[encoded data removed]",
      "text/plain": [
       "<Figure size 640x480 with 2 Axes>"
      ]
     },
     "metadata": {},
     "output_type": "display_data"
    }
   ],
   "source": [
    "display_report(y_test, predictions)"
   ]
  },
  {
   "cell_type": "code",
   "execution_count": 30,
   "metadata": {},
   "outputs": [],
   "source": [
    "compare_df[\"bare_rf_pred_out\"] = predictions"
   ]
  },
  {
   "cell_type": "markdown",
   "metadata": {},
   "source": [
    "### Backtest strategy"
   ]
  },
  {
   "cell_type": "code",
   "execution_count": 31,
   "metadata": {},
   "outputs": [],
   "source": [
    "strategy = []\n",
    "date_idx = []\n",
    "for x, i in enumerate(range(len(predictions), 0, -1)):\n",
    "    row = orig_df.iloc[-i, :].to_dict()\n",
    "    quote_date = orig_df.index[-i]\n",
    "    exp_date = pd.to_datetime(ml_df.loc[quote_date, \"EXPIRE_DATE\"])\n",
    "    final_price = spy.loc[exp_date, \"Close\"]\n",
    "    call_price = row[\"C_LAST\"]\n",
    "    strike = row[\"STRIKE\"]\n",
    "    if predictions[x]:  # buy\n",
    "        if final_price > strike:\n",
    "            profit = final_price - (strike + call_price)\n",
    "        else:\n",
    "            profit = -call_price\n",
    "        res = {\n",
    "            \"strategy\": predictions[x],\n",
    "            \"strike\": strike,\n",
    "            \"call_price\": row[\"C_LAST\"],\n",
    "            \"exp_date\": ml_df.loc[quote_date, \"EXPIRE_DATE\"],\n",
    "            \"final_price\": final_price,\n",
    "            \"profit\": profit,\n",
    "            \"bare\": max(final_price - (strike + call_price), -call_price),\n",
    "        }\n",
    "    else:\n",
    "        res = {\n",
    "            \"strategy\": predictions[x],\n",
    "            \"strike\": strike,\n",
    "            \"call_price\": row[\"C_LAST\"],\n",
    "            \"exp_date\": ml_df.loc[quote_date, \"EXPIRE_DATE\"],\n",
    "            \"final_price\": final_price,\n",
    "            \"profit\": 0.0,\n",
    "            \"bare\": max(final_price - (strike + call_price), -call_price),\n",
    "        }\n",
    "    strategy.append(res)\n",
    "    date_idx.append(quote_date)"
   ]
  },
  {
   "cell_type": "code",
   "execution_count": 32,
   "metadata": {},
   "outputs": [],
   "source": [
    "strategy_df = pd.DataFrame(strategy, pd.Index(name=\"Date\", data=date_idx))"
   ]
  },
  {
   "cell_type": "code",
   "execution_count": 33,
   "metadata": {},
   "outputs": [],
   "source": [
    "strategy_df[\"cum_profit\"] = np.cumsum(strategy_df.profit.values)\n",
    "strategy_df[\"cum_bare\"] = np.cumsum(strategy_df.bare.values)"
   ]
  },
  {
   "cell_type": "code",
   "execution_count": 34,
   "metadata": {},
   "outputs": [
    {
     "data": {
      "text/html": [
       "<div>\n",
       "<style scoped>\n",
       "    .dataframe tbody tr th:only-of-type {\n",
       "        vertical-align: middle;\n",
       "    }\n",
       "\n",
       "    .dataframe tbody tr th {\n",
       "        vertical-align: top;\n",
       "    }\n",
       "\n",
       "    .dataframe thead th {\n",
       "        text-align: right;\n",
       "    }\n",
       "</style>\n",
       "<table border=\"1\" class=\"dataframe\">\n",
       "  <thead>\n",
       "    <tr style=\"text-align: right;\">\n",
       "      <th></th>\n",
       "      <th>strategy</th>\n",
       "      <th>strike</th>\n",
       "      <th>call_price</th>\n",
       "      <th>exp_date</th>\n",
       "      <th>final_price</th>\n",
       "      <th>profit</th>\n",
       "      <th>bare</th>\n",
       "      <th>cum_profit</th>\n",
       "      <th>cum_bare</th>\n",
       "    </tr>\n",
       "    <tr>\n",
       "      <th>Date</th>\n",
       "      <th></th>\n",
       "      <th></th>\n",
       "      <th></th>\n",
       "      <th></th>\n",
       "      <th></th>\n",
       "      <th></th>\n",
       "      <th></th>\n",
       "      <th></th>\n",
       "      <th></th>\n",
       "    </tr>\n",
       "  </thead>\n",
       "  <tbody>\n",
       "    <tr>\n",
       "      <th>2022-01-03</th>\n",
       "      <td>0</td>\n",
       "      <td>478.0</td>\n",
       "      <td>4.81</td>\n",
       "      <td>2022-01-24</td>\n",
       "      <td>439.839996</td>\n",
       "      <td>0.00</td>\n",
       "      <td>-4.810000</td>\n",
       "      <td>0.000000</td>\n",
       "      <td>-4.810000</td>\n",
       "    </tr>\n",
       "    <tr>\n",
       "      <th>2022-01-04</th>\n",
       "      <td>0</td>\n",
       "      <td>478.0</td>\n",
       "      <td>4.80</td>\n",
       "      <td>2022-01-24</td>\n",
       "      <td>439.839996</td>\n",
       "      <td>0.00</td>\n",
       "      <td>-4.800000</td>\n",
       "      <td>0.000000</td>\n",
       "      <td>-9.610000</td>\n",
       "    </tr>\n",
       "    <tr>\n",
       "      <th>2022-01-05</th>\n",
       "      <td>0</td>\n",
       "      <td>468.0</td>\n",
       "      <td>8.14</td>\n",
       "      <td>2022-01-26</td>\n",
       "      <td>433.380005</td>\n",
       "      <td>0.00</td>\n",
       "      <td>-8.140000</td>\n",
       "      <td>0.000000</td>\n",
       "      <td>-17.750000</td>\n",
       "    </tr>\n",
       "    <tr>\n",
       "      <th>2022-01-06</th>\n",
       "      <td>0</td>\n",
       "      <td>468.0</td>\n",
       "      <td>7.00</td>\n",
       "      <td>2022-01-26</td>\n",
       "      <td>433.380005</td>\n",
       "      <td>0.00</td>\n",
       "      <td>-7.000000</td>\n",
       "      <td>0.000000</td>\n",
       "      <td>-24.750000</td>\n",
       "    </tr>\n",
       "    <tr>\n",
       "      <th>2022-01-07</th>\n",
       "      <td>0</td>\n",
       "      <td>466.0</td>\n",
       "      <td>7.56</td>\n",
       "      <td>2022-01-28</td>\n",
       "      <td>441.950012</td>\n",
       "      <td>0.00</td>\n",
       "      <td>-7.560000</td>\n",
       "      <td>0.000000</td>\n",
       "      <td>-32.310000</td>\n",
       "    </tr>\n",
       "    <tr>\n",
       "      <th>...</th>\n",
       "      <td>...</td>\n",
       "      <td>...</td>\n",
       "      <td>...</td>\n",
       "      <td>...</td>\n",
       "      <td>...</td>\n",
       "      <td>...</td>\n",
       "      <td>...</td>\n",
       "      <td>...</td>\n",
       "      <td>...</td>\n",
       "    </tr>\n",
       "    <tr>\n",
       "      <th>2022-12-23</th>\n",
       "      <td>0</td>\n",
       "      <td>383.0</td>\n",
       "      <td>8.00</td>\n",
       "      <td>2023-01-13</td>\n",
       "      <td>398.500000</td>\n",
       "      <td>0.00</td>\n",
       "      <td>7.500000</td>\n",
       "      <td>-225.919973</td>\n",
       "      <td>-525.980022</td>\n",
       "    </tr>\n",
       "    <tr>\n",
       "      <th>2022-12-26</th>\n",
       "      <td>1</td>\n",
       "      <td>383.0</td>\n",
       "      <td>7.96</td>\n",
       "      <td>2023-01-13</td>\n",
       "      <td>398.500000</td>\n",
       "      <td>7.54</td>\n",
       "      <td>7.540000</td>\n",
       "      <td>-218.379973</td>\n",
       "      <td>-518.440022</td>\n",
       "    </tr>\n",
       "    <tr>\n",
       "      <th>2022-12-28</th>\n",
       "      <td>0</td>\n",
       "      <td>377.0</td>\n",
       "      <td>8.75</td>\n",
       "      <td>2023-01-20</td>\n",
       "      <td>395.880005</td>\n",
       "      <td>0.00</td>\n",
       "      <td>10.130005</td>\n",
       "      <td>-218.379973</td>\n",
       "      <td>-508.310017</td>\n",
       "    </tr>\n",
       "    <tr>\n",
       "      <th>2022-12-29</th>\n",
       "      <td>0</td>\n",
       "      <td>383.0</td>\n",
       "      <td>8.50</td>\n",
       "      <td>2023-01-20</td>\n",
       "      <td>395.880005</td>\n",
       "      <td>0.00</td>\n",
       "      <td>4.380005</td>\n",
       "      <td>-218.379973</td>\n",
       "      <td>-503.930012</td>\n",
       "    </tr>\n",
       "    <tr>\n",
       "      <th>2022-12-30</th>\n",
       "      <td>0</td>\n",
       "      <td>382.0</td>\n",
       "      <td>8.21</td>\n",
       "      <td>2023-01-20</td>\n",
       "      <td>395.880005</td>\n",
       "      <td>0.00</td>\n",
       "      <td>5.670005</td>\n",
       "      <td>-218.379973</td>\n",
       "      <td>-498.260007</td>\n",
       "    </tr>\n",
       "  </tbody>\n",
       "</table>\n",
       "<p>251 rows × 9 columns</p>\n",
       "</div>"
      ],
      "text/plain": [
       "            strategy  strike  call_price    exp_date  final_price  profit  \\\n",
       "Date                                                                        \n",
       "2022-01-03         0   478.0        4.81  2022-01-24   439.839996    0.00   \n",
       "2022-01-04         0   478.0        4.80  2022-01-24   439.839996    0.00   \n",
       "2022-01-05         0   468.0        8.14  2022-01-26   433.380005    0.00   \n",
       "2022-01-06         0   468.0        7.00  2022-01-26   433.380005    0.00   \n",
       "2022-01-07         0   466.0        7.56  2022-01-28   441.950012    0.00   \n",
       "...              ...     ...         ...         ...          ...     ...   \n",
       "2022-12-23         0   383.0        8.00  2023-01-13   398.500000    0.00   \n",
       "2022-12-26         1   383.0        7.96  2023-01-13   398.500000    7.54   \n",
       "2022-12-28         0   377.0        8.75  2023-01-20   395.880005    0.00   \n",
       "2022-12-29         0   383.0        8.50  2023-01-20   395.880005    0.00   \n",
       "2022-12-30         0   382.0        8.21  2023-01-20   395.880005    0.00   \n",
       "\n",
       "                 bare  cum_profit    cum_bare  \n",
       "Date                                           \n",
       "2022-01-03  -4.810000    0.000000   -4.810000  \n",
       "2022-01-04  -4.800000    0.000000   -9.610000  \n",
       "2022-01-05  -8.140000    0.000000  -17.750000  \n",
       "2022-01-06  -7.000000    0.000000  -24.750000  \n",
       "2022-01-07  -7.560000    0.000000  -32.310000  \n",
       "...               ...         ...         ...  \n",
       "2022-12-23   7.500000 -225.919973 -525.980022  \n",
       "2022-12-26   7.540000 -218.379973 -518.440022  \n",
       "2022-12-28  10.130005 -218.379973 -508.310017  \n",
       "2022-12-29   4.380005 -218.379973 -503.930012  \n",
       "2022-12-30   5.670005 -218.379973 -498.260007  \n",
       "\n",
       "[251 rows x 9 columns]"
      ]
     },
     "execution_count": 34,
     "metadata": {},
     "output_type": "execute_result"
    }
   ],
   "source": [
    "strategy_df"
   ]
  },
  {
   "cell_type": "code",
   "execution_count": 35,
   "metadata": {},
   "outputs": [
    {
     "data": {
      "image/png": "[encoded data removed]",
      "text/plain": [
       "<Figure size 1200x600 with 1 Axes>"
      ]
     },
     "metadata": {},
     "output_type": "display_data"
    }
   ],
   "source": [
    "strategy_df[[\"cum_profit\", \"cum_bare\"]].plot(\n",
    "    figsize=(12, 6),\n",
    "    ylabel=\"Cumulated profit\",\n",
    "    title=\"Example strategy based on SVC predictions (Buy only out-of-sample)\",\n",
    ")\n",
    "ax = plt.gca()\n",
    "text = f\"Strategy cumulated profit: {strategy_df['cum_profit'].iloc[-1]:.2f} in {strategy_df['strategy'].sum()} tradings\"\n",
    "plt.text(0.3, 0.85, text, transform=ax.transAxes)\n",
    "plt.legend()\n",
    "plt.show()"
   ]
  },
  {
   "cell_type": "markdown",
   "metadata": {},
   "source": [
    "## SVC with data from MC simulation and additional features"
   ]
  },
  {
   "cell_type": "code",
   "execution_count": 36,
   "metadata": {},
   "outputs": [],
   "source": [
    "new_df = pd.concat(\n",
    "    (\n",
    "        ml_df[\n",
    "            [\n",
    "                \"UNDERLYING_LAST\",\n",
    "                \"STRIKE\",\n",
    "                \"C_LAST\",\n",
    "                \"C_BID\",\n",
    "                \"C_ASK\",\n",
    "                \"C_IV\",\n",
    "                \"C_VOLUME\",\n",
    "                \"diff\",\n",
    "            ]\n",
    "        ],\n",
    "        wk_df.drop([\"last_quote\", \"strike\"], axis=1),\n",
    "    ),\n",
    "    axis=1,\n",
    ")"
   ]
  },
  {
   "cell_type": "code",
   "execution_count": 37,
   "metadata": {},
   "outputs": [],
   "source": [
    "# Add some features\n",
    "new_df[\"iqr\"] = new_df[\"exp_price_q3\"] - new_df[\"exp_price_q1\"]\n",
    "new_df[\"diff_call\"] = new_df[\"exp_call_price\"] - new_df[\"C_LAST\"]\n",
    "new_df[\"exp_price_var\"] = np.power(new_df[\"exp_price_std\"], 2)\n",
    "new_df[\"exp_profit\"] = new_df[\"exp_price\"] - (new_df[\"STRIKE\"] + new_df[\"C_LAST\"])"
   ]
  },
  {
   "cell_type": "markdown",
   "metadata": {},
   "source": [
    "### In sample predictions"
   ]
  },
  {
   "cell_type": "code",
   "execution_count": 38,
   "metadata": {},
   "outputs": [],
   "source": [
    "X_train, X_test, y_train, y_test = train_test_split(\n",
    "    new_df, target.values.flatten(), test_size=0.2, random_state=1968, shuffle=True\n",
    ")"
   ]
  },
  {
   "cell_type": "code",
   "execution_count": 39,
   "metadata": {},
   "outputs": [],
   "source": [
    "params = {\n",
    "    \"random_state\": 1968,\n",
    "    \"shrinking\": True,\n",
    "    \"kernel\": \"rbf\",\n",
    "    \"gamma\": \"scale\",\n",
    "    \"degree\": 5,\n",
    "    \"C\": 52.98316906283707,\n",
    "} | {\"verbose\": 1}"
   ]
  },
  {
   "cell_type": "code",
   "execution_count": 40,
   "metadata": {},
   "outputs": [],
   "source": [
    "pipe = Pipeline(\n",
    "    [\n",
    "        (\"imputer\", SimpleImputer(strategy=\"constant\", fill_value=0.0)),\n",
    "        (\"scaler\", StandardScaler()),\n",
    "        (\"rf\", SVC(**params)),\n",
    "    ]\n",
    ")"
   ]
  },
  {
   "cell_type": "code",
   "execution_count": 41,
   "metadata": {},
   "outputs": [
    {
     "name": "stdout",
     "output_type": "stream",
     "text": [
      "[LibSVM]......*....*\n",
      "optimization finished, #iter = 10113\n",
      "obj = -28348.975963, rho = -0.174966\n",
      "nSV = 740, nBSV = 531\n",
      "Total nSV = 740\n"
     ]
    },
    {
     "data": {
      "text/html": [
       "<style>#sk-container-id-3 {color: black;}#sk-container-id-3 pre{padding: 0;}#sk-container-id-3 div.sk-toggleable {background-color: white;}#sk-container-id-3 label.sk-toggleable__label {cursor: pointer;display: block;width: 100%;margin-bottom: 0;padding: 0.3em;box-sizing: border-box;text-align: center;}#sk-container-id-3 label.sk-toggleable__label-arrow:before {content: \"▸\";float: left;margin-right: 0.25em;color: #696969;}#sk-container-id-3 label.sk-toggleable__label-arrow:hover:before {color: black;}#sk-container-id-3 div.sk-estimator:hover label.sk-toggleable__label-arrow:before {color: black;}#sk-container-id-3 div.sk-toggleable__content {max-height: 0;max-width: 0;overflow: hidden;text-align: left;background-color: #f0f8ff;}#sk-container-id-3 div.sk-toggleable__content pre {margin: 0.2em;color: black;border-radius: 0.25em;background-color: #f0f8ff;}#sk-container-id-3 input.sk-toggleable__control:checked~div.sk-toggleable__content {max-height: 200px;max-width: 100%;overflow: auto;}#sk-container-id-3 input.sk-toggleable__control:checked~label.sk-toggleable__label-arrow:before {content: \"▾\";}#sk-container-id-3 div.sk-estimator input.sk-toggleable__control:checked~label.sk-toggleable__label {background-color: #d4ebff;}#sk-container-id-3 div.sk-label input.sk-toggleable__control:checked~label.sk-toggleable__label {background-color: #d4ebff;}#sk-container-id-3 input.sk-hidden--visually {border: 0;clip: rect(1px 1px 1px 1px);clip: rect(1px, 1px, 1px, 1px);height: 1px;margin: -1px;overflow: hidden;padding: 0;position: absolute;width: 1px;}#sk-container-id-3 div.sk-estimator {font-family: monospace;background-color: #f0f8ff;border: 1px dotted black;border-radius: 0.25em;box-sizing: border-box;margin-bottom: 0.5em;}#sk-container-id-3 div.sk-estimator:hover {background-color: #d4ebff;}#sk-container-id-3 div.sk-parallel-item::after {content: \"\";width: 100%;border-bottom: 1px solid gray;flex-grow: 1;}#sk-container-id-3 div.sk-label:hover label.sk-toggleable__label {background-color: #d4ebff;}#sk-container-id-3 div.sk-serial::before {content: \"\";position: absolute;border-left: 1px solid gray;box-sizing: border-box;top: 0;bottom: 0;left: 50%;z-index: 0;}#sk-container-id-3 div.sk-serial {display: flex;flex-direction: column;align-items: center;background-color: white;padding-right: 0.2em;padding-left: 0.2em;position: relative;}#sk-container-id-3 div.sk-item {position: relative;z-index: 1;}#sk-container-id-3 div.sk-parallel {display: flex;align-items: stretch;justify-content: center;background-color: white;position: relative;}#sk-container-id-3 div.sk-item::before, #sk-container-id-3 div.sk-parallel-item::before {content: \"\";position: absolute;border-left: 1px solid gray;box-sizing: border-box;top: 0;bottom: 0;left: 50%;z-index: -1;}#sk-container-id-3 div.sk-parallel-item {display: flex;flex-direction: column;z-index: 1;position: relative;background-color: white;}#sk-container-id-3 div.sk-parallel-item:first-child::after {align-self: flex-end;width: 50%;}#sk-container-id-3 div.sk-parallel-item:last-child::after {align-self: flex-start;width: 50%;}#sk-container-id-3 div.sk-parallel-item:only-child::after {width: 0;}#sk-container-id-3 div.sk-dashed-wrapped {border: 1px dashed gray;margin: 0 0.4em 0.5em 0.4em;box-sizing: border-box;padding-bottom: 0.4em;background-color: white;}#sk-container-id-3 div.sk-label label {font-family: monospace;font-weight: bold;display: inline-block;line-height: 1.2em;}#sk-container-id-3 div.sk-label-container {text-align: center;}#sk-container-id-3 div.sk-container {/* jupyter's `normalize.less` sets `[hidden] { display: none; }` but bootstrap.min.css set `[hidden] { display: none !important; }` so we also need the `!important` here to be able to override the default hidden behavior on the sphinx rendered scikit-learn.org. See: https://github.com/scikit-learn/scikit-learn/issues/21755 */display: inline-block !important;position: relative;}#sk-container-id-3 div.sk-text-repr-fallback {display: none;}</style><div id=\"sk-container-id-3\" class=\"sk-top-container\"><div class=\"sk-text-repr-fallback\"><pre>Pipeline(steps=[(&#x27;imputer&#x27;, SimpleImputer(fill_value=0.0, strategy=&#x27;constant&#x27;)),\n",
       "                (&#x27;scaler&#x27;, StandardScaler()),\n",
       "                (&#x27;rf&#x27;,\n",
       "                 SVC(C=52.98316906283707, degree=5, random_state=1968,\n",
       "                     verbose=1))])</pre><b>In a Jupyter environment, please rerun this cell to show the HTML representation or trust the notebook. <br />On GitHub, the HTML representation is unable to render, please try loading this page with nbviewer.org.</b></div><div class=\"sk-container\" hidden><div class=\"sk-item sk-dashed-wrapped\"><div class=\"sk-label-container\"><div class=\"sk-label sk-toggleable\"><input class=\"sk-toggleable__control sk-hidden--visually\" id=\"sk-estimator-id-9\" type=\"checkbox\" ><label for=\"sk-estimator-id-9\" class=\"sk-toggleable__label sk-toggleable__label-arrow\">Pipeline</label><div class=\"sk-toggleable__content\"><pre>Pipeline(steps=[(&#x27;imputer&#x27;, SimpleImputer(fill_value=0.0, strategy=&#x27;constant&#x27;)),\n",
       "                (&#x27;scaler&#x27;, StandardScaler()),\n",
       "                (&#x27;rf&#x27;,\n",
       "                 SVC(C=52.98316906283707, degree=5, random_state=1968,\n",
       "                     verbose=1))])</pre></div></div></div><div class=\"sk-serial\"><div class=\"sk-item\"><div class=\"sk-estimator sk-toggleable\"><input class=\"sk-toggleable__control sk-hidden--visually\" id=\"sk-estimator-id-10\" type=\"checkbox\" ><label for=\"sk-estimator-id-10\" class=\"sk-toggleable__label sk-toggleable__label-arrow\">SimpleImputer</label><div class=\"sk-toggleable__content\"><pre>SimpleImputer(fill_value=0.0, strategy=&#x27;constant&#x27;)</pre></div></div></div><div class=\"sk-item\"><div class=\"sk-estimator sk-toggleable\"><input class=\"sk-toggleable__control sk-hidden--visually\" id=\"sk-estimator-id-11\" type=\"checkbox\" ><label for=\"sk-estimator-id-11\" class=\"sk-toggleable__label sk-toggleable__label-arrow\">StandardScaler</label><div class=\"sk-toggleable__content\"><pre>StandardScaler()</pre></div></div></div><div class=\"sk-item\"><div class=\"sk-estimator sk-toggleable\"><input class=\"sk-toggleable__control sk-hidden--visually\" id=\"sk-estimator-id-12\" type=\"checkbox\" ><label for=\"sk-estimator-id-12\" class=\"sk-toggleable__label sk-toggleable__label-arrow\">SVC</label><div class=\"sk-toggleable__content\"><pre>SVC(C=52.98316906283707, degree=5, random_state=1968, verbose=1)</pre></div></div></div></div></div></div></div>"
      ],
      "text/plain": [
       "Pipeline(steps=[('imputer', SimpleImputer(fill_value=0.0, strategy='constant')),\n",
       "                ('scaler', StandardScaler()),\n",
       "                ('rf',\n",
       "                 SVC(C=52.98316906283707, degree=5, random_state=1968,\n",
       "                     verbose=1))])"
      ]
     },
     "execution_count": 41,
     "metadata": {},
     "output_type": "execute_result"
    }
   ],
   "source": [
    "# Fit the tuned model\n",
    "pipe.fit(X_train, y_train)"
   ]
  },
  {
   "cell_type": "code",
   "execution_count": 42,
   "metadata": {},
   "outputs": [],
   "source": [
    "predictions = pipe.predict(X_test)"
   ]
  },
  {
   "cell_type": "code",
   "execution_count": 43,
   "metadata": {},
   "outputs": [
    {
     "data": {
      "text/plain": [
       "0.6733067729083665"
      ]
     },
     "execution_count": 43,
     "metadata": {},
     "output_type": "execute_result"
    }
   ],
   "source": [
    "pipe.score(X_test, y_test)"
   ]
  },
  {
   "cell_type": "code",
   "execution_count": 44,
   "metadata": {},
   "outputs": [
    {
     "name": "stdout",
     "output_type": "stream",
     "text": [
      "              precision    recall  f1-score   support\n",
      "\n",
      "           0       0.66      0.67      0.67       123\n",
      "           1       0.68      0.67      0.68       128\n",
      "\n",
      "    accuracy                           0.67       251\n",
      "   macro avg       0.67      0.67      0.67       251\n",
      "weighted avg       0.67      0.67      0.67       251\n",
      "\n"
     ]
    },
    {
     "data": {
      "image/png": "[encoded data removed]",
      "text/plain": [
       "<Figure size 640x480 with 2 Axes>"
      ]
     },
     "metadata": {},
     "output_type": "display_data"
    }
   ],
   "source": [
    "display_report(y_test, predictions)"
   ]
  },
  {
   "cell_type": "code",
   "execution_count": 45,
   "metadata": {},
   "outputs": [],
   "source": [
    "compare_df[\"mmar_rf_pred_in\"] = predictions"
   ]
  },
  {
   "cell_type": "markdown",
   "metadata": {},
   "source": [
    "### Backtesting"
   ]
  },
  {
   "cell_type": "code",
   "execution_count": 46,
   "metadata": {},
   "outputs": [],
   "source": [
    "strategy = []\n",
    "date_idx = []\n",
    "prev_price = 0.0\n",
    "for x, i in enumerate(range(len(predictions), 0, -1)):\n",
    "    row = X_test.iloc[-i, :].to_dict()\n",
    "    quote_date = X_test.index[-i]\n",
    "    exp_date = pd.to_datetime(ml_df.loc[quote_date, \"EXPIRE_DATE\"])\n",
    "    # Needed since a day in YF is missing\n",
    "    try:\n",
    "        final_price = spy.loc[exp_date, \"Close\"]\n",
    "    except:\n",
    "        final_price = prev_price\n",
    "    prev_price = final_price\n",
    "    call_price = row[\"C_LAST\"]\n",
    "    strike = row[\"STRIKE\"]\n",
    "    if predictions[x]:  # buy\n",
    "        if final_price > strike:\n",
    "            profit = final_price - (strike + call_price)\n",
    "        else:\n",
    "            profit = -call_price\n",
    "        res = {\n",
    "            \"strategy\": predictions[x],\n",
    "            \"strike\": strike,\n",
    "            \"call_price\": row[\"C_LAST\"],\n",
    "            \"exp_call\": row[\"exp_call_price\"],\n",
    "            \"exp_date\": ml_df.loc[quote_date, \"EXPIRE_DATE\"],\n",
    "            \"final_price\": final_price,\n",
    "            \"profit\": profit,\n",
    "            \"bare\": max(final_price - (strike + call_price), -call_price),\n",
    "        }\n",
    "    else:\n",
    "        res = {\n",
    "            \"strategy\": predictions[x],\n",
    "            \"strike\": strike,\n",
    "            \"call_price\": row[\"C_LAST\"],\n",
    "            \"exp_call\": row[\"exp_call_price\"],\n",
    "            \"exp_date\": ml_df.loc[quote_date, \"EXPIRE_DATE\"],\n",
    "            \"final_price\": final_price,\n",
    "            \"profit\": 0.0,\n",
    "            \"bare\": max(final_price - (strike + call_price), -call_price),\n",
    "        }\n",
    "    strategy.append(res)\n",
    "    date_idx.append(quote_date)"
   ]
  },
  {
   "cell_type": "code",
   "execution_count": 47,
   "metadata": {},
   "outputs": [],
   "source": [
    "strategy_df = pd.DataFrame(strategy, pd.Index(name=\"Date\", data=date_idx))\n",
    "\n",
    "strategy_df = strategy_df.sort_index()"
   ]
  },
  {
   "cell_type": "code",
   "execution_count": 48,
   "metadata": {},
   "outputs": [],
   "source": [
    "strategy_df[\"cum_profit\"] = np.cumsum(strategy_df.profit.values)\n",
    "strategy_df[\"cum_bare\"] = np.cumsum(strategy_df.bare.values)"
   ]
  },
  {
   "cell_type": "code",
   "execution_count": 49,
   "metadata": {},
   "outputs": [
    {
     "data": {
      "text/html": [
       "<div>\n",
       "<style scoped>\n",
       "    .dataframe tbody tr th:only-of-type {\n",
       "        vertical-align: middle;\n",
       "    }\n",
       "\n",
       "    .dataframe tbody tr th {\n",
       "        vertical-align: top;\n",
       "    }\n",
       "\n",
       "    .dataframe thead th {\n",
       "        text-align: right;\n",
       "    }\n",
       "</style>\n",
       "<table border=\"1\" class=\"dataframe\">\n",
       "  <thead>\n",
       "    <tr style=\"text-align: right;\">\n",
       "      <th></th>\n",
       "      <th>strategy</th>\n",
       "      <th>strike</th>\n",
       "      <th>call_price</th>\n",
       "      <th>exp_call</th>\n",
       "      <th>exp_date</th>\n",
       "      <th>final_price</th>\n",
       "      <th>profit</th>\n",
       "      <th>bare</th>\n",
       "      <th>cum_profit</th>\n",
       "      <th>cum_bare</th>\n",
       "    </tr>\n",
       "    <tr>\n",
       "      <th>Date</th>\n",
       "      <th></th>\n",
       "      <th></th>\n",
       "      <th></th>\n",
       "      <th></th>\n",
       "      <th></th>\n",
       "      <th></th>\n",
       "      <th></th>\n",
       "      <th></th>\n",
       "      <th></th>\n",
       "      <th></th>\n",
       "    </tr>\n",
       "  </thead>\n",
       "  <tbody>\n",
       "    <tr>\n",
       "      <th>2018-02-05</th>\n",
       "      <td>0</td>\n",
       "      <td>265.0</td>\n",
       "      <td>8.22</td>\n",
       "      <td>4.942161</td>\n",
       "      <td>2018-02-28</td>\n",
       "      <td>271.649994</td>\n",
       "      <td>0.000000</td>\n",
       "      <td>-1.570006</td>\n",
       "      <td>0.000000</td>\n",
       "      <td>-1.570006</td>\n",
       "    </tr>\n",
       "    <tr>\n",
       "      <th>2018-02-22</th>\n",
       "      <td>0</td>\n",
       "      <td>270.0</td>\n",
       "      <td>4.26</td>\n",
       "      <td>6.397086</td>\n",
       "      <td>2018-03-14</td>\n",
       "      <td>275.299988</td>\n",
       "      <td>0.000000</td>\n",
       "      <td>1.039988</td>\n",
       "      <td>0.000000</td>\n",
       "      <td>-0.530018</td>\n",
       "    </tr>\n",
       "    <tr>\n",
       "      <th>2018-03-08</th>\n",
       "      <td>0</td>\n",
       "      <td>274.0</td>\n",
       "      <td>2.85</td>\n",
       "      <td>5.917690</td>\n",
       "      <td>2018-03-29</td>\n",
       "      <td>263.149994</td>\n",
       "      <td>0.000000</td>\n",
       "      <td>-2.850000</td>\n",
       "      <td>0.000000</td>\n",
       "      <td>-3.380018</td>\n",
       "    </tr>\n",
       "    <tr>\n",
       "      <th>2018-03-09</th>\n",
       "      <td>1</td>\n",
       "      <td>279.0</td>\n",
       "      <td>2.47</td>\n",
       "      <td>5.505012</td>\n",
       "      <td>2018-03-29</td>\n",
       "      <td>263.149994</td>\n",
       "      <td>-2.470000</td>\n",
       "      <td>-2.470000</td>\n",
       "      <td>-2.470000</td>\n",
       "      <td>-5.850018</td>\n",
       "    </tr>\n",
       "    <tr>\n",
       "      <th>2018-04-03</th>\n",
       "      <td>1</td>\n",
       "      <td>260.5</td>\n",
       "      <td>5.09</td>\n",
       "      <td>5.247430</td>\n",
       "      <td>2018-04-23</td>\n",
       "      <td>266.570007</td>\n",
       "      <td>0.980007</td>\n",
       "      <td>0.980007</td>\n",
       "      <td>-1.489993</td>\n",
       "      <td>-4.870011</td>\n",
       "    </tr>\n",
       "    <tr>\n",
       "      <th>...</th>\n",
       "      <td>...</td>\n",
       "      <td>...</td>\n",
       "      <td>...</td>\n",
       "      <td>...</td>\n",
       "      <td>...</td>\n",
       "      <td>...</td>\n",
       "      <td>...</td>\n",
       "      <td>...</td>\n",
       "      <td>...</td>\n",
       "      <td>...</td>\n",
       "    </tr>\n",
       "    <tr>\n",
       "      <th>2022-10-25</th>\n",
       "      <td>0</td>\n",
       "      <td>385.0</td>\n",
       "      <td>10.50</td>\n",
       "      <td>9.062317</td>\n",
       "      <td>2022-11-14</td>\n",
       "      <td>395.119995</td>\n",
       "      <td>0.000000</td>\n",
       "      <td>-0.380005</td>\n",
       "      <td>420.839893</td>\n",
       "      <td>389.189830</td>\n",
       "    </tr>\n",
       "    <tr>\n",
       "      <th>2022-11-01</th>\n",
       "      <td>0</td>\n",
       "      <td>385.0</td>\n",
       "      <td>9.48</td>\n",
       "      <td>8.719475</td>\n",
       "      <td>2022-11-21</td>\n",
       "      <td>394.589996</td>\n",
       "      <td>0.000000</td>\n",
       "      <td>0.109996</td>\n",
       "      <td>420.839893</td>\n",
       "      <td>389.299827</td>\n",
       "    </tr>\n",
       "    <tr>\n",
       "      <th>2022-11-02</th>\n",
       "      <td>1</td>\n",
       "      <td>375.0</td>\n",
       "      <td>10.19</td>\n",
       "      <td>8.901524</td>\n",
       "      <td>2022-11-23</td>\n",
       "      <td>402.420013</td>\n",
       "      <td>17.230013</td>\n",
       "      <td>17.230013</td>\n",
       "      <td>438.069906</td>\n",
       "      <td>406.529840</td>\n",
       "    </tr>\n",
       "    <tr>\n",
       "      <th>2022-12-01</th>\n",
       "      <td>0</td>\n",
       "      <td>407.0</td>\n",
       "      <td>7.97</td>\n",
       "      <td>9.399281</td>\n",
       "      <td>2022-12-23</td>\n",
       "      <td>382.910004</td>\n",
       "      <td>0.000000</td>\n",
       "      <td>-7.970000</td>\n",
       "      <td>438.069906</td>\n",
       "      <td>398.559840</td>\n",
       "    </tr>\n",
       "    <tr>\n",
       "      <th>2022-12-19</th>\n",
       "      <td>1</td>\n",
       "      <td>380.0</td>\n",
       "      <td>7.22</td>\n",
       "      <td>7.839602</td>\n",
       "      <td>2023-01-06</td>\n",
       "      <td>388.079987</td>\n",
       "      <td>0.859987</td>\n",
       "      <td>0.859987</td>\n",
       "      <td>438.929893</td>\n",
       "      <td>399.419827</td>\n",
       "    </tr>\n",
       "  </tbody>\n",
       "</table>\n",
       "<p>251 rows × 10 columns</p>\n",
       "</div>"
      ],
      "text/plain": [
       "            strategy  strike  call_price  exp_call    exp_date  final_price  \\\n",
       "Date                                                                          \n",
       "2018-02-05         0   265.0        8.22  4.942161  2018-02-28   271.649994   \n",
       "2018-02-22         0   270.0        4.26  6.397086  2018-03-14   275.299988   \n",
       "2018-03-08         0   274.0        2.85  5.917690  2018-03-29   263.149994   \n",
       "2018-03-09         1   279.0        2.47  5.505012  2018-03-29   263.149994   \n",
       "2018-04-03         1   260.5        5.09  5.247430  2018-04-23   266.570007   \n",
       "...              ...     ...         ...       ...         ...          ...   \n",
       "2022-10-25         0   385.0       10.50  9.062317  2022-11-14   395.119995   \n",
       "2022-11-01         0   385.0        9.48  8.719475  2022-11-21   394.589996   \n",
       "2022-11-02         1   375.0       10.19  8.901524  2022-11-23   402.420013   \n",
       "2022-12-01         0   407.0        7.97  9.399281  2022-12-23   382.910004   \n",
       "2022-12-19         1   380.0        7.22  7.839602  2023-01-06   388.079987   \n",
       "\n",
       "               profit       bare  cum_profit    cum_bare  \n",
       "Date                                                      \n",
       "2018-02-05   0.000000  -1.570006    0.000000   -1.570006  \n",
       "2018-02-22   0.000000   1.039988    0.000000   -0.530018  \n",
       "2018-03-08   0.000000  -2.850000    0.000000   -3.380018  \n",
       "2018-03-09  -2.470000  -2.470000   -2.470000   -5.850018  \n",
       "2018-04-03   0.980007   0.980007   -1.489993   -4.870011  \n",
       "...               ...        ...         ...         ...  \n",
       "2022-10-25   0.000000  -0.380005  420.839893  389.189830  \n",
       "2022-11-01   0.000000   0.109996  420.839893  389.299827  \n",
       "2022-11-02  17.230013  17.230013  438.069906  406.529840  \n",
       "2022-12-01   0.000000  -7.970000  438.069906  398.559840  \n",
       "2022-12-19   0.859987   0.859987  438.929893  399.419827  \n",
       "\n",
       "[251 rows x 10 columns]"
      ]
     },
     "execution_count": 49,
     "metadata": {},
     "output_type": "execute_result"
    }
   ],
   "source": [
    "strategy_df"
   ]
  },
  {
   "cell_type": "code",
   "execution_count": 50,
   "metadata": {},
   "outputs": [
    {
     "data": {
      "image/png": "[encoded data removed]",
      "text/plain": [
       "<Figure size 1200x600 with 1 Axes>"
      ]
     },
     "metadata": {},
     "output_type": "display_data"
    }
   ],
   "source": [
    "strategy_df[[\"cum_profit\", \"cum_bare\"]].plot(\n",
    "    figsize=(12, 6),\n",
    "    ylabel=\"Cumulated profit\",\n",
    "    title=\"Example strategy based on SVC predictions +data (Buy only in-sample)\",\n",
    ")\n",
    "ax = plt.gca()\n",
    "text = f\"Strategy cumulated profit: {strategy_df['cum_profit'].iloc[-1]:.2f} in {strategy_df['strategy'].sum()} tradings\"\n",
    "plt.text(0.3, 0.85, text, transform=ax.transAxes)\n",
    "plt.legend()\n",
    "plt.show()"
   ]
  },
  {
   "cell_type": "markdown",
   "metadata": {},
   "source": [
    "### Out-of-sample predictions"
   ]
  },
  {
   "cell_type": "code",
   "execution_count": 51,
   "metadata": {},
   "outputs": [],
   "source": [
    "X_train, X_test, y_train, y_test = train_test_split(\n",
    "    new_df.values,\n",
    "    target.values.flatten(),\n",
    "    test_size=0.2,\n",
    "    random_state=1968,\n",
    "    shuffle=False,\n",
    ")"
   ]
  },
  {
   "cell_type": "code",
   "execution_count": 52,
   "metadata": {},
   "outputs": [],
   "source": [
    "pipe = Pipeline(\n",
    "    [\n",
    "        (\"imputer\", SimpleImputer(strategy=\"constant\", fill_value=0.0)),\n",
    "        (\"scaler\", StandardScaler()),\n",
    "        (\"rf\", SVC(**params)),\n",
    "    ]\n",
    ")"
   ]
  },
  {
   "cell_type": "code",
   "execution_count": 53,
   "metadata": {},
   "outputs": [
    {
     "name": "stdout",
     "output_type": "stream",
     "text": [
      "[LibSVM]......*...*\n",
      "optimization finished, #iter = 9377\n",
      "obj = -28966.055441, rho = -0.020261\n",
      "nSV = 739, nBSV = 545\n",
      "Total nSV = 739\n"
     ]
    },
    {
     "data": {
      "text/html": [
       "<style>#sk-container-id-4 {color: black;}#sk-container-id-4 pre{padding: 0;}#sk-container-id-4 div.sk-toggleable {background-color: white;}#sk-container-id-4 label.sk-toggleable__label {cursor: pointer;display: block;width: 100%;margin-bottom: 0;padding: 0.3em;box-sizing: border-box;text-align: center;}#sk-container-id-4 label.sk-toggleable__label-arrow:before {content: \"▸\";float: left;margin-right: 0.25em;color: #696969;}#sk-container-id-4 label.sk-toggleable__label-arrow:hover:before {color: black;}#sk-container-id-4 div.sk-estimator:hover label.sk-toggleable__label-arrow:before {color: black;}#sk-container-id-4 div.sk-toggleable__content {max-height: 0;max-width: 0;overflow: hidden;text-align: left;background-color: #f0f8ff;}#sk-container-id-4 div.sk-toggleable__content pre {margin: 0.2em;color: black;border-radius: 0.25em;background-color: #f0f8ff;}#sk-container-id-4 input.sk-toggleable__control:checked~div.sk-toggleable__content {max-height: 200px;max-width: 100%;overflow: auto;}#sk-container-id-4 input.sk-toggleable__control:checked~label.sk-toggleable__label-arrow:before {content: \"▾\";}#sk-container-id-4 div.sk-estimator input.sk-toggleable__control:checked~label.sk-toggleable__label {background-color: #d4ebff;}#sk-container-id-4 div.sk-label input.sk-toggleable__control:checked~label.sk-toggleable__label {background-color: #d4ebff;}#sk-container-id-4 input.sk-hidden--visually {border: 0;clip: rect(1px 1px 1px 1px);clip: rect(1px, 1px, 1px, 1px);height: 1px;margin: -1px;overflow: hidden;padding: 0;position: absolute;width: 1px;}#sk-container-id-4 div.sk-estimator {font-family: monospace;background-color: #f0f8ff;border: 1px dotted black;border-radius: 0.25em;box-sizing: border-box;margin-bottom: 0.5em;}#sk-container-id-4 div.sk-estimator:hover {background-color: #d4ebff;}#sk-container-id-4 div.sk-parallel-item::after {content: \"\";width: 100%;border-bottom: 1px solid gray;flex-grow: 1;}#sk-container-id-4 div.sk-label:hover label.sk-toggleable__label {background-color: #d4ebff;}#sk-container-id-4 div.sk-serial::before {content: \"\";position: absolute;border-left: 1px solid gray;box-sizing: border-box;top: 0;bottom: 0;left: 50%;z-index: 0;}#sk-container-id-4 div.sk-serial {display: flex;flex-direction: column;align-items: center;background-color: white;padding-right: 0.2em;padding-left: 0.2em;position: relative;}#sk-container-id-4 div.sk-item {position: relative;z-index: 1;}#sk-container-id-4 div.sk-parallel {display: flex;align-items: stretch;justify-content: center;background-color: white;position: relative;}#sk-container-id-4 div.sk-item::before, #sk-container-id-4 div.sk-parallel-item::before {content: \"\";position: absolute;border-left: 1px solid gray;box-sizing: border-box;top: 0;bottom: 0;left: 50%;z-index: -1;}#sk-container-id-4 div.sk-parallel-item {display: flex;flex-direction: column;z-index: 1;position: relative;background-color: white;}#sk-container-id-4 div.sk-parallel-item:first-child::after {align-self: flex-end;width: 50%;}#sk-container-id-4 div.sk-parallel-item:last-child::after {align-self: flex-start;width: 50%;}#sk-container-id-4 div.sk-parallel-item:only-child::after {width: 0;}#sk-container-id-4 div.sk-dashed-wrapped {border: 1px dashed gray;margin: 0 0.4em 0.5em 0.4em;box-sizing: border-box;padding-bottom: 0.4em;background-color: white;}#sk-container-id-4 div.sk-label label {font-family: monospace;font-weight: bold;display: inline-block;line-height: 1.2em;}#sk-container-id-4 div.sk-label-container {text-align: center;}#sk-container-id-4 div.sk-container {/* jupyter's `normalize.less` sets `[hidden] { display: none; }` but bootstrap.min.css set `[hidden] { display: none !important; }` so we also need the `!important` here to be able to override the default hidden behavior on the sphinx rendered scikit-learn.org. See: https://github.com/scikit-learn/scikit-learn/issues/21755 */display: inline-block !important;position: relative;}#sk-container-id-4 div.sk-text-repr-fallback {display: none;}</style><div id=\"sk-container-id-4\" class=\"sk-top-container\"><div class=\"sk-text-repr-fallback\"><pre>Pipeline(steps=[(&#x27;imputer&#x27;, SimpleImputer(fill_value=0.0, strategy=&#x27;constant&#x27;)),\n",
       "                (&#x27;scaler&#x27;, StandardScaler()),\n",
       "                (&#x27;rf&#x27;,\n",
       "                 SVC(C=52.98316906283707, degree=5, random_state=1968,\n",
       "                     verbose=1))])</pre><b>In a Jupyter environment, please rerun this cell to show the HTML representation or trust the notebook. <br />On GitHub, the HTML representation is unable to render, please try loading this page with nbviewer.org.</b></div><div class=\"sk-container\" hidden><div class=\"sk-item sk-dashed-wrapped\"><div class=\"sk-label-container\"><div class=\"sk-label sk-toggleable\"><input class=\"sk-toggleable__control sk-hidden--visually\" id=\"sk-estimator-id-13\" type=\"checkbox\" ><label for=\"sk-estimator-id-13\" class=\"sk-toggleable__label sk-toggleable__label-arrow\">Pipeline</label><div class=\"sk-toggleable__content\"><pre>Pipeline(steps=[(&#x27;imputer&#x27;, SimpleImputer(fill_value=0.0, strategy=&#x27;constant&#x27;)),\n",
       "                (&#x27;scaler&#x27;, StandardScaler()),\n",
       "                (&#x27;rf&#x27;,\n",
       "                 SVC(C=52.98316906283707, degree=5, random_state=1968,\n",
       "                     verbose=1))])</pre></div></div></div><div class=\"sk-serial\"><div class=\"sk-item\"><div class=\"sk-estimator sk-toggleable\"><input class=\"sk-toggleable__control sk-hidden--visually\" id=\"sk-estimator-id-14\" type=\"checkbox\" ><label for=\"sk-estimator-id-14\" class=\"sk-toggleable__label sk-toggleable__label-arrow\">SimpleImputer</label><div class=\"sk-toggleable__content\"><pre>SimpleImputer(fill_value=0.0, strategy=&#x27;constant&#x27;)</pre></div></div></div><div class=\"sk-item\"><div class=\"sk-estimator sk-toggleable\"><input class=\"sk-toggleable__control sk-hidden--visually\" id=\"sk-estimator-id-15\" type=\"checkbox\" ><label for=\"sk-estimator-id-15\" class=\"sk-toggleable__label sk-toggleable__label-arrow\">StandardScaler</label><div class=\"sk-toggleable__content\"><pre>StandardScaler()</pre></div></div></div><div class=\"sk-item\"><div class=\"sk-estimator sk-toggleable\"><input class=\"sk-toggleable__control sk-hidden--visually\" id=\"sk-estimator-id-16\" type=\"checkbox\" ><label for=\"sk-estimator-id-16\" class=\"sk-toggleable__label sk-toggleable__label-arrow\">SVC</label><div class=\"sk-toggleable__content\"><pre>SVC(C=52.98316906283707, degree=5, random_state=1968, verbose=1)</pre></div></div></div></div></div></div></div>"
      ],
      "text/plain": [
       "Pipeline(steps=[('imputer', SimpleImputer(fill_value=0.0, strategy='constant')),\n",
       "                ('scaler', StandardScaler()),\n",
       "                ('rf',\n",
       "                 SVC(C=52.98316906283707, degree=5, random_state=1968,\n",
       "                     verbose=1))])"
      ]
     },
     "execution_count": 53,
     "metadata": {},
     "output_type": "execute_result"
    }
   ],
   "source": [
    "# Fit the tuned model\n",
    "pipe.fit(X_train, y_train)"
   ]
  },
  {
   "cell_type": "code",
   "execution_count": 54,
   "metadata": {},
   "outputs": [],
   "source": [
    "predictions = pipe.predict(X_test)"
   ]
  },
  {
   "cell_type": "code",
   "execution_count": 55,
   "metadata": {},
   "outputs": [
    {
     "data": {
      "text/plain": [
       "0.5258964143426295"
      ]
     },
     "execution_count": 55,
     "metadata": {},
     "output_type": "execute_result"
    }
   ],
   "source": [
    "pipe.score(X_test, y_test)"
   ]
  },
  {
   "cell_type": "code",
   "execution_count": 56,
   "metadata": {},
   "outputs": [
    {
     "name": "stdout",
     "output_type": "stream",
     "text": [
      "              precision    recall  f1-score   support\n",
      "\n",
      "           0       0.75      0.49      0.59       177\n",
      "           1       0.34      0.62      0.44        74\n",
      "\n",
      "    accuracy                           0.53       251\n",
      "   macro avg       0.55      0.55      0.51       251\n",
      "weighted avg       0.63      0.53      0.55       251\n",
      "\n"
     ]
    },
    {
     "data": {
      "image/png": "[encoded data removed]",
      "text/plain": [
       "<Figure size 640x480 with 2 Axes>"
      ]
     },
     "metadata": {},
     "output_type": "display_data"
    }
   ],
   "source": [
    "display_report(y_test, predictions)"
   ]
  },
  {
   "cell_type": "code",
   "execution_count": 57,
   "metadata": {},
   "outputs": [],
   "source": [
    "compare_df[\"mmar_rf_pred_out\"] = predictions"
   ]
  },
  {
   "cell_type": "markdown",
   "metadata": {},
   "source": [
    "### Backtest strategy"
   ]
  },
  {
   "cell_type": "code",
   "execution_count": 58,
   "metadata": {},
   "outputs": [],
   "source": [
    "strategy = []\n",
    "date_idx = []\n",
    "for x, i in enumerate(range(len(predictions), 0, -1)):\n",
    "    row = new_df.iloc[-i, :].to_dict()\n",
    "    quote_date = new_df.index[-i]\n",
    "    exp_date = pd.to_datetime(ml_df.loc[quote_date, \"EXPIRE_DATE\"])\n",
    "    final_price = spy.loc[exp_date, \"Close\"]\n",
    "    call_price = row[\"C_LAST\"]\n",
    "    strike = row[\"STRIKE\"]\n",
    "    if predictions[x]:  # buy\n",
    "        if final_price > strike:\n",
    "            profit = final_price - (strike + call_price)\n",
    "        else:\n",
    "            profit = -call_price\n",
    "        res = {\n",
    "            \"strategy\": predictions[x],\n",
    "            \"strike\": strike,\n",
    "            \"call_price\": row[\"C_LAST\"],\n",
    "            \"exp_call\": row[\"exp_call_price\"],\n",
    "            \"exp_date\": ml_df.loc[quote_date, \"EXPIRE_DATE\"],\n",
    "            \"final_price\": final_price,\n",
    "            \"profit\": profit,\n",
    "            \"bare\": max(final_price - (strike + call_price), -call_price),\n",
    "        }\n",
    "    else:\n",
    "        res = {\n",
    "            \"strategy\": predictions[x],\n",
    "            \"strike\": strike,\n",
    "            \"call_price\": row[\"C_LAST\"],\n",
    "            \"exp_call\": row[\"exp_call_price\"],\n",
    "            \"exp_date\": ml_df.loc[quote_date, \"EXPIRE_DATE\"],\n",
    "            \"final_price\": final_price,\n",
    "            \"profit\": 0.0,\n",
    "            \"bare\": max(final_price - (strike + call_price), -call_price),\n",
    "        }\n",
    "    strategy.append(res)\n",
    "    date_idx.append(quote_date)"
   ]
  },
  {
   "cell_type": "code",
   "execution_count": 59,
   "metadata": {},
   "outputs": [],
   "source": [
    "strategy_df = pd.DataFrame(strategy, pd.Index(name=\"Date\", data=date_idx))"
   ]
  },
  {
   "cell_type": "code",
   "execution_count": 60,
   "metadata": {},
   "outputs": [],
   "source": [
    "strategy_df[\"cum_profit\"] = np.cumsum(strategy_df.profit.values)\n",
    "strategy_df[\"cum_bare\"] = np.cumsum(strategy_df.bare.values)"
   ]
  },
  {
   "cell_type": "code",
   "execution_count": 61,
   "metadata": {},
   "outputs": [
    {
     "data": {
      "text/html": [
       "<div>\n",
       "<style scoped>\n",
       "    .dataframe tbody tr th:only-of-type {\n",
       "        vertical-align: middle;\n",
       "    }\n",
       "\n",
       "    .dataframe tbody tr th {\n",
       "        vertical-align: top;\n",
       "    }\n",
       "\n",
       "    .dataframe thead th {\n",
       "        text-align: right;\n",
       "    }\n",
       "</style>\n",
       "<table border=\"1\" class=\"dataframe\">\n",
       "  <thead>\n",
       "    <tr style=\"text-align: right;\">\n",
       "      <th></th>\n",
       "      <th>strategy</th>\n",
       "      <th>strike</th>\n",
       "      <th>call_price</th>\n",
       "      <th>exp_call</th>\n",
       "      <th>exp_date</th>\n",
       "      <th>final_price</th>\n",
       "      <th>profit</th>\n",
       "      <th>bare</th>\n",
       "      <th>cum_profit</th>\n",
       "      <th>cum_bare</th>\n",
       "    </tr>\n",
       "    <tr>\n",
       "      <th>Date</th>\n",
       "      <th></th>\n",
       "      <th></th>\n",
       "      <th></th>\n",
       "      <th></th>\n",
       "      <th></th>\n",
       "      <th></th>\n",
       "      <th></th>\n",
       "      <th></th>\n",
       "      <th></th>\n",
       "      <th></th>\n",
       "    </tr>\n",
       "  </thead>\n",
       "  <tbody>\n",
       "    <tr>\n",
       "      <th>2022-01-03</th>\n",
       "      <td>0</td>\n",
       "      <td>478.0</td>\n",
       "      <td>4.81</td>\n",
       "      <td>10.248337</td>\n",
       "      <td>2022-01-24</td>\n",
       "      <td>439.839996</td>\n",
       "      <td>0.000000</td>\n",
       "      <td>-4.810000</td>\n",
       "      <td>0.000000</td>\n",
       "      <td>-4.810000</td>\n",
       "    </tr>\n",
       "    <tr>\n",
       "      <th>2022-01-04</th>\n",
       "      <td>0</td>\n",
       "      <td>478.0</td>\n",
       "      <td>4.80</td>\n",
       "      <td>9.610177</td>\n",
       "      <td>2022-01-24</td>\n",
       "      <td>439.839996</td>\n",
       "      <td>0.000000</td>\n",
       "      <td>-4.800000</td>\n",
       "      <td>0.000000</td>\n",
       "      <td>-9.610000</td>\n",
       "    </tr>\n",
       "    <tr>\n",
       "      <th>2022-01-05</th>\n",
       "      <td>0</td>\n",
       "      <td>468.0</td>\n",
       "      <td>8.14</td>\n",
       "      <td>10.191128</td>\n",
       "      <td>2022-01-26</td>\n",
       "      <td>433.380005</td>\n",
       "      <td>0.000000</td>\n",
       "      <td>-8.140000</td>\n",
       "      <td>0.000000</td>\n",
       "      <td>-17.750000</td>\n",
       "    </tr>\n",
       "    <tr>\n",
       "      <th>2022-01-06</th>\n",
       "      <td>1</td>\n",
       "      <td>468.0</td>\n",
       "      <td>7.00</td>\n",
       "      <td>9.657596</td>\n",
       "      <td>2022-01-26</td>\n",
       "      <td>433.380005</td>\n",
       "      <td>-7.000000</td>\n",
       "      <td>-7.000000</td>\n",
       "      <td>-7.000000</td>\n",
       "      <td>-24.750000</td>\n",
       "    </tr>\n",
       "    <tr>\n",
       "      <th>2022-01-07</th>\n",
       "      <td>0</td>\n",
       "      <td>466.0</td>\n",
       "      <td>7.56</td>\n",
       "      <td>9.927762</td>\n",
       "      <td>2022-01-28</td>\n",
       "      <td>441.950012</td>\n",
       "      <td>0.000000</td>\n",
       "      <td>-7.560000</td>\n",
       "      <td>-7.000000</td>\n",
       "      <td>-32.310000</td>\n",
       "    </tr>\n",
       "    <tr>\n",
       "      <th>...</th>\n",
       "      <td>...</td>\n",
       "      <td>...</td>\n",
       "      <td>...</td>\n",
       "      <td>...</td>\n",
       "      <td>...</td>\n",
       "      <td>...</td>\n",
       "      <td>...</td>\n",
       "      <td>...</td>\n",
       "      <td>...</td>\n",
       "      <td>...</td>\n",
       "    </tr>\n",
       "    <tr>\n",
       "      <th>2022-12-23</th>\n",
       "      <td>0</td>\n",
       "      <td>383.0</td>\n",
       "      <td>8.00</td>\n",
       "      <td>8.453400</td>\n",
       "      <td>2023-01-13</td>\n",
       "      <td>398.500000</td>\n",
       "      <td>0.000000</td>\n",
       "      <td>7.500000</td>\n",
       "      <td>-174.080034</td>\n",
       "      <td>-525.980022</td>\n",
       "    </tr>\n",
       "    <tr>\n",
       "      <th>2022-12-26</th>\n",
       "      <td>0</td>\n",
       "      <td>383.0</td>\n",
       "      <td>7.96</td>\n",
       "      <td>8.096501</td>\n",
       "      <td>2023-01-13</td>\n",
       "      <td>398.500000</td>\n",
       "      <td>0.000000</td>\n",
       "      <td>7.540000</td>\n",
       "      <td>-174.080034</td>\n",
       "      <td>-518.440022</td>\n",
       "    </tr>\n",
       "    <tr>\n",
       "      <th>2022-12-28</th>\n",
       "      <td>0</td>\n",
       "      <td>377.0</td>\n",
       "      <td>8.75</td>\n",
       "      <td>8.526141</td>\n",
       "      <td>2023-01-20</td>\n",
       "      <td>395.880005</td>\n",
       "      <td>0.000000</td>\n",
       "      <td>10.130005</td>\n",
       "      <td>-174.080034</td>\n",
       "      <td>-508.310017</td>\n",
       "    </tr>\n",
       "    <tr>\n",
       "      <th>2022-12-29</th>\n",
       "      <td>1</td>\n",
       "      <td>383.0</td>\n",
       "      <td>8.50</td>\n",
       "      <td>8.908718</td>\n",
       "      <td>2023-01-20</td>\n",
       "      <td>395.880005</td>\n",
       "      <td>4.380005</td>\n",
       "      <td>4.380005</td>\n",
       "      <td>-169.700029</td>\n",
       "      <td>-503.930012</td>\n",
       "    </tr>\n",
       "    <tr>\n",
       "      <th>2022-12-30</th>\n",
       "      <td>0</td>\n",
       "      <td>382.0</td>\n",
       "      <td>8.21</td>\n",
       "      <td>8.652675</td>\n",
       "      <td>2023-01-20</td>\n",
       "      <td>395.880005</td>\n",
       "      <td>0.000000</td>\n",
       "      <td>5.670005</td>\n",
       "      <td>-169.700029</td>\n",
       "      <td>-498.260007</td>\n",
       "    </tr>\n",
       "  </tbody>\n",
       "</table>\n",
       "<p>251 rows × 10 columns</p>\n",
       "</div>"
      ],
      "text/plain": [
       "            strategy  strike  call_price   exp_call    exp_date  final_price  \\\n",
       "Date                                                                           \n",
       "2022-01-03         0   478.0        4.81  10.248337  2022-01-24   439.839996   \n",
       "2022-01-04         0   478.0        4.80   9.610177  2022-01-24   439.839996   \n",
       "2022-01-05         0   468.0        8.14  10.191128  2022-01-26   433.380005   \n",
       "2022-01-06         1   468.0        7.00   9.657596  2022-01-26   433.380005   \n",
       "2022-01-07         0   466.0        7.56   9.927762  2022-01-28   441.950012   \n",
       "...              ...     ...         ...        ...         ...          ...   \n",
       "2022-12-23         0   383.0        8.00   8.453400  2023-01-13   398.500000   \n",
       "2022-12-26         0   383.0        7.96   8.096501  2023-01-13   398.500000   \n",
       "2022-12-28         0   377.0        8.75   8.526141  2023-01-20   395.880005   \n",
       "2022-12-29         1   383.0        8.50   8.908718  2023-01-20   395.880005   \n",
       "2022-12-30         0   382.0        8.21   8.652675  2023-01-20   395.880005   \n",
       "\n",
       "              profit       bare  cum_profit    cum_bare  \n",
       "Date                                                     \n",
       "2022-01-03  0.000000  -4.810000    0.000000   -4.810000  \n",
       "2022-01-04  0.000000  -4.800000    0.000000   -9.610000  \n",
       "2022-01-05  0.000000  -8.140000    0.000000  -17.750000  \n",
       "2022-01-06 -7.000000  -7.000000   -7.000000  -24.750000  \n",
       "2022-01-07  0.000000  -7.560000   -7.000000  -32.310000  \n",
       "...              ...        ...         ...         ...  \n",
       "2022-12-23  0.000000   7.500000 -174.080034 -525.980022  \n",
       "2022-12-26  0.000000   7.540000 -174.080034 -518.440022  \n",
       "2022-12-28  0.000000  10.130005 -174.080034 -508.310017  \n",
       "2022-12-29  4.380005   4.380005 -169.700029 -503.930012  \n",
       "2022-12-30  0.000000   5.670005 -169.700029 -498.260007  \n",
       "\n",
       "[251 rows x 10 columns]"
      ]
     },
     "execution_count": 61,
     "metadata": {},
     "output_type": "execute_result"
    }
   ],
   "source": [
    "strategy_df"
   ]
  },
  {
   "cell_type": "code",
   "execution_count": 62,
   "metadata": {},
   "outputs": [
    {
     "data": {
      "image/png": "[encoded data removed]",
      "text/plain": [
       "<Figure size 1200x600 with 1 Axes>"
      ]
     },
     "metadata": {},
     "output_type": "display_data"
    }
   ],
   "source": [
    "strategy_df[[\"cum_profit\", \"cum_bare\"]].plot(\n",
    "    figsize=(12, 6),\n",
    "    ylabel=\"Cumulated profit\",\n",
    "    title=\"Example strategy based on SVC predictions + data (Buy only out-of-sample)\",\n",
    ")\n",
    "ax = plt.gca()\n",
    "text = f\"Strategy cumulated profit: {strategy_df['cum_profit'].iloc[-1]:.2f} in {strategy_df['strategy'].sum()} tradings\"\n",
    "plt.text(0.3, 0.85, text, transform=ax.transAxes)\n",
    "plt.legend()\n",
    "plt.show()"
   ]
  },
  {
   "cell_type": "markdown",
   "metadata": {},
   "source": [
    "## Compare the two predictions"
   ]
  },
  {
   "cell_type": "code",
   "execution_count": 63,
   "metadata": {},
   "outputs": [],
   "source": [
    "mask_in = (compare_df[\"bare_rf_pred_in\"] - compare_df[\"mmar_rf_pred_in\"]).astype(bool)\n",
    "mask_out = (compare_df[\"bare_rf_pred_out\"] - compare_df[\"mmar_rf_pred_out\"]).astype(\n",
    "    bool\n",
    ")"
   ]
  },
  {
   "cell_type": "code",
   "execution_count": 64,
   "metadata": {},
   "outputs": [
    {
     "data": {
      "text/html": [
       "<div>\n",
       "<style scoped>\n",
       "    .dataframe tbody tr th:only-of-type {\n",
       "        vertical-align: middle;\n",
       "    }\n",
       "\n",
       "    .dataframe tbody tr th {\n",
       "        vertical-align: top;\n",
       "    }\n",
       "\n",
       "    .dataframe thead th {\n",
       "        text-align: right;\n",
       "    }\n",
       "</style>\n",
       "<table border=\"1\" class=\"dataframe\">\n",
       "  <thead>\n",
       "    <tr style=\"text-align: right;\">\n",
       "      <th></th>\n",
       "      <th>bare_rf_pred_in</th>\n",
       "      <th>bare_rf_pred_out</th>\n",
       "      <th>mmar_rf_pred_in</th>\n",
       "      <th>mmar_rf_pred_out</th>\n",
       "    </tr>\n",
       "  </thead>\n",
       "  <tbody>\n",
       "    <tr>\n",
       "      <th>0</th>\n",
       "      <td>1</td>\n",
       "      <td>0</td>\n",
       "      <td>0</td>\n",
       "      <td>0</td>\n",
       "    </tr>\n",
       "    <tr>\n",
       "      <th>3</th>\n",
       "      <td>0</td>\n",
       "      <td>0</td>\n",
       "      <td>1</td>\n",
       "      <td>1</td>\n",
       "    </tr>\n",
       "    <tr>\n",
       "      <th>5</th>\n",
       "      <td>1</td>\n",
       "      <td>0</td>\n",
       "      <td>0</td>\n",
       "      <td>1</td>\n",
       "    </tr>\n",
       "    <tr>\n",
       "      <th>6</th>\n",
       "      <td>0</td>\n",
       "      <td>1</td>\n",
       "      <td>1</td>\n",
       "      <td>0</td>\n",
       "    </tr>\n",
       "    <tr>\n",
       "      <th>15</th>\n",
       "      <td>1</td>\n",
       "      <td>1</td>\n",
       "      <td>0</td>\n",
       "      <td>1</td>\n",
       "    </tr>\n",
       "    <tr>\n",
       "      <th>...</th>\n",
       "      <td>...</td>\n",
       "      <td>...</td>\n",
       "      <td>...</td>\n",
       "      <td>...</td>\n",
       "    </tr>\n",
       "    <tr>\n",
       "      <th>243</th>\n",
       "      <td>1</td>\n",
       "      <td>1</td>\n",
       "      <td>0</td>\n",
       "      <td>0</td>\n",
       "    </tr>\n",
       "    <tr>\n",
       "      <th>246</th>\n",
       "      <td>1</td>\n",
       "      <td>0</td>\n",
       "      <td>0</td>\n",
       "      <td>0</td>\n",
       "    </tr>\n",
       "    <tr>\n",
       "      <th>247</th>\n",
       "      <td>1</td>\n",
       "      <td>1</td>\n",
       "      <td>0</td>\n",
       "      <td>0</td>\n",
       "    </tr>\n",
       "    <tr>\n",
       "      <th>249</th>\n",
       "      <td>0</td>\n",
       "      <td>0</td>\n",
       "      <td>1</td>\n",
       "      <td>1</td>\n",
       "    </tr>\n",
       "    <tr>\n",
       "      <th>250</th>\n",
       "      <td>1</td>\n",
       "      <td>0</td>\n",
       "      <td>0</td>\n",
       "      <td>0</td>\n",
       "    </tr>\n",
       "  </tbody>\n",
       "</table>\n",
       "<p>89 rows × 4 columns</p>\n",
       "</div>"
      ],
      "text/plain": [
       "     bare_rf_pred_in  bare_rf_pred_out  mmar_rf_pred_in  mmar_rf_pred_out\n",
       "0                  1                 0                0                 0\n",
       "3                  0                 0                1                 1\n",
       "5                  1                 0                0                 1\n",
       "6                  0                 1                1                 0\n",
       "15                 1                 1                0                 1\n",
       "..               ...               ...              ...               ...\n",
       "243                1                 1                0                 0\n",
       "246                1                 0                0                 0\n",
       "247                1                 1                0                 0\n",
       "249                0                 0                1                 1\n",
       "250                1                 0                0                 0\n",
       "\n",
       "[89 rows x 4 columns]"
      ]
     },
     "execution_count": 64,
     "metadata": {},
     "output_type": "execute_result"
    }
   ],
   "source": [
    "# Compare in sample preds\n",
    "compare_df[mask_in]"
   ]
  },
  {
   "cell_type": "code",
   "execution_count": 65,
   "metadata": {},
   "outputs": [
    {
     "data": {
      "text/plain": [
       "(89, 4)"
      ]
     },
     "execution_count": 65,
     "metadata": {},
     "output_type": "execute_result"
    }
   ],
   "source": [
    "compare_df[mask_in].shape"
   ]
  },
  {
   "cell_type": "code",
   "execution_count": 66,
   "metadata": {},
   "outputs": [
    {
     "data": {
      "text/html": [
       "<div>\n",
       "<style scoped>\n",
       "    .dataframe tbody tr th:only-of-type {\n",
       "        vertical-align: middle;\n",
       "    }\n",
       "\n",
       "    .dataframe tbody tr th {\n",
       "        vertical-align: top;\n",
       "    }\n",
       "\n",
       "    .dataframe thead th {\n",
       "        text-align: right;\n",
       "    }\n",
       "</style>\n",
       "<table border=\"1\" class=\"dataframe\">\n",
       "  <thead>\n",
       "    <tr style=\"text-align: right;\">\n",
       "      <th></th>\n",
       "      <th>bare_rf_pred_in</th>\n",
       "      <th>bare_rf_pred_out</th>\n",
       "      <th>mmar_rf_pred_in</th>\n",
       "      <th>mmar_rf_pred_out</th>\n",
       "    </tr>\n",
       "  </thead>\n",
       "  <tbody>\n",
       "    <tr>\n",
       "      <th>3</th>\n",
       "      <td>0</td>\n",
       "      <td>0</td>\n",
       "      <td>1</td>\n",
       "      <td>1</td>\n",
       "    </tr>\n",
       "    <tr>\n",
       "      <th>5</th>\n",
       "      <td>1</td>\n",
       "      <td>0</td>\n",
       "      <td>0</td>\n",
       "      <td>1</td>\n",
       "    </tr>\n",
       "    <tr>\n",
       "      <th>6</th>\n",
       "      <td>0</td>\n",
       "      <td>1</td>\n",
       "      <td>1</td>\n",
       "      <td>0</td>\n",
       "    </tr>\n",
       "    <tr>\n",
       "      <th>7</th>\n",
       "      <td>1</td>\n",
       "      <td>0</td>\n",
       "      <td>1</td>\n",
       "      <td>1</td>\n",
       "    </tr>\n",
       "    <tr>\n",
       "      <th>8</th>\n",
       "      <td>0</td>\n",
       "      <td>0</td>\n",
       "      <td>0</td>\n",
       "      <td>1</td>\n",
       "    </tr>\n",
       "    <tr>\n",
       "      <th>...</th>\n",
       "      <td>...</td>\n",
       "      <td>...</td>\n",
       "      <td>...</td>\n",
       "      <td>...</td>\n",
       "    </tr>\n",
       "    <tr>\n",
       "      <th>236</th>\n",
       "      <td>0</td>\n",
       "      <td>1</td>\n",
       "      <td>1</td>\n",
       "      <td>0</td>\n",
       "    </tr>\n",
       "    <tr>\n",
       "      <th>240</th>\n",
       "      <td>1</td>\n",
       "      <td>1</td>\n",
       "      <td>1</td>\n",
       "      <td>0</td>\n",
       "    </tr>\n",
       "    <tr>\n",
       "      <th>243</th>\n",
       "      <td>1</td>\n",
       "      <td>1</td>\n",
       "      <td>0</td>\n",
       "      <td>0</td>\n",
       "    </tr>\n",
       "    <tr>\n",
       "      <th>247</th>\n",
       "      <td>1</td>\n",
       "      <td>1</td>\n",
       "      <td>0</td>\n",
       "      <td>0</td>\n",
       "    </tr>\n",
       "    <tr>\n",
       "      <th>249</th>\n",
       "      <td>0</td>\n",
       "      <td>0</td>\n",
       "      <td>1</td>\n",
       "      <td>1</td>\n",
       "    </tr>\n",
       "  </tbody>\n",
       "</table>\n",
       "<p>114 rows × 4 columns</p>\n",
       "</div>"
      ],
      "text/plain": [
       "     bare_rf_pred_in  bare_rf_pred_out  mmar_rf_pred_in  mmar_rf_pred_out\n",
       "3                  0                 0                1                 1\n",
       "5                  1                 0                0                 1\n",
       "6                  0                 1                1                 0\n",
       "7                  1                 0                1                 1\n",
       "8                  0                 0                0                 1\n",
       "..               ...               ...              ...               ...\n",
       "236                0                 1                1                 0\n",
       "240                1                 1                1                 0\n",
       "243                1                 1                0                 0\n",
       "247                1                 1                0                 0\n",
       "249                0                 0                1                 1\n",
       "\n",
       "[114 rows x 4 columns]"
      ]
     },
     "execution_count": 66,
     "metadata": {},
     "output_type": "execute_result"
    }
   ],
   "source": [
    "# Compare out of sample preds\n",
    "compare_df[mask_out]"
   ]
  },
  {
   "cell_type": "code",
   "execution_count": 67,
   "metadata": {},
   "outputs": [
    {
     "data": {
      "text/plain": [
       "(114, 4)"
      ]
     },
     "execution_count": 67,
     "metadata": {},
     "output_type": "execute_result"
    }
   ],
   "source": [
    "compare_df[mask_out].shape"
   ]
  },
  {
   "cell_type": "code",
   "execution_count": 68,
   "metadata": {},
   "outputs": [
    {
     "data": {
      "text/plain": [
       "bare_rf_pred_in     175\n",
       "bare_rf_pred_out     73\n",
       "mmar_rf_pred_in     126\n",
       "mmar_rf_pred_out    137\n",
       "dtype: int64"
      ]
     },
     "execution_count": 68,
     "metadata": {},
     "output_type": "execute_result"
    }
   ],
   "source": [
    "compare_df.sum(axis=0)"
   ]
  },
  {
   "cell_type": "markdown",
   "metadata": {},
   "source": []
  }
 ],
 "metadata": {
  "kernelspec": {
   "display_name": ".venv",
   "language": "python",
   "name": "python3"
  },
  "language_info": {
   "codemirror_mode": {
    "name": "ipython",
    "version": 3
   },
   "file_extension": ".py",
   "mimetype": "text/x-python",
   "name": "python",
   "nbconvert_exporter": "python",
   "pygments_lexer": "ipython3",
   "version": "3.11.6"
  }
 },
 "nbformat": 4,
 "nbformat_minor": 2
}
